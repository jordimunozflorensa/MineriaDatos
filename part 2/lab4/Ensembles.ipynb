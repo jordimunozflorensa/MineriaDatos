{
 "cells": [
  {
   "cell_type": "code",
   "execution_count": 1,
   "metadata": {
    "ExecuteTime": {
     "end_time": "2023-12-10T19:41:17.354688Z",
     "start_time": "2023-12-10T19:41:14.048003Z"
    },
    "pycharm": {
     "name": "#%%\n"
    }
   },
   "outputs": [],
   "source": [
    "import time\n",
    "import warnings\n",
    "import matplotlib.pyplot as plt\n",
    "import sklearn.datasets as ds\n",
    "import sklearn.model_selection as cv\n",
    "from sklearn.naive_bayes import GaussianNB\n",
    "from sklearn.model_selection import GridSearchCV\n",
    "from sklearn.model_selection import cross_val_score\n",
    "from sklearn.tree import DecisionTreeClassifier\n",
    "from sklearn.neighbors import KNeighborsClassifier\n",
    "from sklearn.ensemble import (\n",
    "    AdaBoostClassifier,\n",
    "    BaggingClassifier,\n",
    "    ExtraTreesClassifier,\n",
    "    RandomForestClassifier,\n",
    "    VotingClassifier,    \n",
    ")\n",
    "\n",
    "%matplotlib inline"
   ]
  },
  {
   "cell_type": "code",
   "execution_count": 3,
   "metadata": {
    "ExecuteTime": {
     "end_time": "2023-12-10T19:41:20.865532Z",
     "start_time": "2023-12-10T19:41:20.847571Z"
    },
    "pycharm": {
     "name": "#%%\n"
    }
   },
   "outputs": [],
   "source": [
    "# Load dataset\n",
    "digits = ds.load_digits()\n",
    "X, y = digits.data, digits.target\n",
    "(X_train, X_test,  y_train, y_test) = cv.train_test_split(X, y, test_size = .3, random_state = 1)"
   ]
  },
  {
   "cell_type": "code",
   "execution_count": 5,
   "metadata": {
    "ExecuteTime": {
     "end_time": "2023-12-10T20:10:37.821131Z",
     "start_time": "2023-12-10T20:10:37.648242Z"
    },
    "pycharm": {
     "name": "#%%\n"
    }
   },
   "outputs": [
    {
     "data": {
      "image/png": "[encoded data removed]",
      "text/plain": [
       "<Figure size 1200x600 with 10 Axes>"
      ]
     },
     "metadata": {},
     "output_type": "display_data"
    }
   ],
   "source": [
    "# Plot 1 sample per category\n",
    "nrows, ncols = 2, 5\n",
    "plt.figure(figsize=(12,6))\n",
    "plt.gray()\n",
    "for i in range(ncols * nrows):\n",
    "    ax = plt.subplot(nrows, ncols, i + 1)\n",
    "    ax.matshow(digits.images[i,...])\n",
    "    plt.xticks([]); plt.yticks([])\n",
    "    plt.title(digits.target[i])\n",
    "plt.show()"
   ]
  },
  {
   "cell_type": "code",
   "execution_count": 23,
   "metadata": {
    "ExecuteTime": {
     "end_time": "2023-12-10T20:09:58.050090Z",
     "start_time": "2023-12-10T20:09:58.047524Z"
    },
    "pycharm": {
     "name": "#%%\n"
    }
   },
   "outputs": [],
   "source": [
    "# Define a function to measure execution's time. It will be use as a 'decorator'\n",
    "# The idea behind this is just to use it to estimate the time it will take for the\n",
    "# full code to run if you want to know before training with the complete dataset\n",
    "# using a subset of size known in relationship with the full dataset.\n",
    "def compute_executions_time(function):\n",
    "    def wrapper():\n",
    "        start_time = time.time()  # init measuring time\n",
    "        function()  # execute function\n",
    "        print(f\"\\n{time.time() - start_time} seconds\")  # print execution time\n",
    "    return wrapper"
   ]
  },
  {
   "cell_type": "code",
   "execution_count": 24,
   "metadata": {
    "ExecuteTime": {
     "end_time": "2023-12-10T19:42:47.474679Z",
     "start_time": "2023-12-10T19:42:47.290643Z"
    },
    "pycharm": {
     "name": "#%%\n"
    }
   },
   "outputs": [
    {
     "name": "stdout",
     "output_type": "stream",
     "text": [
      "Random Forest Score (Train): 1.0\n",
      "Random Forest Score (Test):  0.9777777777777777\n"
     ]
    }
   ],
   "source": [
    "# Random Forest Classifier: just for you to see the performance of this algorithm that we already\n",
    "# know and compare it\n",
    "random_forest_classifier = RandomForestClassifier(\n",
    "    n_estimators = 100\n",
    ")\n",
    "\n",
    "random_forest_classifier.fit(X_train, y_train)\n",
    "print(f\"Random Forest Score (Train): {random_forest_classifier.score(X_train, y_train)}\")\n",
    "print(f\"Random Forest Score (Test):  {random_forest_classifier.score(X_test, y_test)}\")"
   ]
  },
  {
   "cell_type": "markdown",
   "metadata": {
    "pycharm": {
     "name": "#%% md\n"
    }
   },
   "source": [
    "## **Random Forest**"
   ]
  },
  {
   "cell_type": "code",
   "execution_count": 21,
   "metadata": {
    "ExecuteTime": {
     "end_time": "2023-12-10T19:48:57.712663Z",
     "start_time": "2023-12-10T19:48:50.739941Z"
    },
    "pycharm": {
     "name": "#%%\n"
    }
   },
   "outputs": [
    {
     "name": "stdout",
     "output_type": "stream",
     "text": [
      "Accuracy: 0.727 [nº estimators (trees): 1]\n",
      "Accuracy: 0.736 [nº estimators (trees): 2]\n",
      "Accuracy: 0.882 [nº estimators (trees): 5]\n",
      "Accuracy: 0.920 [nº estimators (trees): 10]\n",
      "Accuracy: 0.934 [nº estimators (trees): 20]\n",
      "Accuracy: 0.948 [nº estimators (trees): 50]\n",
      "Accuracy: 0.947 [nº estimators (trees): 100]\n",
      "Accuracy: 0.951 [nº estimators (trees): 200]\n",
      "\n",
      "7.017329931259155 seconds\n"
     ]
    }
   ],
   "source": [
    "@compute_executions_time\n",
    "def execute_random_forest_with_different_estimators_and_cv(cv=10):\n",
    "    for n_trees in [1, 2, 5, 10, 20, 50, 100, 200]:\n",
    "        random_forest_classifier = RandomForestClassifier(\n",
    "            n_estimators = n_trees\n",
    "        )\n",
    "        scores = cross_val_score(\n",
    "            estimator = random_forest_classifier,\n",
    "            X = X,\n",
    "            y = y,\n",
    "            cv=cv,\n",
    "            scoring=\"accuracy\"\n",
    "        )\n",
    "        print(f\"Accuracy: {scores.mean():.3f} [nº estimators (trees): {n_trees}]\")\n",
    "        \n",
    "execute_random_forest_with_different_estimators_and_cv();"
   ]
  },
  {
   "cell_type": "markdown",
   "metadata": {
    "pycharm": {
     "name": "#%% md\n"
    }
   },
   "source": [
    "## **Bagging**"
   ]
  },
  {
   "cell_type": "code",
   "execution_count": 18,
   "metadata": {
    "ExecuteTime": {
     "end_time": "2023-12-10T20:09:43.713241Z",
     "start_time": "2023-12-10T20:09:11.620109Z"
    },
    "pycharm": {
     "name": "#%%\n"
    }
   },
   "outputs": [
    {
     "name": "stdout",
     "output_type": "stream",
     "text": [
      "Accuracy: 0.804 [nº estimators: 1]\n",
      "Accuracy: 0.802 [nº estimators: 2]\n",
      "Accuracy: 0.872 [nº estimators: 5]\n",
      "Accuracy: 0.905 [nº estimators: 10]\n",
      "Accuracy: 0.916 [nº estimators: 20]\n",
      "Accuracy: 0.921 [nº estimators: 50]\n",
      "Accuracy: 0.923 [nº estimators: 100]\n",
      "Accuracy: 0.923 [nº estimators: 200]\n"
     ]
    }
   ],
   "source": [
    "## Bagging\n",
    "lb=[]\n",
    "for nest in [1, 2, 5, 10, 20, 50, 100, 200]:\n",
    "    scores = cross_val_score(\n",
    "        BaggingClassifier(\n",
    "            estimator = DecisionTreeClassifier(),\n",
    "            n_estimators = nest\n",
    "        ), \n",
    "        X, \n",
    "        y, \n",
    "        cv = 10, \n",
    "        scoring=\"accuracy\"\n",
    "    )\n",
    "    print(f\"Accuracy: {scores.mean():.3f} [nº estimators: {nest}]\")\n",
    "    lb.append(scores.mean())"
   ]
  },
  {
   "cell_type": "code",
   "execution_count": 19,
   "metadata": {
    "ExecuteTime": {
     "end_time": "2023-12-10T20:09:58.049904Z",
     "start_time": "2023-12-10T20:09:43.711573Z"
    }
   },
   "outputs": [
    {
     "name": "stdout",
     "output_type": "stream",
     "text": [
      "\n",
      "Accuracy: 0.713 [nº estimators: 1]\n",
      "Accuracy: 0.698 [nº estimators: 2]\n",
      "Accuracy: 0.856 [nº estimators: 5]\n",
      "Accuracy: 0.912 [nº estimators: 10]\n",
      "Accuracy: 0.938 [nº estimators: 20]\n",
      "Accuracy: 0.953 [nº estimators: 50]\n",
      "Accuracy: 0.943 [nº estimators: 100]\n",
      "Accuracy: 0.949 [nº estimators: 200]\n"
     ]
    }
   ],
   "source": [
    "lb2=[]\n",
    "print()\n",
    "for nest in [1, 2, 5, 10, 20, 50, 100, 200]:\n",
    "    scores = cross_val_score(\n",
    "        BaggingClassifier(\n",
    "            estimator = DecisionTreeClassifier(),\n",
    "            n_estimators = nest,\n",
    "            max_features = 0.35\n",
    "        ), \n",
    "        X, \n",
    "        y, \n",
    "        cv = 10, \n",
    "        scoring=\"accuracy\"\n",
    "    )\n",
    "    print(f\"Accuracy: {scores.mean():.3f} [nº estimators: {nest}]\")\n",
    "    lb2.append(scores.mean())"
   ]
  },
  {
   "cell_type": "markdown",
   "metadata": {
    "pycharm": {
     "name": "#%% md\n"
    }
   },
   "source": [
    "## **Extra Trees Classifier**"
   ]
  },
  {
   "cell_type": "code",
   "execution_count": 20,
   "metadata": {
    "ExecuteTime": {
     "end_time": "2023-12-10T20:01:23.081508Z",
     "start_time": "2023-12-10T20:01:17.806463Z"
    },
    "pycharm": {
     "name": "#%%\n"
    }
   },
   "outputs": [
    {
     "name": "stdout",
     "output_type": "stream",
     "text": [
      "Accuracy: 0.730 [nº estimators (trees): 1]\n",
      "Accuracy: 0.758 [nº estimators (trees): 2]\n",
      "Accuracy: 0.903 [nº estimators (trees): 5]\n",
      "Accuracy: 0.934 [nº estimators (trees): 10]\n",
      "Accuracy: 0.949 [nº estimators (trees): 20]\n",
      "Accuracy: 0.954 [nº estimators (trees): 50]\n",
      "Accuracy: 0.962 [nº estimators (trees): 100]\n",
      "Accuracy: 0.965 [nº estimators (trees): 200]\n",
      "\n",
      "5.273593902587891 seconds\n"
     ]
    }
   ],
   "source": [
    "@compute_executions_time\n",
    "def execute_extra_trees_classifier_with_different_estimators_and_cv(cv=10):\n",
    "    for n_trees in [1, 2, 5, 10, 20, 50, 100, 200]:\n",
    "        extra_trees_classifier = ExtraTreesClassifier(\n",
    "            n_estimators = n_trees\n",
    "        )\n",
    "        scores = cross_val_score(\n",
    "            estimator = extra_trees_classifier,\n",
    "            X = X,\n",
    "            y = y,\n",
    "            cv = cv,\n",
    "            scoring = \"accuracy\"\n",
    "        )\n",
    "        print(f\"Accuracy: {scores.mean():.3f} [nº estimators (trees): {n_trees}]\")\n",
    "\n",
    "execute_extra_trees_classifier_with_different_estimators_and_cv()"
   ]
  },
  {
   "cell_type": "markdown",
   "metadata": {
    "pycharm": {
     "name": "#%% md\n"
    }
   },
   "source": [
    "## **Voting Scheme**"
   ]
  },
  {
   "cell_type": "code",
   "execution_count": 25,
   "metadata": {
    "ExecuteTime": {
     "end_time": "2023-12-10T20:05:55.898477Z",
     "start_time": "2023-12-10T20:05:53.439291Z"
    },
    "pycharm": {
     "name": "#%%\n"
    }
   },
   "outputs": [
    {
     "name": "stdout",
     "output_type": "stream",
     "text": [
      "Best Params fo Knn: {'n_neighbors': 1, 'weights': 'distance'} - Accuracy: 0.9877619047619046\n",
      "Accuracy: 0.835 [Naive Bayes]\n",
      "Accuracy: 0.988 [Knn (3)]\n",
      "Accuracy: 0.871 [Dec. Tree]\n",
      "Accuracy: 0.954 [Majority Voting]\n",
      "\n",
      "3.667026996612549 seconds\n"
     ]
    }
   ],
   "source": [
    "@compute_executions_time\n",
    "def execute_voting_scheme_different_estimators_grid_search_and_cv(cv = 50):\n",
    "    naive_bayes = GaussianNB()\n",
    "    k_neighbors = KNeighborsClassifier()\n",
    "    params_space = {\n",
    "        \"n_neighbors\": list(range(1, 30, 2)),\n",
    "        \"weights\": [\"distance\", \"uniform\"]\n",
    "    }\n",
    "\n",
    "    clf = GridSearchCV(\n",
    "        k_neighbors, \n",
    "        param_grid = params_space,\n",
    "        cv = cv,\n",
    "        n_jobs = -1\n",
    "    )\n",
    "    clf.fit(X, y)\n",
    "    best_parameters_for_knn = clf.best_params_\n",
    "    print(f\"Best Params fo Knn: {clf.best_params_} - Accuracy: {clf.best_score_}\")\n",
    "\n",
    "    clf2 = KNeighborsClassifier(\n",
    "        n_neighbors = best_parameters_for_knn[\"n_neighbors\"],\n",
    "        weights = best_parameters_for_knn[\"weights\"]\n",
    "    )\n",
    "    clf3 = DecisionTreeClassifier(criterion=\"entropy\")\n",
    "\n",
    "    for clf, label in zip([naive_bayes, clf2, clf3], [\"Naive Bayes\",\"Knn (3)\", \"Dec. Tree\", ]):\n",
    "        scores = cross_val_score(\n",
    "            clf, \n",
    "            X, \n",
    "            y, \n",
    "            cv = cv, \n",
    "            scoring = \"accuracy\"\n",
    "        )\n",
    "        print(f\"Accuracy: {scores.mean():.3f} [{label}]\")\n",
    "\n",
    "    warnings.filterwarnings(\"ignore\", category=DeprecationWarning)  # Just to avoid warnings\n",
    "\n",
    "    voting_classifier = VotingClassifier(\n",
    "        estimators=[\n",
    "            (\"nb\", naive_bayes),\n",
    "            (\"knn3\", clf2),\n",
    "            (\"dt\", clf3)\n",
    "        ],\n",
    "        voting = \"hard\"\n",
    "    )\n",
    "    scores = cross_val_score(\n",
    "        voting_classifier,\n",
    "        X,\n",
    "        y,\n",
    "        cv = cv,\n",
    "        scoring = \"accuracy\")\n",
    "    print(\"Accuracy: %0.3f [%s]\" % (scores.mean() , \"Majority Voting\"))\n",
    "\n",
    "execute_voting_scheme_different_estimators_grid_search_and_cv()"
   ]
  },
  {
   "cell_type": "markdown",
   "metadata": {
    "pycharm": {
     "name": "#%% md\n"
    }
   },
   "source": [
    "## **Ada Boost Classifier**"
   ]
  },
  {
   "cell_type": "code",
   "execution_count": 26,
   "metadata": {
    "ExecuteTime": {
     "end_time": "2023-12-10T20:08:43.401870Z",
     "start_time": "2023-12-10T20:07:54.368748Z"
    },
    "pycharm": {
     "name": "#%%\n"
    }
   },
   "outputs": [
    {
     "name": "stdout",
     "output_type": "stream",
     "text": [
      "Accuracy: 0.193 [nº estimators: 1]\n",
      "Accuracy: 0.260 [nº estimators: 2]\n",
      "Accuracy: 0.259 [nº estimators: 5]\n",
      "Accuracy: 0.259 [nº estimators: 10]\n",
      "Accuracy: 0.259 [nº estimators: 20]\n",
      "Accuracy: 0.259 [nº estimators: 50]\n",
      "Accuracy: 0.259 [nº estimators: 100]\n",
      "Accuracy: 0.259 [nº estimators: 200]\n",
      "\n",
      "46.8148148059845 seconds\n"
     ]
    }
   ],
   "source": [
    "@compute_executions_time\n",
    "def execute_ada_boost_classifier_for_different_classifiers(cv=50):\n",
    "    for n_estimators in [1, 2, 5, 10, 20, 50, 100, 200]:\n",
    "        ada_boos_classifier = AdaBoostClassifier(\n",
    "            n_estimators=n_estimators\n",
    "        )\n",
    "        scores = cross_val_score(\n",
    "            ada_boos_classifier,\n",
    "            X,\n",
    "            y,\n",
    "            cv = cv,\n",
    "            scoring = \"accuracy\"\n",
    "        )\n",
    "        print(f\"Accuracy: {scores.mean():.3f} [nº estimators: {n_estimators}]\")\n",
    "\n",
    "execute_ada_boost_classifier_for_different_classifiers()"
   ]
  }
 ],
 "metadata": {
  "kernelspec": {
   "display_name": "Python 3 (ipykernel)",
   "language": "python",
   "name": "python3"
  },
  "language_info": {
   "codemirror_mode": {
    "name": "ipython",
    "version": 3
   },
   "file_extension": ".py",
   "mimetype": "text/x-python",
   "name": "python",
   "nbconvert_exporter": "python",
   "pygments_lexer": "ipython3",
   "version": "3.10.9"
  }
 },
 "nbformat": 4,
 "nbformat_minor": 1
}
