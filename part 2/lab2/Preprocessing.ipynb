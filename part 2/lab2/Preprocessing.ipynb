{
 "cells": [
  {
   "cell_type": "markdown",
   "metadata": {},
   "source": [
    "# Preprocessing I\n",
    "\n",
    "We present different techniques for preprocess the raw data, turning into something usefull and fill the missing or incorrect values.\n",
    "\n",
    "\n",
    "By Mario Martín, modify by Manuel Gijón on April 2024.\n",
    "\n",
    "----"
   ]
  },
  {
   "cell_type": "code",
   "execution_count": 5,
   "metadata": {
    "ExecuteTime": {
     "end_time": "2023-11-13T11:54:17.051315Z",
     "start_time": "2023-11-13T11:54:16.720052Z"
    },
    "pycharm": {
     "name": "#%%\n"
    }
   },
   "outputs": [],
   "source": [
    "import numpy as np\n",
    "import pandas as pd\n",
    "import matplotlib.pyplot as plt\n",
    "\n",
    "from scipy.optimize import curve_fit\n",
    "\n",
    "# These are just visualizations options for pandas' outputs\n",
    "pd.set_option(\"display.max_columns\", None)\n",
    "pd.set_option(\"display.expand_frame_repr\", False)\n",
    "pd.set_option(\"display.precision\", 3)\n",
    "\n",
    "%matplotlib inline"
   ]
  },
  {
   "cell_type": "markdown",
   "metadata": {
    "pycharm": {
     "name": "#%% md\n"
    }
   },
   "source": [
    "# Read the data"
   ]
  },
  {
   "cell_type": "code",
   "execution_count": 6,
   "metadata": {
    "ExecuteTime": {
     "end_time": "2023-11-13T11:54:40.460874Z",
     "start_time": "2023-11-13T11:54:40.449002Z"
    },
    "pycharm": {
     "name": "#%%\n"
    }
   },
   "outputs": [
    {
     "name": "stdout",
     "output_type": "stream",
     "text": [
      "We have 40 samples and 8 features.\n",
      "       Index     FSIQ      VIQ      PIQ   Weight  Height  MRI_Count\n",
      "count  40.00   40.000   40.000   40.000   38.000  39.000  4.000e+01\n",
      "mean   20.50  117.450  112.350  111.025  151.053  68.526  9.088e+05\n",
      "std    11.69   31.137   23.616   22.471   23.479   3.995  7.228e+04\n",
      "min     1.00   77.000   71.000   72.000  106.000  62.000  7.906e+05\n",
      "25%    10.75   90.750   90.000   88.250  135.250  66.000  8.559e+05\n",
      "50%    20.50  131.000  113.000  115.000  146.500  68.000  9.054e+05\n",
      "75%    30.25  138.250  129.750  128.000  172.000  70.500  9.501e+05\n",
      "max    40.00  240.000  150.000  150.000  192.000  77.000  1.080e+06\n"
     ]
    },
    {
     "data": {
      "text/plain": [
       "0      1\n",
       "1      2\n",
       "2      3\n",
       "3      4\n",
       "4      5\n",
       "5      6\n",
       "6      7\n",
       "7      8\n",
       "8      9\n",
       "9     10\n",
       "10    11\n",
       "11    12\n",
       "12    13\n",
       "13    14\n",
       "14    15\n",
       "15    16\n",
       "16    17\n",
       "17    18\n",
       "18    19\n",
       "19    20\n",
       "20    21\n",
       "21    22\n",
       "22    23\n",
       "23    24\n",
       "24    25\n",
       "25    26\n",
       "26    27\n",
       "27    28\n",
       "28    29\n",
       "29    30\n",
       "30    31\n",
       "31    32\n",
       "32    33\n",
       "33    34\n",
       "34    35\n",
       "35    36\n",
       "36    37\n",
       "37    38\n",
       "38    39\n",
       "39    40\n",
       "Name: Index, dtype: int64"
      ]
     },
     "execution_count": 6,
     "metadata": {},
     "output_type": "execute_result"
    }
   ],
   "source": [
    "data = pd.read_csv(\n",
    "    \"brain_size.csv\",  # We can select a local file or pass an url\n",
    "    sep = ';', \n",
    "    na_values = \".\"\n",
    ")\n",
    "print(f\"We have {data.shape[0]} samples and {data.shape[1]} features.\")  # Shape returns (nº samples, nº features)\n",
    "print(data.describe())\n",
    "\n",
    "data[\"Index\"]  # Lets see it to see what it contains -> Just indexes, so we can remove them"
   ]
  },
  {
   "cell_type": "code",
   "execution_count": 7,
   "metadata": {},
   "outputs": [
    {
     "name": "stdout",
     "output_type": "stream",
     "text": [
      "We have 40 samples and 7 features.\n"
     ]
    },
    {
     "data": {
      "text/html": [
       "<div>\n",
       "<style scoped>\n",
       "    .dataframe tbody tr th:only-of-type {\n",
       "        vertical-align: middle;\n",
       "    }\n",
       "\n",
       "    .dataframe tbody tr th {\n",
       "        vertical-align: top;\n",
       "    }\n",
       "\n",
       "    .dataframe thead th {\n",
       "        text-align: right;\n",
       "    }\n",
       "</style>\n",
       "<table border=\"1\" class=\"dataframe\">\n",
       "  <thead>\n",
       "    <tr style=\"text-align: right;\">\n",
       "      <th></th>\n",
       "      <th>Gender</th>\n",
       "      <th>FSIQ</th>\n",
       "      <th>VIQ</th>\n",
       "      <th>PIQ</th>\n",
       "      <th>Weight</th>\n",
       "      <th>Height</th>\n",
       "      <th>MRI_Count</th>\n",
       "    </tr>\n",
       "  </thead>\n",
       "  <tbody>\n",
       "    <tr>\n",
       "      <th>0</th>\n",
       "      <td>Female</td>\n",
       "      <td>133</td>\n",
       "      <td>132</td>\n",
       "      <td>124</td>\n",
       "      <td>118.0</td>\n",
       "      <td>64.5</td>\n",
       "      <td>816932</td>\n",
       "    </tr>\n",
       "    <tr>\n",
       "      <th>1</th>\n",
       "      <td>Male</td>\n",
       "      <td>140</td>\n",
       "      <td>150</td>\n",
       "      <td>124</td>\n",
       "      <td>NaN</td>\n",
       "      <td>72.5</td>\n",
       "      <td>1001121</td>\n",
       "    </tr>\n",
       "    <tr>\n",
       "      <th>2</th>\n",
       "      <td>Male</td>\n",
       "      <td>139</td>\n",
       "      <td>123</td>\n",
       "      <td>150</td>\n",
       "      <td>143.0</td>\n",
       "      <td>73.3</td>\n",
       "      <td>1038437</td>\n",
       "    </tr>\n",
       "    <tr>\n",
       "      <th>3</th>\n",
       "      <td>Male</td>\n",
       "      <td>133</td>\n",
       "      <td>129</td>\n",
       "      <td>128</td>\n",
       "      <td>172.0</td>\n",
       "      <td>68.8</td>\n",
       "      <td>965353</td>\n",
       "    </tr>\n",
       "    <tr>\n",
       "      <th>4</th>\n",
       "      <td>Female</td>\n",
       "      <td>137</td>\n",
       "      <td>132</td>\n",
       "      <td>134</td>\n",
       "      <td>147.0</td>\n",
       "      <td>65.0</td>\n",
       "      <td>951545</td>\n",
       "    </tr>\n",
       "  </tbody>\n",
       "</table>\n",
       "</div>"
      ],
      "text/plain": [
       "   Gender  FSIQ  VIQ  PIQ  Weight  Height  MRI_Count\n",
       "0  Female   133  132  124   118.0    64.5     816932\n",
       "1    Male   140  150  124     NaN    72.5    1001121\n",
       "2    Male   139  123  150   143.0    73.3    1038437\n",
       "3    Male   133  129  128   172.0    68.8     965353\n",
       "4  Female   137  132  134   147.0    65.0     951545"
      ]
     },
     "execution_count": 7,
     "metadata": {},
     "output_type": "execute_result"
    }
   ],
   "source": [
    "data = data.drop(labels = 'Index', axis = 1)  # OBS: axis = 1 to drop columns\n",
    "\n",
    "print(f\"We have {data.shape[0]} samples and {data.shape[1]} features.\")\n",
    "data.head()"
   ]
  },
  {
   "cell_type": "markdown",
   "metadata": {
    "pycharm": {
     "name": "#%% md\n"
    }
   },
   "source": [
    "# Uni-variate description of the data"
   ]
  },
  {
   "cell_type": "code",
   "execution_count": 9,
   "metadata": {
    "pycharm": {
     "name": "#%%\n"
    }
   },
   "outputs": [
    {
     "data": {
      "text/html": [
       "<div>\n",
       "<style scoped>\n",
       "    .dataframe tbody tr th:only-of-type {\n",
       "        vertical-align: middle;\n",
       "    }\n",
       "\n",
       "    .dataframe tbody tr th {\n",
       "        vertical-align: top;\n",
       "    }\n",
       "\n",
       "    .dataframe thead th {\n",
       "        text-align: right;\n",
       "    }\n",
       "</style>\n",
       "<table border=\"1\" class=\"dataframe\">\n",
       "  <thead>\n",
       "    <tr style=\"text-align: right;\">\n",
       "      <th></th>\n",
       "      <th>Gender</th>\n",
       "      <th>FSIQ</th>\n",
       "      <th>VIQ</th>\n",
       "      <th>PIQ</th>\n",
       "      <th>Weight</th>\n",
       "      <th>Height</th>\n",
       "      <th>MRI_Count</th>\n",
       "    </tr>\n",
       "  </thead>\n",
       "  <tbody>\n",
       "    <tr>\n",
       "      <th>count</th>\n",
       "      <td>40</td>\n",
       "      <td>40.000</td>\n",
       "      <td>40.000</td>\n",
       "      <td>40.000</td>\n",
       "      <td>38.000</td>\n",
       "      <td>39.000</td>\n",
       "      <td>4.000e+01</td>\n",
       "    </tr>\n",
       "    <tr>\n",
       "      <th>unique</th>\n",
       "      <td>2</td>\n",
       "      <td>NaN</td>\n",
       "      <td>NaN</td>\n",
       "      <td>NaN</td>\n",
       "      <td>NaN</td>\n",
       "      <td>NaN</td>\n",
       "      <td>NaN</td>\n",
       "    </tr>\n",
       "    <tr>\n",
       "      <th>top</th>\n",
       "      <td>Female</td>\n",
       "      <td>NaN</td>\n",
       "      <td>NaN</td>\n",
       "      <td>NaN</td>\n",
       "      <td>NaN</td>\n",
       "      <td>NaN</td>\n",
       "      <td>NaN</td>\n",
       "    </tr>\n",
       "    <tr>\n",
       "      <th>freq</th>\n",
       "      <td>20</td>\n",
       "      <td>NaN</td>\n",
       "      <td>NaN</td>\n",
       "      <td>NaN</td>\n",
       "      <td>NaN</td>\n",
       "      <td>NaN</td>\n",
       "      <td>NaN</td>\n",
       "    </tr>\n",
       "    <tr>\n",
       "      <th>mean</th>\n",
       "      <td>NaN</td>\n",
       "      <td>117.450</td>\n",
       "      <td>112.350</td>\n",
       "      <td>111.025</td>\n",
       "      <td>151.053</td>\n",
       "      <td>68.526</td>\n",
       "      <td>9.088e+05</td>\n",
       "    </tr>\n",
       "    <tr>\n",
       "      <th>std</th>\n",
       "      <td>NaN</td>\n",
       "      <td>31.137</td>\n",
       "      <td>23.616</td>\n",
       "      <td>22.471</td>\n",
       "      <td>23.479</td>\n",
       "      <td>3.995</td>\n",
       "      <td>7.228e+04</td>\n",
       "    </tr>\n",
       "    <tr>\n",
       "      <th>min</th>\n",
       "      <td>NaN</td>\n",
       "      <td>77.000</td>\n",
       "      <td>71.000</td>\n",
       "      <td>72.000</td>\n",
       "      <td>106.000</td>\n",
       "      <td>62.000</td>\n",
       "      <td>7.906e+05</td>\n",
       "    </tr>\n",
       "    <tr>\n",
       "      <th>25%</th>\n",
       "      <td>NaN</td>\n",
       "      <td>90.750</td>\n",
       "      <td>90.000</td>\n",
       "      <td>88.250</td>\n",
       "      <td>135.250</td>\n",
       "      <td>66.000</td>\n",
       "      <td>8.559e+05</td>\n",
       "    </tr>\n",
       "    <tr>\n",
       "      <th>50%</th>\n",
       "      <td>NaN</td>\n",
       "      <td>131.000</td>\n",
       "      <td>113.000</td>\n",
       "      <td>115.000</td>\n",
       "      <td>146.500</td>\n",
       "      <td>68.000</td>\n",
       "      <td>9.054e+05</td>\n",
       "    </tr>\n",
       "    <tr>\n",
       "      <th>75%</th>\n",
       "      <td>NaN</td>\n",
       "      <td>138.250</td>\n",
       "      <td>129.750</td>\n",
       "      <td>128.000</td>\n",
       "      <td>172.000</td>\n",
       "      <td>70.500</td>\n",
       "      <td>9.501e+05</td>\n",
       "    </tr>\n",
       "    <tr>\n",
       "      <th>max</th>\n",
       "      <td>NaN</td>\n",
       "      <td>240.000</td>\n",
       "      <td>150.000</td>\n",
       "      <td>150.000</td>\n",
       "      <td>192.000</td>\n",
       "      <td>77.000</td>\n",
       "      <td>1.080e+06</td>\n",
       "    </tr>\n",
       "  </tbody>\n",
       "</table>\n",
       "</div>"
      ],
      "text/plain": [
       "        Gender     FSIQ      VIQ      PIQ   Weight  Height  MRI_Count\n",
       "count       40   40.000   40.000   40.000   38.000  39.000  4.000e+01\n",
       "unique       2      NaN      NaN      NaN      NaN     NaN        NaN\n",
       "top     Female      NaN      NaN      NaN      NaN     NaN        NaN\n",
       "freq        20      NaN      NaN      NaN      NaN     NaN        NaN\n",
       "mean       NaN  117.450  112.350  111.025  151.053  68.526  9.088e+05\n",
       "std        NaN   31.137   23.616   22.471   23.479   3.995  7.228e+04\n",
       "min        NaN   77.000   71.000   72.000  106.000  62.000  7.906e+05\n",
       "25%        NaN   90.750   90.000   88.250  135.250  66.000  8.559e+05\n",
       "50%        NaN  131.000  113.000  115.000  146.500  68.000  9.054e+05\n",
       "75%        NaN  138.250  129.750  128.000  172.000  70.500  9.501e+05\n",
       "max        NaN  240.000  150.000  150.000  192.000  77.000  1.080e+06"
      ]
     },
     "execution_count": 9,
     "metadata": {},
     "output_type": "execute_result"
    }
   ],
   "source": [
    "data.describe(include = \"all\")  # Generate statistical values for each feature"
   ]
  },
  {
   "cell_type": "markdown",
   "metadata": {
    "pycharm": {
     "name": "#%% md\n"
    }
   },
   "source": [
    "## Boxplots and histograms\n",
    "We are going to use tools built in pandas' objects themselves instead of relying on external libraries."
   ]
  },
  {
   "cell_type": "code",
   "execution_count": 10,
   "metadata": {
    "ExecuteTime": {
     "end_time": "2023-11-13T09:52:59.630740Z",
     "start_time": "2023-11-13T09:52:59.551775Z"
    },
    "pycharm": {
     "name": "#%%\n"
    }
   },
   "outputs": [
    {
     "data": {
      "image/png": "[encoded data removed]",
      "text/plain": [
       "<Figure size 640x480 with 1 Axes>"
      ]
     },
     "metadata": {},
     "output_type": "display_data"
    }
   ],
   "source": [
    "results = data.boxplot(\n",
    "    column = [\"FSIQ\", \"VIQ\", \"PIQ\"],\n",
    "    meanline = False,\n",
    "    showmeans = True,\n",
    "    return_type = \"dict\"\n",
    ")\n",
    "\n",
    "# OBS: is there an outlier in FSIQ? we have test it with with more powerfull tools than visual representations"
   ]
  },
  {
   "cell_type": "code",
   "execution_count": 12,
   "metadata": {
    "pycharm": {
     "name": "#%%\n"
    }
   },
   "outputs": [
    {
     "data": {
      "text/plain": [
       "array([[<Axes: title={'center': 'FSIQ'}>,\n",
       "        <Axes: title={'center': 'VIQ'}>],\n",
       "       [<Axes: title={'center': 'PIQ'}>,\n",
       "        <Axes: title={'center': 'Weight'}>],\n",
       "       [<Axes: title={'center': 'Height'}>,\n",
       "        <Axes: title={'center': 'MRI_Count'}>]], dtype=object)"
      ]
     },
     "execution_count": 12,
     "metadata": {},
     "output_type": "execute_result"
    },
    {
     "data": {
      "image/png": "[encoded data removed]",
      "text/plain": [
       "<Figure size 700x700 with 6 Axes>"
      ]
     },
     "metadata": {},
     "output_type": "display_data"
    }
   ],
   "source": [
    "data.hist(\n",
    "    column = [\"FSIQ\", \"VIQ\", \"PIQ\", \"Weight\", \"Height\", \"MRI_Count\"],\n",
    "    bins = 10, \n",
    "    figsize = [7,7]\n",
    ")"
   ]
  },
  {
   "cell_type": "code",
   "execution_count": 13,
   "metadata": {
    "ExecuteTime": {
     "end_time": "2023-11-13T10:01:18.995064Z",
     "start_time": "2023-11-13T10:01:18.814399Z"
    }
   },
   "outputs": [],
   "source": [
    "# Lets create masks to select data \n",
    "mask_female = data[\"Gender\"] == \"Female\"  # OBS: the mask itself returns a pandas Series containing\n",
    "                                          # True and False for all the samples, True where conditions holds\n",
    "                                          # so be aware that this is not like a WHERE function in regular DBs.\n",
    "female = data[mask_female]\n",
    "\n",
    "male = data[data[\"Gender\"] != \"Female\"]  # directly, without creating an extra variable"
   ]
  },
  {
   "cell_type": "code",
   "execution_count": 14,
   "metadata": {},
   "outputs": [
    {
     "data": {
      "text/plain": [
       "array([[<Axes: title={'center': 'FSIQ'}>]], dtype=object)"
      ]
     },
     "execution_count": 14,
     "metadata": {},
     "output_type": "execute_result"
    },
    {
     "data": {
      "image/png": "[encoded data removed]",
      "text/plain": [
       "<Figure size 700x700 with 1 Axes>"
      ]
     },
     "metadata": {},
     "output_type": "display_data"
    },
    {
     "data": {
      "image/png": "[encoded data removed]",
      "text/plain": [
       "<Figure size 700x700 with 1 Axes>"
      ]
     },
     "metadata": {},
     "output_type": "display_data"
    }
   ],
   "source": [
    "female.hist(\n",
    "    column = [\"FSIQ\"], \n",
    "    bins = 10,\n",
    "    figsize = [7,7]\n",
    ")\n",
    "male.hist(\n",
    "    column = [\"FSIQ\"],\n",
    "    bins = 10, \n",
    "    figsize = [7,7]\n",
    ")"
   ]
  },
  {
   "cell_type": "markdown",
   "metadata": {
    "pycharm": {
     "name": "#%% md\n"
    }
   },
   "source": [
    "## Identify errors or ouliers - unicariate analysis"
   ]
  },
  {
   "cell_type": "code",
   "execution_count": 16,
   "metadata": {
    "ExecuteTime": {
     "end_time": "2023-11-13T10:03:30.658516Z",
     "start_time": "2023-11-13T10:03:30.653796Z"
    },
    "pycharm": {
     "name": "#%%\n"
    }
   },
   "outputs": [
    {
     "name": "stderr",
     "output_type": "stream",
     "text": [
      "/var/folders/9y/h_htr0yd59j121xzw7vclx6h0000gn/T/ipykernel_42962/3546452317.py:1: FutureWarning: The default value of numeric_only in DataFrame.corr is deprecated. In a future version, it will default to False. Select only valid columns or specify the value of numeric_only to silence this warning.\n",
      "  data.corr(method = \"pearson\")\n"
     ]
    },
    {
     "data": {
      "text/html": [
       "<div>\n",
       "<style scoped>\n",
       "    .dataframe tbody tr th:only-of-type {\n",
       "        vertical-align: middle;\n",
       "    }\n",
       "\n",
       "    .dataframe tbody tr th {\n",
       "        vertical-align: top;\n",
       "    }\n",
       "\n",
       "    .dataframe thead th {\n",
       "        text-align: right;\n",
       "    }\n",
       "</style>\n",
       "<table border=\"1\" class=\"dataframe\">\n",
       "  <thead>\n",
       "    <tr style=\"text-align: right;\">\n",
       "      <th></th>\n",
       "      <th>FSIQ</th>\n",
       "      <th>VIQ</th>\n",
       "      <th>PIQ</th>\n",
       "      <th>Weight</th>\n",
       "      <th>Height</th>\n",
       "      <th>MRI_Count</th>\n",
       "    </tr>\n",
       "  </thead>\n",
       "  <tbody>\n",
       "    <tr>\n",
       "      <th>FSIQ</th>\n",
       "      <td>1.000</td>\n",
       "      <td>0.771</td>\n",
       "      <td>0.707</td>\n",
       "      <td>-0.168</td>\n",
       "      <td>-0.091</td>\n",
       "      <td>0.205</td>\n",
       "    </tr>\n",
       "    <tr>\n",
       "      <th>VIQ</th>\n",
       "      <td>0.771</td>\n",
       "      <td>1.000</td>\n",
       "      <td>0.778</td>\n",
       "      <td>-0.076</td>\n",
       "      <td>-0.071</td>\n",
       "      <td>0.337</td>\n",
       "    </tr>\n",
       "    <tr>\n",
       "      <th>PIQ</th>\n",
       "      <td>0.707</td>\n",
       "      <td>0.778</td>\n",
       "      <td>1.000</td>\n",
       "      <td>0.003</td>\n",
       "      <td>-0.077</td>\n",
       "      <td>0.387</td>\n",
       "    </tr>\n",
       "    <tr>\n",
       "      <th>Weight</th>\n",
       "      <td>-0.168</td>\n",
       "      <td>-0.076</td>\n",
       "      <td>0.003</td>\n",
       "      <td>1.000</td>\n",
       "      <td>0.700</td>\n",
       "      <td>0.513</td>\n",
       "    </tr>\n",
       "    <tr>\n",
       "      <th>Height</th>\n",
       "      <td>-0.091</td>\n",
       "      <td>-0.071</td>\n",
       "      <td>-0.077</td>\n",
       "      <td>0.700</td>\n",
       "      <td>1.000</td>\n",
       "      <td>0.602</td>\n",
       "    </tr>\n",
       "    <tr>\n",
       "      <th>MRI_Count</th>\n",
       "      <td>0.205</td>\n",
       "      <td>0.337</td>\n",
       "      <td>0.387</td>\n",
       "      <td>0.513</td>\n",
       "      <td>0.602</td>\n",
       "      <td>1.000</td>\n",
       "    </tr>\n",
       "  </tbody>\n",
       "</table>\n",
       "</div>"
      ],
      "text/plain": [
       "            FSIQ    VIQ    PIQ  Weight  Height  MRI_Count\n",
       "FSIQ       1.000  0.771  0.707  -0.168  -0.091      0.205\n",
       "VIQ        0.771  1.000  0.778  -0.076  -0.071      0.337\n",
       "PIQ        0.707  0.778  1.000   0.003  -0.077      0.387\n",
       "Weight    -0.168 -0.076  0.003   1.000   0.700      0.513\n",
       "Height    -0.091 -0.071 -0.077   0.700   1.000      0.602\n",
       "MRI_Count  0.205  0.337  0.387   0.513   0.602      1.000"
      ]
     },
     "execution_count": 16,
     "metadata": {},
     "output_type": "execute_result"
    }
   ],
   "source": [
    "data.corr(method = \"pearson\")"
   ]
  },
  {
   "cell_type": "markdown",
   "metadata": {
    "pycharm": {
     "name": "#%% md\n"
    }
   },
   "source": [
    "### Finding errors (or outliers) with bi-variate analysis\n",
    "\n",
    "Lets consider this situation: we think that we have an outlier in one feature, but we do not known a specific statistical test for the distribution that this data follow (assuming we are able to identify it for sure).\n",
    "\n",
    "In this situation we have another **tool** that is the one that we are going to present here: using a highly correlated feature, apply a linear regression between two variables and use the fact that we know how the errors are distributed (**they follow a normal distribution**, [justification](https://towardsdatascience.com/are-the-error-terms-normally-distributed-in-a-linear-regression-model-15e6882298a4)) to apply a statistical test to them (to the errors).\n",
    "\n",
    "Remember that we consider an outlier of a sample of points that follow a normal distribution of mean $\\mu$ and std $\\sigma$ to all the points (x) in the region defined by:\n",
    "$$\n",
    "    \\mu - 2 * \\sigma < x \n",
    "$$\n",
    "and \n",
    "$$\n",
    "       x > \\mu + 2 * \\sigma  \n",
    "$$"
   ]
  },
  {
   "cell_type": "code",
   "execution_count": 17,
   "metadata": {
    "ExecuteTime": {
     "end_time": "2023-11-13T10:05:08.219003Z",
     "start_time": "2023-11-13T10:05:08.070498Z"
    },
    "pycharm": {
     "name": "#%%\n"
    }
   },
   "outputs": [
    {
     "name": "stdout",
     "output_type": "stream",
     "text": [
      "a = 0.9789556935911965 - b = 8.761444119049234\n",
      "21.758362595400268\n",
      "8      50.006\n",
      "16    113.764\n",
      "Name: FSIQ, dtype: float64\n"
     ]
    },
    {
     "data": {
      "text/html": [
       "<div>\n",
       "<style scoped>\n",
       "    .dataframe tbody tr th:only-of-type {\n",
       "        vertical-align: middle;\n",
       "    }\n",
       "\n",
       "    .dataframe tbody tr th {\n",
       "        vertical-align: top;\n",
       "    }\n",
       "\n",
       "    .dataframe thead th {\n",
       "        text-align: right;\n",
       "    }\n",
       "</style>\n",
       "<table border=\"1\" class=\"dataframe\">\n",
       "  <thead>\n",
       "    <tr style=\"text-align: right;\">\n",
       "      <th></th>\n",
       "      <th>Gender</th>\n",
       "      <th>FSIQ</th>\n",
       "      <th>VIQ</th>\n",
       "      <th>PIQ</th>\n",
       "      <th>Weight</th>\n",
       "      <th>Height</th>\n",
       "      <th>MRI_Count</th>\n",
       "    </tr>\n",
       "  </thead>\n",
       "  <tbody>\n",
       "    <tr>\n",
       "      <th>16</th>\n",
       "      <td>Female</td>\n",
       "      <td>240</td>\n",
       "      <td>132</td>\n",
       "      <td>120</td>\n",
       "      <td>127.0</td>\n",
       "      <td>68.5</td>\n",
       "      <td>852244</td>\n",
       "    </tr>\n",
       "  </tbody>\n",
       "</table>\n",
       "</div>"
      ],
      "text/plain": [
       "    Gender  FSIQ  VIQ  PIQ  Weight  Height  MRI_Count\n",
       "16  Female   240  132  120   127.0    68.5     852244"
      ]
     },
     "execution_count": 17,
     "metadata": {},
     "output_type": "execute_result"
    }
   ],
   "source": [
    "# Let's do regression between a pari of numeric varaibales\n",
    "def fit_func(x, a, b):\n",
    "    return a*x+b\n",
    "\n",
    "params = curve_fit(fit_func, data.PIQ,data.FSIQ )  # Here we fit the linear regression and keep the parameters\n",
    "print(f\"a = {params[0][0]} - b = {params[0][1]}\")\n",
    "\n",
    "# Find errors or outliers\n",
    "error = data.FSIQ-[fit_func(x,params[0][0],params[0][1]) for x in data.PIQ]\n",
    "print(np.std(error))\n",
    "print(error[ error > np.mean(error) + 2 * np.std(error)])\n",
    "\n",
    "data[data.FSIQ-[fit_func(x,params[0][0],params[0][1]) for x in data.PIQ]==max(data.FSIQ-[fit_func(x,params[0][0],params[0][1]) for x in data.PIQ])]"
   ]
  },
  {
   "cell_type": "markdown",
   "metadata": {
    "pycharm": {
     "name": "#%% md\n"
    }
   },
   "source": [
    "### Solving the error susbtituting current value by predicted value with linear regression "
   ]
  },
  {
   "cell_type": "code",
   "execution_count": 20,
   "metadata": {
    "ExecuteTime": {
     "end_time": "2023-11-12T20:38:44.208997Z",
     "start_time": "2023-11-12T20:38:44.199163Z"
    },
    "pycharm": {
     "name": "#%%\n"
    }
   },
   "outputs": [
    {
     "data": {
      "text/html": [
       "<div>\n",
       "<style scoped>\n",
       "    .dataframe tbody tr th:only-of-type {\n",
       "        vertical-align: middle;\n",
       "    }\n",
       "\n",
       "    .dataframe tbody tr th {\n",
       "        vertical-align: top;\n",
       "    }\n",
       "\n",
       "    .dataframe thead th {\n",
       "        text-align: right;\n",
       "    }\n",
       "</style>\n",
       "<table border=\"1\" class=\"dataframe\">\n",
       "  <thead>\n",
       "    <tr style=\"text-align: right;\">\n",
       "      <th></th>\n",
       "      <th>Gender</th>\n",
       "      <th>FSIQ</th>\n",
       "      <th>VIQ</th>\n",
       "      <th>PIQ</th>\n",
       "      <th>Weight</th>\n",
       "      <th>Height</th>\n",
       "      <th>MRI_Count</th>\n",
       "    </tr>\n",
       "  </thead>\n",
       "  <tbody>\n",
       "    <tr>\n",
       "      <th>0</th>\n",
       "      <td>Female</td>\n",
       "      <td>133.000</td>\n",
       "      <td>132</td>\n",
       "      <td>124</td>\n",
       "      <td>118.0</td>\n",
       "      <td>64.5</td>\n",
       "      <td>816932</td>\n",
       "    </tr>\n",
       "    <tr>\n",
       "      <th>1</th>\n",
       "      <td>Male</td>\n",
       "      <td>140.000</td>\n",
       "      <td>150</td>\n",
       "      <td>124</td>\n",
       "      <td>NaN</td>\n",
       "      <td>72.5</td>\n",
       "      <td>1001121</td>\n",
       "    </tr>\n",
       "    <tr>\n",
       "      <th>2</th>\n",
       "      <td>Male</td>\n",
       "      <td>139.000</td>\n",
       "      <td>123</td>\n",
       "      <td>150</td>\n",
       "      <td>143.0</td>\n",
       "      <td>73.3</td>\n",
       "      <td>1038437</td>\n",
       "    </tr>\n",
       "    <tr>\n",
       "      <th>3</th>\n",
       "      <td>Male</td>\n",
       "      <td>133.000</td>\n",
       "      <td>129</td>\n",
       "      <td>128</td>\n",
       "      <td>172.0</td>\n",
       "      <td>68.8</td>\n",
       "      <td>965353</td>\n",
       "    </tr>\n",
       "    <tr>\n",
       "      <th>4</th>\n",
       "      <td>Female</td>\n",
       "      <td>137.000</td>\n",
       "      <td>132</td>\n",
       "      <td>134</td>\n",
       "      <td>147.0</td>\n",
       "      <td>65.0</td>\n",
       "      <td>951545</td>\n",
       "    </tr>\n",
       "    <tr>\n",
       "      <th>5</th>\n",
       "      <td>Female</td>\n",
       "      <td>99.000</td>\n",
       "      <td>90</td>\n",
       "      <td>110</td>\n",
       "      <td>146.0</td>\n",
       "      <td>69.0</td>\n",
       "      <td>928799</td>\n",
       "    </tr>\n",
       "    <tr>\n",
       "      <th>6</th>\n",
       "      <td>Female</td>\n",
       "      <td>138.000</td>\n",
       "      <td>136</td>\n",
       "      <td>131</td>\n",
       "      <td>138.0</td>\n",
       "      <td>64.5</td>\n",
       "      <td>991305</td>\n",
       "    </tr>\n",
       "    <tr>\n",
       "      <th>7</th>\n",
       "      <td>Female</td>\n",
       "      <td>92.000</td>\n",
       "      <td>90</td>\n",
       "      <td>98</td>\n",
       "      <td>175.0</td>\n",
       "      <td>66.0</td>\n",
       "      <td>854258</td>\n",
       "    </tr>\n",
       "    <tr>\n",
       "      <th>8</th>\n",
       "      <td>Male</td>\n",
       "      <td>90.994</td>\n",
       "      <td>93</td>\n",
       "      <td>84</td>\n",
       "      <td>134.0</td>\n",
       "      <td>66.3</td>\n",
       "      <td>904858</td>\n",
       "    </tr>\n",
       "    <tr>\n",
       "      <th>9</th>\n",
       "      <td>Male</td>\n",
       "      <td>133.000</td>\n",
       "      <td>114</td>\n",
       "      <td>147</td>\n",
       "      <td>172.0</td>\n",
       "      <td>68.8</td>\n",
       "      <td>955466</td>\n",
       "    </tr>\n",
       "  </tbody>\n",
       "</table>\n",
       "</div>"
      ],
      "text/plain": [
       "   Gender     FSIQ  VIQ  PIQ  Weight  Height  MRI_Count\n",
       "0  Female  133.000  132  124   118.0    64.5     816932\n",
       "1    Male  140.000  150  124     NaN    72.5    1001121\n",
       "2    Male  139.000  123  150   143.0    73.3    1038437\n",
       "3    Male  133.000  129  128   172.0    68.8     965353\n",
       "4  Female  137.000  132  134   147.0    65.0     951545\n",
       "5  Female   99.000   90  110   146.0    69.0     928799\n",
       "6  Female  138.000  136  131   138.0    64.5     991305\n",
       "7  Female   92.000   90   98   175.0    66.0     854258\n",
       "8    Male   90.994   93   84   134.0    66.3     904858\n",
       "9    Male  133.000  114  147   172.0    68.8     955466"
      ]
     },
     "execution_count": 20,
     "metadata": {},
     "output_type": "execute_result"
    }
   ],
   "source": [
    "# We use the value on the adjusted line to \"predict\" a value to replace the outlier \n",
    "data.FSIQ.at[8] = fit_func(data['PIQ'][8], params[0][0], params[0][1])  # OBS: remember data.FSIQ == data[\"FSIQ\"]\n",
    "data.head(10)"
   ]
  },
  {
   "cell_type": "code",
   "execution_count": 21,
   "metadata": {
    "ExecuteTime": {
     "end_time": "2023-11-12T20:38:45.499672Z",
     "start_time": "2023-11-12T20:38:45.112878Z"
    },
    "pycharm": {
     "name": "#%%\n"
    }
   },
   "outputs": [
    {
     "name": "stdout",
     "output_type": "stream",
     "text": [
      "Scatter matrixes for correlations betwen numeriacal variables \n"
     ]
    },
    {
     "data": {
      "image/png": "[encoded data removed]",
      "text/plain": [
       "<Figure size 640x480 with 9 Axes>"
      ]
     },
     "metadata": {},
     "output_type": "display_data"
    },
    {
     "data": {
      "image/png": "[encoded data removed]",
      "text/plain": [
       "<Figure size 640x480 with 9 Axes>"
      ]
     },
     "metadata": {},
     "output_type": "display_data"
    }
   ],
   "source": [
    "pd.plotting.scatter_matrix(data[['Weight', 'Height', 'MRI_Count']])\n",
    "pd.plotting.scatter_matrix(data[['PIQ', 'VIQ', 'FSIQ']])\n",
    "print('Scatter matrixes for correlations betwen numeriacal variables ')"
   ]
  },
  {
   "cell_type": "markdown",
   "metadata": {
    "pycharm": {
     "name": "#%% md\n"
    }
   },
   "source": [
    "#  Missing data"
   ]
  },
  {
   "cell_type": "code",
   "execution_count": 23,
   "metadata": {
    "ExecuteTime": {
     "end_time": "2023-11-13T10:16:06.261933Z",
     "start_time": "2023-11-13T10:16:06.255405Z"
    },
    "pycharm": {
     "name": "#%%\n"
    }
   },
   "outputs": [
    {
     "data": {
      "text/plain": [
       "Gender       False\n",
       "FSIQ         False\n",
       "VIQ          False\n",
       "PIQ          False\n",
       "Weight        True\n",
       "Height        True\n",
       "MRI_Count    False\n",
       "dtype: bool"
      ]
     },
     "execution_count": 23,
     "metadata": {},
     "output_type": "execute_result"
    }
   ],
   "source": [
    "data.isnull().any()  # isnull() will return a Series with True and False in all positions, with any() we apply the\n",
    "                     # logical any to all the values en each one of the features"
   ]
  },
  {
   "cell_type": "code",
   "execution_count": 26,
   "metadata": {
    "ExecuteTime": {
     "end_time": "2023-11-13T10:16:17.292509Z",
     "start_time": "2023-11-13T10:16:17.284508Z"
    },
    "pycharm": {
     "name": "#%%\n"
    }
   },
   "outputs": [
    {
     "data": {
      "text/html": [
       "<div>\n",
       "<style scoped>\n",
       "    .dataframe tbody tr th:only-of-type {\n",
       "        vertical-align: middle;\n",
       "    }\n",
       "\n",
       "    .dataframe tbody tr th {\n",
       "        vertical-align: top;\n",
       "    }\n",
       "\n",
       "    .dataframe thead th {\n",
       "        text-align: right;\n",
       "    }\n",
       "</style>\n",
       "<table border=\"1\" class=\"dataframe\">\n",
       "  <thead>\n",
       "    <tr style=\"text-align: right;\">\n",
       "      <th></th>\n",
       "      <th>Gender</th>\n",
       "      <th>FSIQ</th>\n",
       "      <th>VIQ</th>\n",
       "      <th>PIQ</th>\n",
       "      <th>Weight</th>\n",
       "      <th>Height</th>\n",
       "      <th>MRI_Count</th>\n",
       "    </tr>\n",
       "  </thead>\n",
       "  <tbody>\n",
       "    <tr>\n",
       "      <th>1</th>\n",
       "      <td>Male</td>\n",
       "      <td>140.0</td>\n",
       "      <td>150</td>\n",
       "      <td>124</td>\n",
       "      <td>NaN</td>\n",
       "      <td>72.5</td>\n",
       "      <td>1001121</td>\n",
       "    </tr>\n",
       "    <tr>\n",
       "      <th>20</th>\n",
       "      <td>Male</td>\n",
       "      <td>83.0</td>\n",
       "      <td>83</td>\n",
       "      <td>86</td>\n",
       "      <td>NaN</td>\n",
       "      <td>NaN</td>\n",
       "      <td>892420</td>\n",
       "    </tr>\n",
       "  </tbody>\n",
       "</table>\n",
       "</div>"
      ],
      "text/plain": [
       "   Gender   FSIQ  VIQ  PIQ  Weight  Height  MRI_Count\n",
       "1    Male  140.0  150  124     NaN    72.5    1001121\n",
       "20   Male   83.0   83   86     NaN     NaN     892420"
      ]
     },
     "execution_count": 26,
     "metadata": {},
     "output_type": "execute_result"
    }
   ],
   "source": [
    "data[data.Weight.isnull()]  # Again, we use it as a mask for selecting tha samples that holds this condition\n",
    "data[data[\"Weight\"].isnull()]\n",
    "#data.FSIQ.mean() # 114.3076923076923"
   ]
  },
  {
   "cell_type": "code",
   "execution_count": 27,
   "metadata": {
    "ExecuteTime": {
     "end_time": "2023-11-13T10:14:23.087829Z",
     "start_time": "2023-11-13T10:14:23.084146Z"
    },
    "pycharm": {
     "name": "#%%\n"
    }
   },
   "outputs": [
    {
     "data": {
      "text/html": [
       "<div>\n",
       "<style scoped>\n",
       "    .dataframe tbody tr th:only-of-type {\n",
       "        vertical-align: middle;\n",
       "    }\n",
       "\n",
       "    .dataframe tbody tr th {\n",
       "        vertical-align: top;\n",
       "    }\n",
       "\n",
       "    .dataframe thead th {\n",
       "        text-align: right;\n",
       "    }\n",
       "</style>\n",
       "<table border=\"1\" class=\"dataframe\">\n",
       "  <thead>\n",
       "    <tr style=\"text-align: right;\">\n",
       "      <th></th>\n",
       "      <th>Gender</th>\n",
       "      <th>FSIQ</th>\n",
       "      <th>VIQ</th>\n",
       "      <th>PIQ</th>\n",
       "      <th>Weight</th>\n",
       "      <th>Height</th>\n",
       "      <th>MRI_Count</th>\n",
       "    </tr>\n",
       "  </thead>\n",
       "  <tbody>\n",
       "    <tr>\n",
       "      <th>20</th>\n",
       "      <td>Male</td>\n",
       "      <td>83.0</td>\n",
       "      <td>83</td>\n",
       "      <td>86</td>\n",
       "      <td>NaN</td>\n",
       "      <td>NaN</td>\n",
       "      <td>892420</td>\n",
       "    </tr>\n",
       "  </tbody>\n",
       "</table>\n",
       "</div>"
      ],
      "text/plain": [
       "   Gender  FSIQ  VIQ  PIQ  Weight  Height  MRI_Count\n",
       "20   Male  83.0   83   86     NaN     NaN     892420"
      ]
     },
     "execution_count": 27,
     "metadata": {},
     "output_type": "execute_result"
    }
   ],
   "source": [
    "data[data.Height.isnull()]"
   ]
  },
  {
   "cell_type": "markdown",
   "metadata": {
    "pycharm": {
     "name": "#%% md\n"
    }
   },
   "source": [
    "### Let's solve the case 1 of Weight with regression according to Height because both variables are highly correlated"
   ]
  },
  {
   "cell_type": "code",
   "execution_count": 29,
   "metadata": {
    "ExecuteTime": {
     "end_time": "2023-11-13T10:14:24.414838Z",
     "start_time": "2023-11-13T10:14:24.402Z"
    }
   },
   "outputs": [],
   "source": [
    "df = data.dropna()  # To drop the na values"
   ]
  },
  {
   "cell_type": "code",
   "execution_count": 31,
   "metadata": {
    "ExecuteTime": {
     "end_time": "2023-11-13T10:14:24.867830Z",
     "start_time": "2023-11-13T10:14:24.841260Z"
    },
    "pycharm": {
     "name": "#%%\n"
    }
   },
   "outputs": [
    {
     "name": "stdout",
     "output_type": "stream",
     "text": [
      "a = 4.1128591099915 - b = -130.35351805204996\n"
     ]
    }
   ],
   "source": [
    "def fit_func(x, a, b):\n",
    "    return a*x+b\n",
    "\n",
    "params = curve_fit(fit_func, df[\"Height\"], df[\"Weight\"])  # Again we use the value on the fitted line\n",
    "\n",
    "print(f\"a = {params[0][0]} - b = {params[0][1]}\")"
   ]
  },
  {
   "cell_type": "markdown",
   "metadata": {
    "pycharm": {
     "name": "#%% md\n"
    }
   },
   "source": [
    "### First we have to filter the NaNs"
   ]
  },
  {
   "cell_type": "code",
   "execution_count": 32,
   "metadata": {
    "ExecuteTime": {
     "end_time": "2023-11-12T20:38:46.455453Z",
     "start_time": "2023-11-12T20:38:46.452306Z"
    },
    "pycharm": {
     "name": "#%%\n"
    }
   },
   "outputs": [
    {
     "data": {
      "text/html": [
       "<div>\n",
       "<style scoped>\n",
       "    .dataframe tbody tr th:only-of-type {\n",
       "        vertical-align: middle;\n",
       "    }\n",
       "\n",
       "    .dataframe tbody tr th {\n",
       "        vertical-align: top;\n",
       "    }\n",
       "\n",
       "    .dataframe thead th {\n",
       "        text-align: right;\n",
       "    }\n",
       "</style>\n",
       "<table border=\"1\" class=\"dataframe\">\n",
       "  <thead>\n",
       "    <tr style=\"text-align: right;\">\n",
       "      <th></th>\n",
       "      <th>Gender</th>\n",
       "      <th>FSIQ</th>\n",
       "      <th>VIQ</th>\n",
       "      <th>PIQ</th>\n",
       "      <th>Weight</th>\n",
       "      <th>Height</th>\n",
       "      <th>MRI_Count</th>\n",
       "    </tr>\n",
       "  </thead>\n",
       "  <tbody>\n",
       "    <tr>\n",
       "      <th>0</th>\n",
       "      <td>Female</td>\n",
       "      <td>133.000</td>\n",
       "      <td>132</td>\n",
       "      <td>124</td>\n",
       "      <td>118.0</td>\n",
       "      <td>64.5</td>\n",
       "      <td>816932</td>\n",
       "    </tr>\n",
       "    <tr>\n",
       "      <th>2</th>\n",
       "      <td>Male</td>\n",
       "      <td>139.000</td>\n",
       "      <td>123</td>\n",
       "      <td>150</td>\n",
       "      <td>143.0</td>\n",
       "      <td>73.3</td>\n",
       "      <td>1038437</td>\n",
       "    </tr>\n",
       "    <tr>\n",
       "      <th>3</th>\n",
       "      <td>Male</td>\n",
       "      <td>133.000</td>\n",
       "      <td>129</td>\n",
       "      <td>128</td>\n",
       "      <td>172.0</td>\n",
       "      <td>68.8</td>\n",
       "      <td>965353</td>\n",
       "    </tr>\n",
       "    <tr>\n",
       "      <th>4</th>\n",
       "      <td>Female</td>\n",
       "      <td>137.000</td>\n",
       "      <td>132</td>\n",
       "      <td>134</td>\n",
       "      <td>147.0</td>\n",
       "      <td>65.0</td>\n",
       "      <td>951545</td>\n",
       "    </tr>\n",
       "    <tr>\n",
       "      <th>5</th>\n",
       "      <td>Female</td>\n",
       "      <td>99.000</td>\n",
       "      <td>90</td>\n",
       "      <td>110</td>\n",
       "      <td>146.0</td>\n",
       "      <td>69.0</td>\n",
       "      <td>928799</td>\n",
       "    </tr>\n",
       "    <tr>\n",
       "      <th>6</th>\n",
       "      <td>Female</td>\n",
       "      <td>138.000</td>\n",
       "      <td>136</td>\n",
       "      <td>131</td>\n",
       "      <td>138.0</td>\n",
       "      <td>64.5</td>\n",
       "      <td>991305</td>\n",
       "    </tr>\n",
       "    <tr>\n",
       "      <th>7</th>\n",
       "      <td>Female</td>\n",
       "      <td>92.000</td>\n",
       "      <td>90</td>\n",
       "      <td>98</td>\n",
       "      <td>175.0</td>\n",
       "      <td>66.0</td>\n",
       "      <td>854258</td>\n",
       "    </tr>\n",
       "    <tr>\n",
       "      <th>8</th>\n",
       "      <td>Male</td>\n",
       "      <td>90.994</td>\n",
       "      <td>93</td>\n",
       "      <td>84</td>\n",
       "      <td>134.0</td>\n",
       "      <td>66.3</td>\n",
       "      <td>904858</td>\n",
       "    </tr>\n",
       "    <tr>\n",
       "      <th>9</th>\n",
       "      <td>Male</td>\n",
       "      <td>133.000</td>\n",
       "      <td>114</td>\n",
       "      <td>147</td>\n",
       "      <td>172.0</td>\n",
       "      <td>68.8</td>\n",
       "      <td>955466</td>\n",
       "    </tr>\n",
       "    <tr>\n",
       "      <th>10</th>\n",
       "      <td>Female</td>\n",
       "      <td>132.000</td>\n",
       "      <td>129</td>\n",
       "      <td>124</td>\n",
       "      <td>118.0</td>\n",
       "      <td>64.5</td>\n",
       "      <td>833868</td>\n",
       "    </tr>\n",
       "    <tr>\n",
       "      <th>11</th>\n",
       "      <td>Male</td>\n",
       "      <td>141.000</td>\n",
       "      <td>150</td>\n",
       "      <td>128</td>\n",
       "      <td>151.0</td>\n",
       "      <td>70.0</td>\n",
       "      <td>1079549</td>\n",
       "    </tr>\n",
       "    <tr>\n",
       "      <th>12</th>\n",
       "      <td>Male</td>\n",
       "      <td>135.000</td>\n",
       "      <td>129</td>\n",
       "      <td>124</td>\n",
       "      <td>155.0</td>\n",
       "      <td>69.0</td>\n",
       "      <td>924059</td>\n",
       "    </tr>\n",
       "    <tr>\n",
       "      <th>13</th>\n",
       "      <td>Female</td>\n",
       "      <td>140.000</td>\n",
       "      <td>120</td>\n",
       "      <td>147</td>\n",
       "      <td>155.0</td>\n",
       "      <td>70.5</td>\n",
       "      <td>856472</td>\n",
       "    </tr>\n",
       "    <tr>\n",
       "      <th>14</th>\n",
       "      <td>Female</td>\n",
       "      <td>96.000</td>\n",
       "      <td>100</td>\n",
       "      <td>90</td>\n",
       "      <td>146.0</td>\n",
       "      <td>66.0</td>\n",
       "      <td>878897</td>\n",
       "    </tr>\n",
       "    <tr>\n",
       "      <th>15</th>\n",
       "      <td>Female</td>\n",
       "      <td>83.000</td>\n",
       "      <td>71</td>\n",
       "      <td>96</td>\n",
       "      <td>135.0</td>\n",
       "      <td>68.0</td>\n",
       "      <td>865363</td>\n",
       "    </tr>\n",
       "    <tr>\n",
       "      <th>16</th>\n",
       "      <td>Female</td>\n",
       "      <td>240.000</td>\n",
       "      <td>132</td>\n",
       "      <td>120</td>\n",
       "      <td>127.0</td>\n",
       "      <td>68.5</td>\n",
       "      <td>852244</td>\n",
       "    </tr>\n",
       "    <tr>\n",
       "      <th>17</th>\n",
       "      <td>Male</td>\n",
       "      <td>100.000</td>\n",
       "      <td>96</td>\n",
       "      <td>102</td>\n",
       "      <td>178.0</td>\n",
       "      <td>73.5</td>\n",
       "      <td>945088</td>\n",
       "    </tr>\n",
       "    <tr>\n",
       "      <th>18</th>\n",
       "      <td>Female</td>\n",
       "      <td>101.000</td>\n",
       "      <td>112</td>\n",
       "      <td>84</td>\n",
       "      <td>136.0</td>\n",
       "      <td>66.3</td>\n",
       "      <td>808020</td>\n",
       "    </tr>\n",
       "    <tr>\n",
       "      <th>19</th>\n",
       "      <td>Male</td>\n",
       "      <td>80.000</td>\n",
       "      <td>77</td>\n",
       "      <td>86</td>\n",
       "      <td>180.0</td>\n",
       "      <td>70.0</td>\n",
       "      <td>889083</td>\n",
       "    </tr>\n",
       "    <tr>\n",
       "      <th>21</th>\n",
       "      <td>Male</td>\n",
       "      <td>97.000</td>\n",
       "      <td>107</td>\n",
       "      <td>84</td>\n",
       "      <td>186.0</td>\n",
       "      <td>76.5</td>\n",
       "      <td>905940</td>\n",
       "    </tr>\n",
       "    <tr>\n",
       "      <th>22</th>\n",
       "      <td>Female</td>\n",
       "      <td>135.000</td>\n",
       "      <td>129</td>\n",
       "      <td>134</td>\n",
       "      <td>122.0</td>\n",
       "      <td>62.0</td>\n",
       "      <td>790619</td>\n",
       "    </tr>\n",
       "    <tr>\n",
       "      <th>23</th>\n",
       "      <td>Male</td>\n",
       "      <td>139.000</td>\n",
       "      <td>145</td>\n",
       "      <td>128</td>\n",
       "      <td>132.0</td>\n",
       "      <td>68.0</td>\n",
       "      <td>955003</td>\n",
       "    </tr>\n",
       "    <tr>\n",
       "      <th>24</th>\n",
       "      <td>Female</td>\n",
       "      <td>91.000</td>\n",
       "      <td>86</td>\n",
       "      <td>102</td>\n",
       "      <td>114.0</td>\n",
       "      <td>63.0</td>\n",
       "      <td>831772</td>\n",
       "    </tr>\n",
       "    <tr>\n",
       "      <th>25</th>\n",
       "      <td>Male</td>\n",
       "      <td>141.000</td>\n",
       "      <td>145</td>\n",
       "      <td>131</td>\n",
       "      <td>171.0</td>\n",
       "      <td>72.0</td>\n",
       "      <td>935494</td>\n",
       "    </tr>\n",
       "    <tr>\n",
       "      <th>26</th>\n",
       "      <td>Female</td>\n",
       "      <td>85.000</td>\n",
       "      <td>90</td>\n",
       "      <td>84</td>\n",
       "      <td>140.0</td>\n",
       "      <td>68.0</td>\n",
       "      <td>798612</td>\n",
       "    </tr>\n",
       "    <tr>\n",
       "      <th>27</th>\n",
       "      <td>Male</td>\n",
       "      <td>103.000</td>\n",
       "      <td>96</td>\n",
       "      <td>110</td>\n",
       "      <td>187.0</td>\n",
       "      <td>77.0</td>\n",
       "      <td>1062462</td>\n",
       "    </tr>\n",
       "    <tr>\n",
       "      <th>28</th>\n",
       "      <td>Female</td>\n",
       "      <td>77.000</td>\n",
       "      <td>83</td>\n",
       "      <td>72</td>\n",
       "      <td>106.0</td>\n",
       "      <td>63.0</td>\n",
       "      <td>793549</td>\n",
       "    </tr>\n",
       "    <tr>\n",
       "      <th>29</th>\n",
       "      <td>Female</td>\n",
       "      <td>130.000</td>\n",
       "      <td>126</td>\n",
       "      <td>124</td>\n",
       "      <td>159.0</td>\n",
       "      <td>66.5</td>\n",
       "      <td>866662</td>\n",
       "    </tr>\n",
       "    <tr>\n",
       "      <th>30</th>\n",
       "      <td>Female</td>\n",
       "      <td>133.000</td>\n",
       "      <td>126</td>\n",
       "      <td>132</td>\n",
       "      <td>127.0</td>\n",
       "      <td>62.5</td>\n",
       "      <td>857782</td>\n",
       "    </tr>\n",
       "    <tr>\n",
       "      <th>31</th>\n",
       "      <td>Male</td>\n",
       "      <td>144.000</td>\n",
       "      <td>145</td>\n",
       "      <td>137</td>\n",
       "      <td>191.0</td>\n",
       "      <td>67.0</td>\n",
       "      <td>949589</td>\n",
       "    </tr>\n",
       "    <tr>\n",
       "      <th>32</th>\n",
       "      <td>Male</td>\n",
       "      <td>103.000</td>\n",
       "      <td>96</td>\n",
       "      <td>110</td>\n",
       "      <td>192.0</td>\n",
       "      <td>75.5</td>\n",
       "      <td>997925</td>\n",
       "    </tr>\n",
       "    <tr>\n",
       "      <th>33</th>\n",
       "      <td>Male</td>\n",
       "      <td>90.000</td>\n",
       "      <td>96</td>\n",
       "      <td>86</td>\n",
       "      <td>181.0</td>\n",
       "      <td>69.0</td>\n",
       "      <td>879987</td>\n",
       "    </tr>\n",
       "    <tr>\n",
       "      <th>34</th>\n",
       "      <td>Female</td>\n",
       "      <td>83.000</td>\n",
       "      <td>90</td>\n",
       "      <td>81</td>\n",
       "      <td>143.0</td>\n",
       "      <td>66.5</td>\n",
       "      <td>834344</td>\n",
       "    </tr>\n",
       "    <tr>\n",
       "      <th>35</th>\n",
       "      <td>Female</td>\n",
       "      <td>133.000</td>\n",
       "      <td>129</td>\n",
       "      <td>128</td>\n",
       "      <td>153.0</td>\n",
       "      <td>66.5</td>\n",
       "      <td>948066</td>\n",
       "    </tr>\n",
       "    <tr>\n",
       "      <th>36</th>\n",
       "      <td>Male</td>\n",
       "      <td>140.000</td>\n",
       "      <td>150</td>\n",
       "      <td>124</td>\n",
       "      <td>144.0</td>\n",
       "      <td>70.5</td>\n",
       "      <td>949395</td>\n",
       "    </tr>\n",
       "    <tr>\n",
       "      <th>37</th>\n",
       "      <td>Female</td>\n",
       "      <td>88.000</td>\n",
       "      <td>86</td>\n",
       "      <td>94</td>\n",
       "      <td>139.0</td>\n",
       "      <td>64.5</td>\n",
       "      <td>893983</td>\n",
       "    </tr>\n",
       "    <tr>\n",
       "      <th>38</th>\n",
       "      <td>Male</td>\n",
       "      <td>81.000</td>\n",
       "      <td>90</td>\n",
       "      <td>74</td>\n",
       "      <td>148.0</td>\n",
       "      <td>74.0</td>\n",
       "      <td>930016</td>\n",
       "    </tr>\n",
       "    <tr>\n",
       "      <th>39</th>\n",
       "      <td>Male</td>\n",
       "      <td>89.000</td>\n",
       "      <td>91</td>\n",
       "      <td>89</td>\n",
       "      <td>179.0</td>\n",
       "      <td>75.5</td>\n",
       "      <td>935863</td>\n",
       "    </tr>\n",
       "  </tbody>\n",
       "</table>\n",
       "</div>"
      ],
      "text/plain": [
       "    Gender     FSIQ  VIQ  PIQ  Weight  Height  MRI_Count\n",
       "0   Female  133.000  132  124   118.0    64.5     816932\n",
       "2     Male  139.000  123  150   143.0    73.3    1038437\n",
       "3     Male  133.000  129  128   172.0    68.8     965353\n",
       "4   Female  137.000  132  134   147.0    65.0     951545\n",
       "5   Female   99.000   90  110   146.0    69.0     928799\n",
       "6   Female  138.000  136  131   138.0    64.5     991305\n",
       "7   Female   92.000   90   98   175.0    66.0     854258\n",
       "8     Male   90.994   93   84   134.0    66.3     904858\n",
       "9     Male  133.000  114  147   172.0    68.8     955466\n",
       "10  Female  132.000  129  124   118.0    64.5     833868\n",
       "11    Male  141.000  150  128   151.0    70.0    1079549\n",
       "12    Male  135.000  129  124   155.0    69.0     924059\n",
       "13  Female  140.000  120  147   155.0    70.5     856472\n",
       "14  Female   96.000  100   90   146.0    66.0     878897\n",
       "15  Female   83.000   71   96   135.0    68.0     865363\n",
       "16  Female  240.000  132  120   127.0    68.5     852244\n",
       "17    Male  100.000   96  102   178.0    73.5     945088\n",
       "18  Female  101.000  112   84   136.0    66.3     808020\n",
       "19    Male   80.000   77   86   180.0    70.0     889083\n",
       "21    Male   97.000  107   84   186.0    76.5     905940\n",
       "22  Female  135.000  129  134   122.0    62.0     790619\n",
       "23    Male  139.000  145  128   132.0    68.0     955003\n",
       "24  Female   91.000   86  102   114.0    63.0     831772\n",
       "25    Male  141.000  145  131   171.0    72.0     935494\n",
       "26  Female   85.000   90   84   140.0    68.0     798612\n",
       "27    Male  103.000   96  110   187.0    77.0    1062462\n",
       "28  Female   77.000   83   72   106.0    63.0     793549\n",
       "29  Female  130.000  126  124   159.0    66.5     866662\n",
       "30  Female  133.000  126  132   127.0    62.5     857782\n",
       "31    Male  144.000  145  137   191.0    67.0     949589\n",
       "32    Male  103.000   96  110   192.0    75.5     997925\n",
       "33    Male   90.000   96   86   181.0    69.0     879987\n",
       "34  Female   83.000   90   81   143.0    66.5     834344\n",
       "35  Female  133.000  129  128   153.0    66.5     948066\n",
       "36    Male  140.000  150  124   144.0    70.5     949395\n",
       "37  Female   88.000   86   94   139.0    64.5     893983\n",
       "38    Male   81.000   90   74   148.0    74.0     930016\n",
       "39    Male   89.000   91   89   179.0    75.5     935863"
      ]
     },
     "execution_count": 32,
     "metadata": {},
     "output_type": "execute_result"
    }
   ],
   "source": [
    "df = data.dropna(axis=0)\n",
    "df"
   ]
  },
  {
   "cell_type": "code",
   "execution_count": 33,
   "metadata": {
    "ExecuteTime": {
     "end_time": "2023-11-12T20:38:46.668461Z",
     "start_time": "2023-11-12T20:38:46.663712Z"
    },
    "pycharm": {
     "name": "#%%\n"
    }
   },
   "outputs": [
    {
     "name": "stdout",
     "output_type": "stream",
     "text": [
      "a= 4.1128591099915 b= -130.35351805204996\n"
     ]
    }
   ],
   "source": [
    "def fit_func(x, a, b):\n",
    "    return a * x + b\n",
    "\n",
    "params = curve_fit(fit_func, df.Height, df.Weight)\n",
    "print('a=',params[0][0], 'b=',params[0][1])"
   ]
  },
  {
   "cell_type": "code",
   "execution_count": 34,
   "metadata": {
    "ExecuteTime": {
     "end_time": "2023-11-12T20:38:46.929068Z",
     "start_time": "2023-11-12T20:38:46.925409Z"
    },
    "pycharm": {
     "name": "#%%\n"
    }
   },
   "outputs": [
    {
     "name": "stdout",
     "output_type": "stream",
     "text": [
      "1     167.829\n",
      "20        NaN\n",
      "Name: Height, dtype: float64\n"
     ]
    },
    {
     "name": "stderr",
     "output_type": "stream",
     "text": [
      "/var/folders/9y/h_htr0yd59j121xzw7vclx6h0000gn/T/ipykernel_42962/2063143036.py:6: SettingWithCopyWarning: \n",
      "A value is trying to be set on a copy of a slice from a DataFrame\n",
      "\n",
      "See the caveats in the documentation: https://pandas.pydata.org/pandas-docs/stable/user_guide/indexing.html#returning-a-view-versus-a-copy\n",
      "  data.Weight[idx] = fit_func(data['Height'][idx], params[0][0], params[0][1])\n"
     ]
    }
   ],
   "source": [
    "idx = data.Weight.isnull()\n",
    "#data.set_value(idx, 'Weight', fit_func(data['Height'][idx],params[0][0],params[0][1]))\n",
    "\n",
    "#data.set_value(idx, 'Weight', fit_func(data['Height'][idx],params[0][0],params[0][1]))\n",
    "print(fit_func(data['Height'][idx], params[0][0], params[0][1]))\n",
    "data.Weight[idx] = fit_func(data['Height'][idx], params[0][0], params[0][1])"
   ]
  },
  {
   "cell_type": "markdown",
   "metadata": {
    "pycharm": {
     "name": "#%% md\n"
    }
   },
   "source": [
    "### For the remainding Nas, we will replace the value with the average of the column"
   ]
  },
  {
   "cell_type": "code",
   "execution_count": 35,
   "metadata": {
    "ExecuteTime": {
     "end_time": "2023-11-13T10:16:26.040117Z",
     "start_time": "2023-11-13T10:16:26.035886Z"
    },
    "pycharm": {
     "name": "#%%\n"
    }
   },
   "outputs": [
    {
     "name": "stderr",
     "output_type": "stream",
     "text": [
      "/var/folders/9y/h_htr0yd59j121xzw7vclx6h0000gn/T/ipykernel_42962/1751859613.py:1: FutureWarning: The default value of numeric_only in DataFrame.mean is deprecated. In a future version, it will default to False. In addition, specifying 'numeric_only=None' is deprecated. Select only valid columns or specify the value of numeric_only to silence this warning.\n",
      "  data.fillna(data.mean())  # With this pandas' functions directly we can replace nans for the mean in the feature\n"
     ]
    },
    {
     "data": {
      "text/html": [
       "<div>\n",
       "<style scoped>\n",
       "    .dataframe tbody tr th:only-of-type {\n",
       "        vertical-align: middle;\n",
       "    }\n",
       "\n",
       "    .dataframe tbody tr th {\n",
       "        vertical-align: top;\n",
       "    }\n",
       "\n",
       "    .dataframe thead th {\n",
       "        text-align: right;\n",
       "    }\n",
       "</style>\n",
       "<table border=\"1\" class=\"dataframe\">\n",
       "  <thead>\n",
       "    <tr style=\"text-align: right;\">\n",
       "      <th></th>\n",
       "      <th>Gender</th>\n",
       "      <th>FSIQ</th>\n",
       "      <th>VIQ</th>\n",
       "      <th>PIQ</th>\n",
       "      <th>Weight</th>\n",
       "      <th>Height</th>\n",
       "      <th>MRI_Count</th>\n",
       "    </tr>\n",
       "  </thead>\n",
       "  <tbody>\n",
       "    <tr>\n",
       "      <th>0</th>\n",
       "      <td>Female</td>\n",
       "      <td>133.000</td>\n",
       "      <td>132</td>\n",
       "      <td>124</td>\n",
       "      <td>118.000</td>\n",
       "      <td>64.500</td>\n",
       "      <td>816932</td>\n",
       "    </tr>\n",
       "    <tr>\n",
       "      <th>1</th>\n",
       "      <td>Male</td>\n",
       "      <td>140.000</td>\n",
       "      <td>150</td>\n",
       "      <td>124</td>\n",
       "      <td>167.829</td>\n",
       "      <td>72.500</td>\n",
       "      <td>1001121</td>\n",
       "    </tr>\n",
       "    <tr>\n",
       "      <th>2</th>\n",
       "      <td>Male</td>\n",
       "      <td>139.000</td>\n",
       "      <td>123</td>\n",
       "      <td>150</td>\n",
       "      <td>143.000</td>\n",
       "      <td>73.300</td>\n",
       "      <td>1038437</td>\n",
       "    </tr>\n",
       "    <tr>\n",
       "      <th>3</th>\n",
       "      <td>Male</td>\n",
       "      <td>133.000</td>\n",
       "      <td>129</td>\n",
       "      <td>128</td>\n",
       "      <td>172.000</td>\n",
       "      <td>68.800</td>\n",
       "      <td>965353</td>\n",
       "    </tr>\n",
       "    <tr>\n",
       "      <th>4</th>\n",
       "      <td>Female</td>\n",
       "      <td>137.000</td>\n",
       "      <td>132</td>\n",
       "      <td>134</td>\n",
       "      <td>147.000</td>\n",
       "      <td>65.000</td>\n",
       "      <td>951545</td>\n",
       "    </tr>\n",
       "    <tr>\n",
       "      <th>5</th>\n",
       "      <td>Female</td>\n",
       "      <td>99.000</td>\n",
       "      <td>90</td>\n",
       "      <td>110</td>\n",
       "      <td>146.000</td>\n",
       "      <td>69.000</td>\n",
       "      <td>928799</td>\n",
       "    </tr>\n",
       "    <tr>\n",
       "      <th>6</th>\n",
       "      <td>Female</td>\n",
       "      <td>138.000</td>\n",
       "      <td>136</td>\n",
       "      <td>131</td>\n",
       "      <td>138.000</td>\n",
       "      <td>64.500</td>\n",
       "      <td>991305</td>\n",
       "    </tr>\n",
       "    <tr>\n",
       "      <th>7</th>\n",
       "      <td>Female</td>\n",
       "      <td>92.000</td>\n",
       "      <td>90</td>\n",
       "      <td>98</td>\n",
       "      <td>175.000</td>\n",
       "      <td>66.000</td>\n",
       "      <td>854258</td>\n",
       "    </tr>\n",
       "    <tr>\n",
       "      <th>8</th>\n",
       "      <td>Male</td>\n",
       "      <td>90.994</td>\n",
       "      <td>93</td>\n",
       "      <td>84</td>\n",
       "      <td>134.000</td>\n",
       "      <td>66.300</td>\n",
       "      <td>904858</td>\n",
       "    </tr>\n",
       "    <tr>\n",
       "      <th>9</th>\n",
       "      <td>Male</td>\n",
       "      <td>133.000</td>\n",
       "      <td>114</td>\n",
       "      <td>147</td>\n",
       "      <td>172.000</td>\n",
       "      <td>68.800</td>\n",
       "      <td>955466</td>\n",
       "    </tr>\n",
       "    <tr>\n",
       "      <th>10</th>\n",
       "      <td>Female</td>\n",
       "      <td>132.000</td>\n",
       "      <td>129</td>\n",
       "      <td>124</td>\n",
       "      <td>118.000</td>\n",
       "      <td>64.500</td>\n",
       "      <td>833868</td>\n",
       "    </tr>\n",
       "    <tr>\n",
       "      <th>11</th>\n",
       "      <td>Male</td>\n",
       "      <td>141.000</td>\n",
       "      <td>150</td>\n",
       "      <td>128</td>\n",
       "      <td>151.000</td>\n",
       "      <td>70.000</td>\n",
       "      <td>1079549</td>\n",
       "    </tr>\n",
       "    <tr>\n",
       "      <th>12</th>\n",
       "      <td>Male</td>\n",
       "      <td>135.000</td>\n",
       "      <td>129</td>\n",
       "      <td>124</td>\n",
       "      <td>155.000</td>\n",
       "      <td>69.000</td>\n",
       "      <td>924059</td>\n",
       "    </tr>\n",
       "    <tr>\n",
       "      <th>13</th>\n",
       "      <td>Female</td>\n",
       "      <td>140.000</td>\n",
       "      <td>120</td>\n",
       "      <td>147</td>\n",
       "      <td>155.000</td>\n",
       "      <td>70.500</td>\n",
       "      <td>856472</td>\n",
       "    </tr>\n",
       "    <tr>\n",
       "      <th>14</th>\n",
       "      <td>Female</td>\n",
       "      <td>96.000</td>\n",
       "      <td>100</td>\n",
       "      <td>90</td>\n",
       "      <td>146.000</td>\n",
       "      <td>66.000</td>\n",
       "      <td>878897</td>\n",
       "    </tr>\n",
       "    <tr>\n",
       "      <th>15</th>\n",
       "      <td>Female</td>\n",
       "      <td>83.000</td>\n",
       "      <td>71</td>\n",
       "      <td>96</td>\n",
       "      <td>135.000</td>\n",
       "      <td>68.000</td>\n",
       "      <td>865363</td>\n",
       "    </tr>\n",
       "    <tr>\n",
       "      <th>16</th>\n",
       "      <td>Female</td>\n",
       "      <td>240.000</td>\n",
       "      <td>132</td>\n",
       "      <td>120</td>\n",
       "      <td>127.000</td>\n",
       "      <td>68.500</td>\n",
       "      <td>852244</td>\n",
       "    </tr>\n",
       "    <tr>\n",
       "      <th>17</th>\n",
       "      <td>Male</td>\n",
       "      <td>100.000</td>\n",
       "      <td>96</td>\n",
       "      <td>102</td>\n",
       "      <td>178.000</td>\n",
       "      <td>73.500</td>\n",
       "      <td>945088</td>\n",
       "    </tr>\n",
       "    <tr>\n",
       "      <th>18</th>\n",
       "      <td>Female</td>\n",
       "      <td>101.000</td>\n",
       "      <td>112</td>\n",
       "      <td>84</td>\n",
       "      <td>136.000</td>\n",
       "      <td>66.300</td>\n",
       "      <td>808020</td>\n",
       "    </tr>\n",
       "    <tr>\n",
       "      <th>19</th>\n",
       "      <td>Male</td>\n",
       "      <td>80.000</td>\n",
       "      <td>77</td>\n",
       "      <td>86</td>\n",
       "      <td>180.000</td>\n",
       "      <td>70.000</td>\n",
       "      <td>889083</td>\n",
       "    </tr>\n",
       "    <tr>\n",
       "      <th>20</th>\n",
       "      <td>Male</td>\n",
       "      <td>83.000</td>\n",
       "      <td>83</td>\n",
       "      <td>86</td>\n",
       "      <td>151.483</td>\n",
       "      <td>68.526</td>\n",
       "      <td>892420</td>\n",
       "    </tr>\n",
       "    <tr>\n",
       "      <th>21</th>\n",
       "      <td>Male</td>\n",
       "      <td>97.000</td>\n",
       "      <td>107</td>\n",
       "      <td>84</td>\n",
       "      <td>186.000</td>\n",
       "      <td>76.500</td>\n",
       "      <td>905940</td>\n",
       "    </tr>\n",
       "    <tr>\n",
       "      <th>22</th>\n",
       "      <td>Female</td>\n",
       "      <td>135.000</td>\n",
       "      <td>129</td>\n",
       "      <td>134</td>\n",
       "      <td>122.000</td>\n",
       "      <td>62.000</td>\n",
       "      <td>790619</td>\n",
       "    </tr>\n",
       "    <tr>\n",
       "      <th>23</th>\n",
       "      <td>Male</td>\n",
       "      <td>139.000</td>\n",
       "      <td>145</td>\n",
       "      <td>128</td>\n",
       "      <td>132.000</td>\n",
       "      <td>68.000</td>\n",
       "      <td>955003</td>\n",
       "    </tr>\n",
       "    <tr>\n",
       "      <th>24</th>\n",
       "      <td>Female</td>\n",
       "      <td>91.000</td>\n",
       "      <td>86</td>\n",
       "      <td>102</td>\n",
       "      <td>114.000</td>\n",
       "      <td>63.000</td>\n",
       "      <td>831772</td>\n",
       "    </tr>\n",
       "    <tr>\n",
       "      <th>25</th>\n",
       "      <td>Male</td>\n",
       "      <td>141.000</td>\n",
       "      <td>145</td>\n",
       "      <td>131</td>\n",
       "      <td>171.000</td>\n",
       "      <td>72.000</td>\n",
       "      <td>935494</td>\n",
       "    </tr>\n",
       "    <tr>\n",
       "      <th>26</th>\n",
       "      <td>Female</td>\n",
       "      <td>85.000</td>\n",
       "      <td>90</td>\n",
       "      <td>84</td>\n",
       "      <td>140.000</td>\n",
       "      <td>68.000</td>\n",
       "      <td>798612</td>\n",
       "    </tr>\n",
       "    <tr>\n",
       "      <th>27</th>\n",
       "      <td>Male</td>\n",
       "      <td>103.000</td>\n",
       "      <td>96</td>\n",
       "      <td>110</td>\n",
       "      <td>187.000</td>\n",
       "      <td>77.000</td>\n",
       "      <td>1062462</td>\n",
       "    </tr>\n",
       "    <tr>\n",
       "      <th>28</th>\n",
       "      <td>Female</td>\n",
       "      <td>77.000</td>\n",
       "      <td>83</td>\n",
       "      <td>72</td>\n",
       "      <td>106.000</td>\n",
       "      <td>63.000</td>\n",
       "      <td>793549</td>\n",
       "    </tr>\n",
       "    <tr>\n",
       "      <th>29</th>\n",
       "      <td>Female</td>\n",
       "      <td>130.000</td>\n",
       "      <td>126</td>\n",
       "      <td>124</td>\n",
       "      <td>159.000</td>\n",
       "      <td>66.500</td>\n",
       "      <td>866662</td>\n",
       "    </tr>\n",
       "    <tr>\n",
       "      <th>30</th>\n",
       "      <td>Female</td>\n",
       "      <td>133.000</td>\n",
       "      <td>126</td>\n",
       "      <td>132</td>\n",
       "      <td>127.000</td>\n",
       "      <td>62.500</td>\n",
       "      <td>857782</td>\n",
       "    </tr>\n",
       "    <tr>\n",
       "      <th>31</th>\n",
       "      <td>Male</td>\n",
       "      <td>144.000</td>\n",
       "      <td>145</td>\n",
       "      <td>137</td>\n",
       "      <td>191.000</td>\n",
       "      <td>67.000</td>\n",
       "      <td>949589</td>\n",
       "    </tr>\n",
       "    <tr>\n",
       "      <th>32</th>\n",
       "      <td>Male</td>\n",
       "      <td>103.000</td>\n",
       "      <td>96</td>\n",
       "      <td>110</td>\n",
       "      <td>192.000</td>\n",
       "      <td>75.500</td>\n",
       "      <td>997925</td>\n",
       "    </tr>\n",
       "    <tr>\n",
       "      <th>33</th>\n",
       "      <td>Male</td>\n",
       "      <td>90.000</td>\n",
       "      <td>96</td>\n",
       "      <td>86</td>\n",
       "      <td>181.000</td>\n",
       "      <td>69.000</td>\n",
       "      <td>879987</td>\n",
       "    </tr>\n",
       "    <tr>\n",
       "      <th>34</th>\n",
       "      <td>Female</td>\n",
       "      <td>83.000</td>\n",
       "      <td>90</td>\n",
       "      <td>81</td>\n",
       "      <td>143.000</td>\n",
       "      <td>66.500</td>\n",
       "      <td>834344</td>\n",
       "    </tr>\n",
       "    <tr>\n",
       "      <th>35</th>\n",
       "      <td>Female</td>\n",
       "      <td>133.000</td>\n",
       "      <td>129</td>\n",
       "      <td>128</td>\n",
       "      <td>153.000</td>\n",
       "      <td>66.500</td>\n",
       "      <td>948066</td>\n",
       "    </tr>\n",
       "    <tr>\n",
       "      <th>36</th>\n",
       "      <td>Male</td>\n",
       "      <td>140.000</td>\n",
       "      <td>150</td>\n",
       "      <td>124</td>\n",
       "      <td>144.000</td>\n",
       "      <td>70.500</td>\n",
       "      <td>949395</td>\n",
       "    </tr>\n",
       "    <tr>\n",
       "      <th>37</th>\n",
       "      <td>Female</td>\n",
       "      <td>88.000</td>\n",
       "      <td>86</td>\n",
       "      <td>94</td>\n",
       "      <td>139.000</td>\n",
       "      <td>64.500</td>\n",
       "      <td>893983</td>\n",
       "    </tr>\n",
       "    <tr>\n",
       "      <th>38</th>\n",
       "      <td>Male</td>\n",
       "      <td>81.000</td>\n",
       "      <td>90</td>\n",
       "      <td>74</td>\n",
       "      <td>148.000</td>\n",
       "      <td>74.000</td>\n",
       "      <td>930016</td>\n",
       "    </tr>\n",
       "    <tr>\n",
       "      <th>39</th>\n",
       "      <td>Male</td>\n",
       "      <td>89.000</td>\n",
       "      <td>91</td>\n",
       "      <td>89</td>\n",
       "      <td>179.000</td>\n",
       "      <td>75.500</td>\n",
       "      <td>935863</td>\n",
       "    </tr>\n",
       "  </tbody>\n",
       "</table>\n",
       "</div>"
      ],
      "text/plain": [
       "    Gender     FSIQ  VIQ  PIQ   Weight  Height  MRI_Count\n",
       "0   Female  133.000  132  124  118.000  64.500     816932\n",
       "1     Male  140.000  150  124  167.829  72.500    1001121\n",
       "2     Male  139.000  123  150  143.000  73.300    1038437\n",
       "3     Male  133.000  129  128  172.000  68.800     965353\n",
       "4   Female  137.000  132  134  147.000  65.000     951545\n",
       "5   Female   99.000   90  110  146.000  69.000     928799\n",
       "6   Female  138.000  136  131  138.000  64.500     991305\n",
       "7   Female   92.000   90   98  175.000  66.000     854258\n",
       "8     Male   90.994   93   84  134.000  66.300     904858\n",
       "9     Male  133.000  114  147  172.000  68.800     955466\n",
       "10  Female  132.000  129  124  118.000  64.500     833868\n",
       "11    Male  141.000  150  128  151.000  70.000    1079549\n",
       "12    Male  135.000  129  124  155.000  69.000     924059\n",
       "13  Female  140.000  120  147  155.000  70.500     856472\n",
       "14  Female   96.000  100   90  146.000  66.000     878897\n",
       "15  Female   83.000   71   96  135.000  68.000     865363\n",
       "16  Female  240.000  132  120  127.000  68.500     852244\n",
       "17    Male  100.000   96  102  178.000  73.500     945088\n",
       "18  Female  101.000  112   84  136.000  66.300     808020\n",
       "19    Male   80.000   77   86  180.000  70.000     889083\n",
       "20    Male   83.000   83   86  151.483  68.526     892420\n",
       "21    Male   97.000  107   84  186.000  76.500     905940\n",
       "22  Female  135.000  129  134  122.000  62.000     790619\n",
       "23    Male  139.000  145  128  132.000  68.000     955003\n",
       "24  Female   91.000   86  102  114.000  63.000     831772\n",
       "25    Male  141.000  145  131  171.000  72.000     935494\n",
       "26  Female   85.000   90   84  140.000  68.000     798612\n",
       "27    Male  103.000   96  110  187.000  77.000    1062462\n",
       "28  Female   77.000   83   72  106.000  63.000     793549\n",
       "29  Female  130.000  126  124  159.000  66.500     866662\n",
       "30  Female  133.000  126  132  127.000  62.500     857782\n",
       "31    Male  144.000  145  137  191.000  67.000     949589\n",
       "32    Male  103.000   96  110  192.000  75.500     997925\n",
       "33    Male   90.000   96   86  181.000  69.000     879987\n",
       "34  Female   83.000   90   81  143.000  66.500     834344\n",
       "35  Female  133.000  129  128  153.000  66.500     948066\n",
       "36    Male  140.000  150  124  144.000  70.500     949395\n",
       "37  Female   88.000   86   94  139.000  64.500     893983\n",
       "38    Male   81.000   90   74  148.000  74.000     930016\n",
       "39    Male   89.000   91   89  179.000  75.500     935863"
      ]
     },
     "execution_count": 35,
     "metadata": {},
     "output_type": "execute_result"
    }
   ],
   "source": [
    "data.fillna(data.mean())  # With this pandas' functions directly we can replace nans for the mean in the feature\n",
    "                          # Just be aware of not change too much the distribution on the value after doing this process"
   ]
  },
  {
   "cell_type": "code",
   "execution_count": 16,
   "metadata": {
    "ExecuteTime": {
     "end_time": "2023-11-12T20:38:47.621535Z",
     "start_time": "2023-11-12T20:38:47.607724Z"
    },
    "pycharm": {
     "name": "#%%\n"
    }
   },
   "outputs": [],
   "source": []
  },
  {
   "cell_type": "code",
   "execution_count": null,
   "metadata": {},
   "outputs": [],
   "source": []
  }
 ],
 "metadata": {
  "kernelspec": {
   "display_name": "Python 3 (ipykernel)",
   "language": "python",
   "name": "python3"
  },
  "language_info": {
   "codemirror_mode": {
    "name": "ipython",
    "version": 3
   },
   "file_extension": ".py",
   "mimetype": "text/x-python",
   "name": "python",
   "nbconvert_exporter": "python",
   "pygments_lexer": "ipython3",
   "version": "3.10.9"
  },
  "toc": {
   "base_numbering": 1,
   "nav_menu": {},
   "number_sections": true,
   "sideBar": true,
   "skip_h1_title": false,
   "title_cell": "Table of Contents",
   "title_sidebar": "Contents",
   "toc_cell": false,
   "toc_position": {},
   "toc_section_display": true,
   "toc_window_display": false
  }
 },
 "nbformat": 4,
 "nbformat_minor": 1
}
