{
 "cells": [
  {
   "cell_type": "markdown",
   "metadata": {},
   "source": [
    "# Data preparation and feature selection\n",
    "\n",
    "We present different techniques for encode the data and prepare them for applying ML algorithms. Also we present techniques for feature selection.\n",
    "\n",
    "By Mario Martín, modify by Manuel Gijón on April 2024.\n",
    "\n",
    "----"
   ]
  },
  {
   "cell_type": "code",
   "execution_count": 36,
   "metadata": {
    "ExecuteTime": {
     "end_time": "2024-04-22T09:29:53.154688Z",
     "start_time": "2024-04-22T09:29:53.150581Z"
    },
    "pycharm": {
     "name": "#%%\n"
    }
   },
   "outputs": [],
   "source": [
    "import numpy as np\n",
    "import pandas as pd\n",
    "import matplotlib.pyplot as plt\n",
    "\n",
    "import sklearn.neighbors as nb\n",
    "from sklearn.preprocessing import StandardScaler\n",
    "from sklearn.metrics import accuracy_score, recall_score\n",
    "from sklearn.feature_selection import (\n",
    "    mutual_info_classif,\n",
    "    SelectKBest\n",
    ")\n",
    "from sklearn.model_selection import (\n",
    "    StratifiedKFold,\n",
    "    cross_val_score,\n",
    "    cross_val_predict,\n",
    "    GridSearchCV\n",
    ")\n",
    "from sklearn.feature_selection import (\n",
    "    mutual_info_classif,\n",
    "    SelectKBest,\n",
    ")\n",
    "\n",
    "from sklearn.metrics import make_scorer, precision_score, recall_score\n",
    "\n",
    "%matplotlib inline"
   ]
  },
  {
   "cell_type": "markdown",
   "metadata": {
    "pycharm": {
     "name": "#%% md\n"
    }
   },
   "source": [
    "# DATA TRANSFORMATION: Normalization"
   ]
  },
  {
   "cell_type": "code",
   "execution_count": 37,
   "metadata": {
    "ExecuteTime": {
     "end_time": "2023-11-13T11:32:22.584160Z",
     "start_time": "2023-11-13T11:32:22.567271Z"
    },
    "pycharm": {
     "name": "#%%\n"
    }
   },
   "outputs": [],
   "source": [
    "import pandas as pd\n",
    "\n",
    "df = pd.read_csv(\"dades_preprocessades.csv\")\n",
    "X_bank = df.values[:,2:]\n",
    "y_bank = df.values[:,1]"
   ]
  },
  {
   "cell_type": "code",
   "execution_count": 38,
   "metadata": {
    "ExecuteTime": {
     "end_time": "2023-11-13T11:35:53.821135Z",
     "start_time": "2023-11-13T11:35:53.795903Z"
    }
   },
   "outputs": [
    {
     "data": {
      "text/html": [
       "<div>\n",
       "<style scoped>\n",
       "    .dataframe tbody tr th:only-of-type {\n",
       "        vertical-align: middle;\n",
       "    }\n",
       "\n",
       "    .dataframe tbody tr th {\n",
       "        vertical-align: top;\n",
       "    }\n",
       "\n",
       "    .dataframe thead th {\n",
       "        text-align: right;\n",
       "    }\n",
       "</style>\n",
       "<table border=\"1\" class=\"dataframe\">\n",
       "  <thead>\n",
       "    <tr style=\"text-align: right;\">\n",
       "      <th></th>\n",
       "      <th>Year_1</th>\n",
       "      <th>Current assets_1</th>\n",
       "      <th>Cost goods sold_1</th>\n",
       "      <th>DEP and AMO_1</th>\n",
       "      <th>EBITDA_1</th>\n",
       "      <th>Inventory_1</th>\n",
       "      <th>Net income_1</th>\n",
       "      <th>Total Receivables_1</th>\n",
       "      <th>Market value_1</th>\n",
       "      <th>Net sales_1</th>\n",
       "      <th>...</th>\n",
       "      <th>Net sales_3</th>\n",
       "      <th>Total assets_3</th>\n",
       "      <th>Long-term debt_3</th>\n",
       "      <th>EBIT_3</th>\n",
       "      <th>Gross Profit_3</th>\n",
       "      <th>Current Liabilities _3</th>\n",
       "      <th>Retained Earnings_3</th>\n",
       "      <th>Total Revenue_3</th>\n",
       "      <th>Total Liabilities_3</th>\n",
       "      <th>Operating Expenses_3</th>\n",
       "    </tr>\n",
       "  </thead>\n",
       "  <tbody>\n",
       "    <tr>\n",
       "      <th>count</th>\n",
       "      <td>7310.000000</td>\n",
       "      <td>7310.000000</td>\n",
       "      <td>7310.000000</td>\n",
       "      <td>7310.000000</td>\n",
       "      <td>7310.000000</td>\n",
       "      <td>7310.000000</td>\n",
       "      <td>7310.000000</td>\n",
       "      <td>7310.000000</td>\n",
       "      <td>7310.000000</td>\n",
       "      <td>7310.000000</td>\n",
       "      <td>...</td>\n",
       "      <td>7310.000000</td>\n",
       "      <td>7310.000000</td>\n",
       "      <td>7310.000000</td>\n",
       "      <td>7310.000000</td>\n",
       "      <td>7310.000000</td>\n",
       "      <td>7310.000000</td>\n",
       "      <td>7310.000000</td>\n",
       "      <td>7310.000000</td>\n",
       "      <td>7310.000000</td>\n",
       "      <td>7310.000000</td>\n",
       "    </tr>\n",
       "    <tr>\n",
       "      <th>mean</th>\n",
       "      <td>2010.023393</td>\n",
       "      <td>798.073034</td>\n",
       "      <td>1288.220050</td>\n",
       "      <td>114.610857</td>\n",
       "      <td>313.624063</td>\n",
       "      <td>167.777297</td>\n",
       "      <td>99.606616</td>\n",
       "      <td>250.475278</td>\n",
       "      <td>3097.479900</td>\n",
       "      <td>1949.243461</td>\n",
       "      <td>...</td>\n",
       "      <td>2213.199690</td>\n",
       "      <td>2961.361750</td>\n",
       "      <td>890.510675</td>\n",
       "      <td>242.439578</td>\n",
       "      <td>754.204890</td>\n",
       "      <td>641.706017</td>\n",
       "      <td>457.333572</td>\n",
       "      <td>2213.199690</td>\n",
       "      <td>1944.662389</td>\n",
       "      <td>1844.248983</td>\n",
       "    </tr>\n",
       "    <tr>\n",
       "      <th>std</th>\n",
       "      <td>5.959468</td>\n",
       "      <td>4252.226473</td>\n",
       "      <td>7762.951934</td>\n",
       "      <td>687.099519</td>\n",
       "      <td>1782.242918</td>\n",
       "      <td>1009.000678</td>\n",
       "      <td>984.454874</td>\n",
       "      <td>1377.061553</td>\n",
       "      <td>17929.525846</td>\n",
       "      <td>10549.543306</td>\n",
       "      <td>...</td>\n",
       "      <td>12094.178066</td>\n",
       "      <td>15154.120537</td>\n",
       "      <td>4601.400627</td>\n",
       "      <td>1563.079443</td>\n",
       "      <td>4113.233588</td>\n",
       "      <td>3626.350048</td>\n",
       "      <td>6867.785982</td>\n",
       "      <td>12094.178066</td>\n",
       "      <td>10082.903688</td>\n",
       "      <td>10552.574745</td>\n",
       "    </tr>\n",
       "    <tr>\n",
       "      <th>min</th>\n",
       "      <td>1999.000000</td>\n",
       "      <td>-1.124000</td>\n",
       "      <td>0.000000</td>\n",
       "      <td>0.000000</td>\n",
       "      <td>-4118.000000</td>\n",
       "      <td>0.000000</td>\n",
       "      <td>-13082.000000</td>\n",
       "      <td>0.000000</td>\n",
       "      <td>0.000700</td>\n",
       "      <td>-244.189000</td>\n",
       "      <td>...</td>\n",
       "      <td>-1181.604000</td>\n",
       "      <td>0.001000</td>\n",
       "      <td>0.000000</td>\n",
       "      <td>-8851.000000</td>\n",
       "      <td>-6887.000000</td>\n",
       "      <td>0.002000</td>\n",
       "      <td>-69645.000000</td>\n",
       "      <td>-1181.604000</td>\n",
       "      <td>0.002000</td>\n",
       "      <td>0.018000</td>\n",
       "    </tr>\n",
       "    <tr>\n",
       "      <th>25%</th>\n",
       "      <td>2005.000000</td>\n",
       "      <td>16.075000</td>\n",
       "      <td>14.208750</td>\n",
       "      <td>0.968500</td>\n",
       "      <td>-2.170500</td>\n",
       "      <td>0.000000</td>\n",
       "      <td>-12.459500</td>\n",
       "      <td>2.433250</td>\n",
       "      <td>28.378750</td>\n",
       "      <td>21.203750</td>\n",
       "      <td>...</td>\n",
       "      <td>21.824250</td>\n",
       "      <td>30.014500</td>\n",
       "      <td>0.000000</td>\n",
       "      <td>-5.508250</td>\n",
       "      <td>5.879500</td>\n",
       "      <td>9.264250</td>\n",
       "      <td>-141.380000</td>\n",
       "      <td>21.824250</td>\n",
       "      <td>14.102500</td>\n",
       "      <td>28.733750</td>\n",
       "    </tr>\n",
       "    <tr>\n",
       "      <th>50%</th>\n",
       "      <td>2012.000000</td>\n",
       "      <td>82.191000</td>\n",
       "      <td>79.010000</td>\n",
       "      <td>6.141000</td>\n",
       "      <td>7.796000</td>\n",
       "      <td>4.130000</td>\n",
       "      <td>-0.240000</td>\n",
       "      <td>17.326500</td>\n",
       "      <td>167.350100</td>\n",
       "      <td>137.616000</td>\n",
       "      <td>...</td>\n",
       "      <td>152.442500</td>\n",
       "      <td>177.877000</td>\n",
       "      <td>6.113000</td>\n",
       "      <td>1.833000</td>\n",
       "      <td>53.429500</td>\n",
       "      <td>43.320000</td>\n",
       "      <td>-20.956000</td>\n",
       "      <td>152.442500</td>\n",
       "      <td>78.489000</td>\n",
       "      <td>146.946500</td>\n",
       "    </tr>\n",
       "    <tr>\n",
       "      <th>75%</th>\n",
       "      <td>2016.000000</td>\n",
       "      <td>349.945500</td>\n",
       "      <td>479.364750</td>\n",
       "      <td>42.207500</td>\n",
       "      <td>103.497750</td>\n",
       "      <td>49.859000</td>\n",
       "      <td>21.881500</td>\n",
       "      <td>103.020500</td>\n",
       "      <td>1047.193950</td>\n",
       "      <td>824.690500</td>\n",
       "      <td>...</td>\n",
       "      <td>915.860500</td>\n",
       "      <td>1110.777000</td>\n",
       "      <td>245.555750</td>\n",
       "      <td>68.466750</td>\n",
       "      <td>329.804500</td>\n",
       "      <td>223.269250</td>\n",
       "      <td>83.146500</td>\n",
       "      <td>915.860500</td>\n",
       "      <td>613.018750</td>\n",
       "      <td>780.146500</td>\n",
       "    </tr>\n",
       "    <tr>\n",
       "      <th>max</th>\n",
       "      <td>2016.000000</td>\n",
       "      <td>139660.000000</td>\n",
       "      <td>351176.000000</td>\n",
       "      <td>25847.000000</td>\n",
       "      <td>69276.000000</td>\n",
       "      <td>43199.000000</td>\n",
       "      <td>45687.000000</td>\n",
       "      <td>57591.000000</td>\n",
       "      <td>603253.566300</td>\n",
       "      <td>482154.000000</td>\n",
       "      <td>...</td>\n",
       "      <td>511729.000000</td>\n",
       "      <td>531864.000000</td>\n",
       "      <td>166250.000000</td>\n",
       "      <td>70662.000000</td>\n",
       "      <td>137106.000000</td>\n",
       "      <td>116866.000000</td>\n",
       "      <td>402089.000000</td>\n",
       "      <td>511729.000000</td>\n",
       "      <td>337980.000000</td>\n",
       "      <td>481580.000000</td>\n",
       "    </tr>\n",
       "  </tbody>\n",
       "</table>\n",
       "<p>8 rows × 55 columns</p>\n",
       "</div>"
      ],
      "text/plain": [
       "            Year_1  Current assets_1  Cost goods sold_1  DEP and AMO_1  \\\n",
       "count  7310.000000       7310.000000        7310.000000    7310.000000   \n",
       "mean   2010.023393        798.073034        1288.220050     114.610857   \n",
       "std       5.959468       4252.226473        7762.951934     687.099519   \n",
       "min    1999.000000         -1.124000           0.000000       0.000000   \n",
       "25%    2005.000000         16.075000          14.208750       0.968500   \n",
       "50%    2012.000000         82.191000          79.010000       6.141000   \n",
       "75%    2016.000000        349.945500         479.364750      42.207500   \n",
       "max    2016.000000     139660.000000      351176.000000   25847.000000   \n",
       "\n",
       "           EBITDA_1   Inventory_1  Net income_1  Total Receivables_1  \\\n",
       "count   7310.000000   7310.000000   7310.000000          7310.000000   \n",
       "mean     313.624063    167.777297     99.606616           250.475278   \n",
       "std     1782.242918   1009.000678    984.454874          1377.061553   \n",
       "min    -4118.000000      0.000000 -13082.000000             0.000000   \n",
       "25%       -2.170500      0.000000    -12.459500             2.433250   \n",
       "50%        7.796000      4.130000     -0.240000            17.326500   \n",
       "75%      103.497750     49.859000     21.881500           103.020500   \n",
       "max    69276.000000  43199.000000  45687.000000         57591.000000   \n",
       "\n",
       "       Market value_1    Net sales_1  ...    Net sales_3  Total assets_3  \\\n",
       "count     7310.000000    7310.000000  ...    7310.000000     7310.000000   \n",
       "mean      3097.479900    1949.243461  ...    2213.199690     2961.361750   \n",
       "std      17929.525846   10549.543306  ...   12094.178066    15154.120537   \n",
       "min          0.000700    -244.189000  ...   -1181.604000        0.001000   \n",
       "25%         28.378750      21.203750  ...      21.824250       30.014500   \n",
       "50%        167.350100     137.616000  ...     152.442500      177.877000   \n",
       "75%       1047.193950     824.690500  ...     915.860500     1110.777000   \n",
       "max     603253.566300  482154.000000  ...  511729.000000   531864.000000   \n",
       "\n",
       "       Long-term debt_3        EBIT_3  Gross Profit_3  Current Liabilities _3  \\\n",
       "count       7310.000000   7310.000000     7310.000000             7310.000000   \n",
       "mean         890.510675    242.439578      754.204890              641.706017   \n",
       "std         4601.400627   1563.079443     4113.233588             3626.350048   \n",
       "min            0.000000  -8851.000000    -6887.000000                0.002000   \n",
       "25%            0.000000     -5.508250        5.879500                9.264250   \n",
       "50%            6.113000      1.833000       53.429500               43.320000   \n",
       "75%          245.555750     68.466750      329.804500              223.269250   \n",
       "max       166250.000000  70662.000000   137106.000000           116866.000000   \n",
       "\n",
       "       Retained Earnings_3  Total Revenue_3  Total Liabilities_3  \\\n",
       "count          7310.000000      7310.000000          7310.000000   \n",
       "mean            457.333572      2213.199690          1944.662389   \n",
       "std            6867.785982     12094.178066         10082.903688   \n",
       "min          -69645.000000     -1181.604000             0.002000   \n",
       "25%            -141.380000        21.824250            14.102500   \n",
       "50%             -20.956000       152.442500            78.489000   \n",
       "75%              83.146500       915.860500           613.018750   \n",
       "max          402089.000000    511729.000000        337980.000000   \n",
       "\n",
       "       Operating Expenses_3  \n",
       "count           7310.000000  \n",
       "mean            1844.248983  \n",
       "std            10552.574745  \n",
       "min                0.018000  \n",
       "25%               28.733750  \n",
       "50%              146.946500  \n",
       "75%              780.146500  \n",
       "max           481580.000000  \n",
       "\n",
       "[8 rows x 55 columns]"
      ]
     },
     "execution_count": 38,
     "metadata": {},
     "output_type": "execute_result"
    }
   ],
   "source": [
    "df.describe()"
   ]
  },
  {
   "cell_type": "code",
   "execution_count": 39,
   "metadata": {
    "ExecuteTime": {
     "end_time": "2023-11-13T11:36:21.627649Z",
     "start_time": "2023-11-13T11:36:21.166124Z"
    },
    "pycharm": {
     "name": "#%%\n"
    }
   },
   "outputs": [
    {
     "name": "stdout",
     "output_type": "stream",
     "text": [
      "0.08300060496067757\n"
     ]
    }
   ],
   "source": [
    "# OBS: we are going to train a model with this data, just to check its performance without standarize the data.\n",
    "# - Apply Stratified K Fold to reduce the effect of the variability presented on the data on the final model.\n",
    "# - Using cross validation technique we train different models on each one of the 'folds' and check the main\n",
    "#   performance.\n",
    "\n",
    "# cv = StratifiedKFold(\n",
    "#     n_splits=10,\n",
    "#     random_state=1,\n",
    "#     shuffle=True\n",
    "# )\n",
    "\n",
    "# cv_scores = cross_val_score(\n",
    "#     nb.KNeighborsClassifier(),\n",
    "#     X=X_bank,\n",
    "#     y=y_bank,\n",
    "#     cv=cv,\n",
    "#     scoring='recall',\n",
    "# )\n",
    "# np.mean(cv_scores)\n",
    "\n",
    "# Define the custom scorer with the correct positive label\n",
    "recall = make_scorer(recall_score, pos_label='failed')\n",
    "\n",
    "# Define the Stratified K-Fold cross-validator\n",
    "cv = StratifiedKFold(\n",
    "    n_splits=10,\n",
    "    random_state=1,\n",
    "    shuffle=True\n",
    ")\n",
    "\n",
    "# Perform cross-validation\n",
    "cv_scores = cross_val_score(\n",
    "    nb.KNeighborsClassifier(),\n",
    "    X=X_bank,\n",
    "    y=y_bank,\n",
    "    cv=cv,\n",
    "    scoring=recall,  # Use the custom scorer here\n",
    ")\n",
    "\n",
    "# Calculate and print the mean cross-validation score\n",
    "mean_cv_score = np.mean(cv_scores)\n",
    "print(mean_cv_score)"
   ]
  },
  {
   "cell_type": "code",
   "execution_count": 40,
   "metadata": {
    "ExecuteTime": {
     "end_time": "2023-11-13T09:37:11.545967Z",
     "start_time": "2023-11-13T09:37:10.738485Z"
    },
    "pycharm": {
     "name": "#%%\n"
    }
   },
   "outputs": [
    {
     "name": "stdout",
     "output_type": "stream",
     "text": [
      "Best Params= {'n_neighbors': 9, 'weights': 'distance'} Accuracy= 0.9225718194254446\n"
     ]
    }
   ],
   "source": [
    "# OBS: we are going to use Grid Search (GS) in order to find the best hyperparameters for this model\n",
    "# For each one of the hyperparameters of the model we try the next possible values\n",
    "# GS will train a model for each one of the possible combinations (BE AWARE OF THE COMPUTATIONAL COST)\n",
    "params = {\n",
    "    \"n_neighbors\":list(range(1,20,2)),\n",
    "    \"weights\":('distance','uniform')\n",
    "}\n",
    "\n",
    "knc = nb.KNeighborsClassifier()\n",
    "cv = StratifiedKFold(\n",
    "    n_splits=10,\n",
    "    random_state=1,\n",
    "    shuffle=True\n",
    ")\n",
    "clf = GridSearchCV(\n",
    "    knc,  # The instance of the model\n",
    "    param_grid = params,  # The dictionary with pairs hyperparameter - possible values\n",
    "    cv = cv,  # If cv is integer, by default is Stratifyed\n",
    "    n_jobs=-1\n",
    ")\n",
    "clf.fit(X_bank, y_bank)\n",
    "print(\"Best Params=\",clf.best_params_, \"Accuracy=\", clf.best_score_)"
   ]
  },
  {
   "cell_type": "code",
   "execution_count": 41,
   "metadata": {
    "ExecuteTime": {
     "end_time": "2023-11-13T09:37:13.428554Z",
     "start_time": "2023-11-13T09:37:13.419267Z"
    },
    "pycharm": {
     "name": "#%%\n"
    }
   },
   "outputs": [
    {
     "name": "stdout",
     "output_type": "stream",
     "text": [
      "std: 5.959060051560879 min 1999 max 2016\n",
      "std: 4251.93561313563 min -1.124 max 139660.0\n",
      "std: 7762.420933995892 min 0.0 max 351176.0\n",
      "std: 687.052519882528 min 0.0 max 25847.0\n",
      "std: 1782.1210096243663 min -4118.0 max 69276.0\n",
      "std: 1008.9316602333463 min 0.0 max 43199.0\n",
      "std: 984.3875355526981 min -13082.0 max 45687.0\n",
      "std: 1376.9673596177142 min 0.0 max 57591.0\n",
      "std: 17928.299433893015 min 0.0007 max 603253.5663\n",
      "std: 10548.821698702373 min -244.189 max 482154.0\n",
      "std: 13408.414424719012 min 0.001 max 403821.0\n",
      "std: 3834.8494895830327 min 0.0 max 113681.0\n",
      "std: 1296.3003687007242 min -6133.0 max 59476.0\n"
     ]
    }
   ],
   "source": [
    "# Poor score. What could happen?\n",
    "# Remeber that all columns should be in the same range for KNN!!\n",
    "# Could be that each colum is in a different range?\n",
    "\n",
    "for i in range(13):\n",
    "    print('std:',X_bank[:,i].std(),'min',X_bank[:,i].min(),'max',X_bank[:,i].max())"
   ]
  },
  {
   "cell_type": "code",
   "execution_count": 42,
   "metadata": {
    "ExecuteTime": {
     "end_time": "2023-11-13T09:37:20.544318Z",
     "start_time": "2023-11-13T09:37:20.539052Z"
    },
    "pycharm": {
     "name": "#%%\n"
    }
   },
   "outputs": [
    {
     "name": "stdout",
     "output_type": "stream",
     "text": [
      "std: 1.0 min -1.849854258470049 max 1.0029446482209936\n",
      "std: 1.0 min -0.187960756477013 max 32.65852063626579\n",
      "std: 1.0 min -0.16595596411034352 max 45.07456925167746\n",
      "std: 1.0 min -0.1668152779131641 max 37.45330727752017\n",
      "std: 0.9999999999999999 min -2.4867133259364853 max 38.69679756004421\n",
      "std: 1.0 min -0.16629203291610575 max 42.65028485001056\n",
      "std: 1.0 min -13.390667942777302 max 46.31041306187325\n",
      "std: 1.0 min -0.18190356952841408 max 41.642617249896816\n",
      "std: 1.0 min -0.17277038527274294 max 33.47534932760775\n",
      "std: 0.9999999999999999 min -0.20793151348417668 max 45.52212277867816\n",
      "std: 1.0 min -0.20062090324690052 max 29.916362821207372\n",
      "std: 1.0 min -0.20784699096747467 max 29.43634121219501\n",
      "std: 1.0000000000000002 min -4.884680556224554 max 45.727817583970804\n"
     ]
    }
   ],
   "source": [
    "# One way is to standarize all data mean 0, std 1\n",
    "scaler = StandardScaler().fit(X_bank)\n",
    "X2=scaler.transform(X_bank)\n",
    "\n",
    "for i in range(13):\n",
    "    print('std:',X2[:,i].std(),'min',X2[:,i].min(),'max',X2[:,i].max())"
   ]
  },
  {
   "cell_type": "code",
   "execution_count": 43,
   "metadata": {},
   "outputs": [],
   "source": [
    "# EX: try to repeat the process for training a new model but now with the new standarized dataset and check\n",
    "# the performance."
   ]
  },
  {
   "cell_type": "markdown",
   "metadata": {
    "pycharm": {
     "name": "#%% md\n"
    }
   },
   "source": [
    "# FEATURE SELECTION: Effect of irrelevant columns"
   ]
  },
  {
   "cell_type": "code",
   "execution_count": 44,
   "metadata": {
    "ExecuteTime": {
     "end_time": "2023-11-13T09:41:44.596780Z",
     "start_time": "2023-11-13T09:41:44.592081Z"
    },
    "pycharm": {
     "name": "#%%\n"
    }
   },
   "outputs": [
    {
     "name": "stdout",
     "output_type": "stream",
     "text": [
      "std: 0.9999999999999967 min -1.7174814850658302 max 1.754608381735785\n",
      "std: 0.9999999999999993 min -1.71228454181646 max 1.7324234522343878\n",
      "std: 1.000000000000001 min -1.7454205095311635 max 1.7187388205189562\n",
      "std: 1.0000000000000009 min -1.7498044556549421 max 1.741295827277576\n",
      "std: 1.0 min -1.7252215530203001 max 1.7251081711955623\n",
      "std: 1.0000000000000013 min -1.728628856503915 max 1.7226716091791596\n",
      "std: 1.000000000000002 min -1.7412883696772434 max 1.7156647354931827\n",
      "std: 0.9999999999999991 min -1.7260218207185871 max 1.7360838483033973\n",
      "std: 1.000000000000001 min -1.7315303548912813 max 1.7547784751698694\n",
      "std: 1.0000000000000002 min -1.7229458647769733 max 1.7237964508320112\n",
      "std: 1.0000000000000016 min -1.7305144136720223 max 1.7467822560752864\n",
      "std: 1.0000000000000002 min -1.7253276902102965 max 1.723409558081391\n",
      "std: 1.0000000000000016 min -1.7290091488654644 max 1.7294501826777413\n",
      "std: 0.9999999999999988 min -1.7165975623539844 max 1.7247244278803018\n",
      "std: 1.0000000000000004 min -1.744228493764217 max 1.7460014586408634\n",
      "std: 1.0000000000000009 min -1.7258452080993825 max 1.739727642550527\n",
      "std: 1.0000000000000002 min -1.7572705721629829 max 1.7220228138288551\n",
      "std: 0.9999999999999996 min -1.7196777071759428 max 1.7361404128437747\n",
      "std: 1.0 min -1.7069198158287646 max 1.7676404627356523\n",
      "std: 1.0000000000000007 min -1.7224847027621013 max 1.7638852958806828\n",
      "std: 0.9999999999999989 min -1.7171177114045588 max 1.700649394490473\n",
      "std: 0.999999999999999 min -1.7453576934118227 max 1.7179693084328174\n",
      "std: 1.0000000000000007 min -1.7329178489001884 max 1.7481874725891893\n",
      "std: 1.0000000000000007 min -1.7227486952986155 max 1.7354596893729282\n",
      "std: 1.0000000000000027 min -1.7135578807498775 max 1.7376163688955921\n",
      "std: 1.000000000000001 min -1.7247007247745458 max 1.7512158209521407\n",
      "std: 1.0000000000000022 min -1.7397793308224088 max 1.7447636104406568\n",
      "std: 1.0000000000000004 min -1.7385204735833515 max 1.6996922828613124\n",
      "std: 1.0000000000000007 min -1.7255226249509963 max 1.723918830924594\n",
      "std: 1.0 min -1.739997069746144 max 1.7111534054037842\n",
      "std: 0.9999999999999989 min -1.734370075188365 max 1.740046348391295\n",
      "std: 0.9999999999999984 min -1.7130958938839642 max 1.7613994903416716\n",
      "std: 0.9999999999999996 min -1.693645917008702 max 1.7589778494143837\n",
      "std: 0.9999999999999994 min -1.7293207633845 max 1.729220234065402\n",
      "std: 1.0000000000000013 min -1.72855136715059 max 1.7396055804931263\n",
      "std: 1.0000000000000007 min -1.7210498779491756 max 1.7311625129473986\n",
      "std: 0.9999999999999968 min -1.728741680898641 max 1.7272984593929266\n",
      "std: 1.0000000000000007 min -1.7298434850531565 max 1.7247457058574127\n",
      "std: 1.0 min -1.7256758517853616 max 1.7420478162383586\n",
      "std: 0.9999999999999989 min -1.6978753320524396 max 1.7581980621681652\n",
      "std: 0.9999999999999974 min -1.7506015070562657 max 1.7185221969188427\n",
      "std: 1.0000000000000013 min -1.7177459929280314 max 1.7354867287929037\n",
      "std: 0.9999999999999994 min -1.7281248527965425 max 1.7136969341351695\n",
      "std: 1.0000000000000004 min -1.7101054456310198 max 1.720517815242754\n",
      "std: 0.9999999999999979 min -1.7060929418252064 max 1.7415057237635896\n",
      "std: 0.9999999999999992 min -1.730880126202142 max 1.7624919798813161\n",
      "std: 1.0000000000000002 min -1.7214184697184343 max 1.7505136116457218\n",
      "std: 0.9999999999999984 min -1.7229275970969073 max 1.7449800574806387\n",
      "std: 1.0000000000000013 min -1.7429228827380823 max 1.7220450762355481\n",
      "std: 1.0000000000000009 min -1.730768745092451 max 1.7364229657543941\n",
      "std: 1.0000000000000024 min -1.7321943886508415 max 1.743275989441262\n",
      "std: 0.9999999999999983 min -1.7378458945962718 max 1.7524925542244347\n",
      "std: 0.9999999999999992 min -1.7216491470494624 max 1.7219194488781628\n",
      "std: 0.9999999999999997 min -1.7167898235364316 max 1.7393822630195648\n",
      "std: 1.0000000000000002 min -1.7190263262913863 max 1.7421568259901221\n"
     ]
    }
   ],
   "source": [
    "nrcols=55\n",
    "col = np.random.random(size=(X2.shape[0],nrcols))\n",
    "scaler = StandardScaler().fit(col)\n",
    "irelevant = scaler.transform(col)\n",
    "for i in range(nrcols):\n",
    "    print('std:',irelevant[:,i].std(),'min',irelevant[:,i].min(),'max',irelevant[:,i].max())"
   ]
  },
  {
   "cell_type": "code",
   "execution_count": 45,
   "metadata": {
    "ExecuteTime": {
     "end_time": "2023-11-13T09:41:52.759150Z",
     "start_time": "2023-11-13T09:41:52.638270Z"
    },
    "pycharm": {
     "name": "#%%\n"
    }
   },
   "outputs": [
    {
     "name": "stdout",
     "output_type": "stream",
     "text": [
      "0.0017241379310344827\n"
     ]
    }
   ],
   "source": [
    "# X2_new = np.hstack((X2,irelevant))\n",
    "# cv = StratifiedKFold(\n",
    "#     n_splits = 10,\n",
    "#     random_state = 1,\n",
    "#     shuffle = True\n",
    "# )\n",
    "# cv_scores = cross_val_score(\n",
    "#     nb.KNeighborsClassifier(n_neighbors = 9),\n",
    "#     X = X2_new,\n",
    "#     y = y_bank,\n",
    "#     cv = cv,\n",
    "#     scoring = \"recall\"  # the metric we use for evaluate the performance\n",
    "# )\n",
    "# print(np.mean(cv_scores))\n",
    "\n",
    "X2_new = np.hstack((X2,irelevant))\n",
    "\n",
    "# Map the actual class labels to numerical values\n",
    "label_mapping = {'alive': 0, 'failed': 1}\n",
    "y_numeric = np.array([label_mapping[label] for label in y_bank])\n",
    "\n",
    "# Perform cross-validation with recall scoring\n",
    "cv_scores = cross_val_score(\n",
    "    nb.KNeighborsClassifier(n_neighbors=9),\n",
    "    X=X2_new,\n",
    "    y=y_numeric,\n",
    "    cv=cv,\n",
    "    scoring=\"recall\",  # Use recall as the scoring metric\n",
    ")\n",
    "print(np.mean(cv_scores))\n"
   ]
  },
  {
   "cell_type": "code",
   "execution_count": 46,
   "metadata": {
    "ExecuteTime": {
     "end_time": "2023-11-13T09:41:54.926077Z",
     "start_time": "2023-11-13T09:41:54.855104Z"
    },
    "pycharm": {
     "name": "#%%\n"
    }
   },
   "outputs": [
    {
     "name": "stdout",
     "output_type": "stream",
     "text": [
      "Best Params = {'n_neighbors': 13, 'weights': 'distance'} - Accuracy = 0.9210670314637485\n"
     ]
    }
   ],
   "source": [
    "knc = nb.KNeighborsClassifier()\n",
    "cv = StratifiedKFold(\n",
    "    n_splits = 10,\n",
    "    random_state = 1,\n",
    "    shuffle = True\n",
    ")\n",
    "clf = GridSearchCV(\n",
    "    knc,\n",
    "    param_grid = params,\n",
    "    cv = cv,\n",
    "    n_jobs = -1\n",
    ")\n",
    "clf.fit(X2_new, y_bank)\n",
    "print(f\"Best Params = {clf.best_params_} - Accuracy = {clf.best_score_}\")"
   ]
  },
  {
   "cell_type": "markdown",
   "metadata": {
    "pycharm": {
     "name": "#%% md\n"
    }
   },
   "source": [
    "# Feature Selection: Ranking\n",
    "\n",
    "Lets pressent a technique for measuring the relevance of each one of the features in order to create the classifier."
   ]
  },
  {
   "cell_type": "code",
   "execution_count": 47,
   "metadata": {
    "ExecuteTime": {
     "end_time": "2023-11-13T09:43:53.978628Z",
     "start_time": "2023-11-13T09:43:53.827156Z"
    },
    "pycharm": {
     "name": "#%%\n"
    }
   },
   "outputs": [
    {
     "name": "stdout",
     "output_type": "stream",
     "text": [
      "Best Params= {'n_neighbors': 17, 'weights': 'uniform'} Accuracy= 0.9214774281805745\n"
     ]
    }
   ],
   "source": [
    "# Select k best features following a given measure. Fit that on whole data set and return only relevant columns\n",
    "X_reduced = SelectKBest(mutual_info_classif, k=2).fit_transform(X2_new, y_bank)\n",
    "\n",
    "# Let's do now the 10-fold cross-validation again\n",
    "cv = StratifiedKFold(\n",
    "    n_splits=10,\n",
    "    random_state=1,\n",
    "    shuffle=True\n",
    ")\n",
    "clf = GridSearchCV(knc, param_grid=params,cv=cv,n_jobs=-1,)  # If cv is integer, by default is Stratifyed\n",
    "clf.fit(X_reduced, y_bank)\n",
    "print(\"Best Params=\",clf.best_params_, \"Accuracy=\", clf.best_score_)"
   ]
  },
  {
   "cell_type": "code",
   "execution_count": 48,
   "metadata": {
    "ExecuteTime": {
     "end_time": "2023-11-13T09:43:58.211496Z",
     "start_time": "2023-11-13T09:43:57.868448Z"
    },
    "pycharm": {
     "name": "#%%\n"
    }
   },
   "outputs": [
    {
     "name": "stdout",
     "output_type": "stream",
     "text": [
      "Best Params= {'n_neighbors': 19, 'weights': 'uniform'} Accuracy= 0.922435020519836\n"
     ]
    }
   ],
   "source": [
    "# Select k best features following a given measure. Fit that on whole data set and return only relevant columns\n",
    "X_reduced = SelectKBest(mutual_info_classif, k=13).fit_transform(X2_new, y_bank)\n",
    "\n",
    "# Let's do now the 10-fold cross-validation again\n",
    "cv = StratifiedKFold(\n",
    "    n_splits=10,\n",
    "    random_state=1,\n",
    "    shuffle=True\n",
    ")\n",
    "clf = GridSearchCV(knc, param_grid=params,cv=cv,n_jobs=-1)  # If cv is integer, by default is Stratifyed\n",
    "clf.fit(X_reduced, y_bank)\n",
    "print(\"Best Params=\",clf.best_params_, \"Accuracy=\", clf.best_score_)"
   ]
  },
  {
   "cell_type": "code",
   "execution_count": 49,
   "metadata": {
    "ExecuteTime": {
     "end_time": "2023-11-13T09:45:01.409538Z",
     "start_time": "2023-11-13T09:45:01.399727Z"
    },
    "pycharm": {
     "name": "#%%\n"
    }
   },
   "outputs": [
    {
     "data": {
      "text/plain": [
       "(7310, 110)"
      ]
     },
     "execution_count": 49,
     "metadata": {},
     "output_type": "execute_result"
    }
   ],
   "source": [
    "X2_new.shape"
   ]
  },
  {
   "cell_type": "code",
   "execution_count": 51,
   "metadata": {
    "ExecuteTime": {
     "end_time": "2023-11-13T09:44:01.717576Z",
     "start_time": "2023-11-13T09:44:00.227530Z"
    },
    "pycharm": {
     "name": "#%%\n"
    }
   },
   "outputs": [
    {
     "name": "stdout",
     "output_type": "stream",
     "text": [
      "55\n",
      "['Net income_3']\n",
      "['Year_1', 'Net income_3']\n",
      "['Year_1', 'Net income_2', 'Net income_3']\n",
      "['Year_1', 'Net income_2', 'Net income_3', 'Market value_3']\n",
      "['Year_1', 'Net income_2', 'Net income_3', 'Market value_3', 'Retained Earnings_3']\n",
      "['Year_1', 'Net income_2', 'Net income_3', 'Market value_3', 'EBIT_3', 'Retained Earnings_3']\n",
      "['Year_1', 'Net income_1', 'Net income_2', 'Net income_3', 'Market value_3', 'EBIT_3', 'Retained Earnings_3']\n",
      "['Year_1', 'Net income_1', 'Market value_1', 'Net income_2', 'Net income_3', 'Market value_3', 'EBIT_3', 'Retained Earnings_3']\n",
      "['Year_1', 'Net income_1', 'Market value_1', 'Net income_2', 'Retained Earnings_2', 'Net income_3', 'Market value_3', 'EBIT_3', 'Retained Earnings_3']\n",
      "['Year_1', 'Net income_1', 'Market value_1', 'Net income_2', 'Retained Earnings_2', 'Net income_3', 'Market value_3', 'EBIT_3', 'Gross Profit_3', 'Retained Earnings_3']\n",
      "['Year_1', 'Net income_1', 'Market value_1', 'Net income_2', 'Retained Earnings_2', 'EBITDA_3', 'Net income_3', 'Market value_3', 'EBIT_3', 'Gross Profit_3', 'Retained Earnings_3']\n",
      "['Year_1', 'Net income_1', 'Market value_1', 'Net income_2', 'Market value_2', 'Retained Earnings_2', 'EBITDA_3', 'Net income_3', 'Market value_3', 'EBIT_3', 'Gross Profit_3', 'Retained Earnings_3']\n",
      "['Year_1', 'Cost goods sold_1', 'Net income_1', 'Market value_1', 'Net income_2', 'Market value_2', 'Retained Earnings_2', 'EBITDA_3', 'Net income_3', 'Market value_3', 'EBIT_3', 'Gross Profit_3', 'Retained Earnings_3']\n",
      "['Year_1', 'Cost goods sold_1', 'Net income_1', 'Market value_1', 'Net income_2', 'Market value_2', 'Long-term debt_2', 'Retained Earnings_2', 'EBITDA_3', 'Net income_3', 'Market value_3', 'EBIT_3', 'Gross Profit_3', 'Retained Earnings_3']\n",
      "['Year_1', 'Cost goods sold_1', 'Net income_1', 'Market value_1', 'Gross Profit_1', 'Net income_2', 'Market value_2', 'Long-term debt_2', 'Retained Earnings_2', 'EBITDA_3', 'Net income_3', 'Market value_3', 'EBIT_3', 'Gross Profit_3', 'Retained Earnings_3']\n",
      "['Year_1', 'Cost goods sold_1', 'Net income_1', 'Market value_1', 'EBIT_1', 'Gross Profit_1', 'Net income_2', 'Market value_2', 'Long-term debt_2', 'Retained Earnings_2', 'EBITDA_3', 'Net income_3', 'Market value_3', 'EBIT_3', 'Gross Profit_3', 'Retained Earnings_3']\n",
      "['Year_1', 'Cost goods sold_1', 'Net income_1', 'Total Receivables_1', 'Market value_1', 'Gross Profit_1', 'Net income_2', 'Market value_2', 'Long-term debt_2', 'Retained Earnings_2', 'EBITDA_3', 'Inventory_3', 'Net income_3', 'Market value_3', 'EBIT_3', 'Gross Profit_3', 'Retained Earnings_3']\n",
      "['Year_1', 'Cost goods sold_1', 'Net income_1', 'Total Receivables_1', 'Market value_1', 'EBIT_1', 'Gross Profit_1', 'EBITDA_2', 'Net income_2', 'Market value_2', 'Long-term debt_2', 'Retained Earnings_2', 'EBITDA_3', 'Net income_3', 'Market value_3', 'EBIT_3', 'Gross Profit_3', 'Retained Earnings_3']\n",
      "['Year_1', 'Cost goods sold_1', 'Inventory_1', 'Net income_1', 'Market value_1', 'EBIT_1', 'Gross Profit_1', 'Net income_2', 'Market value_2', 'Net sales_2', 'Long-term debt_2', 'Retained Earnings_2', 'Total Revenue_2', 'EBITDA_3', 'Net income_3', 'Market value_3', 'EBIT_3', 'Gross Profit_3', 'Retained Earnings_3']\n",
      "['Year_1', 'Cost goods sold_1', 'Net income_1', 'Total Receivables_1', 'Market value_1', 'EBIT_1', 'Gross Profit_1', 'Net income_2', 'Market value_2', 'Net sales_2', 'Long-term debt_2', 'Retained Earnings_2', 'Total Revenue_2', 'EBITDA_3', 'Net income_3', 'Market value_3', 'Long-term debt_3', 'EBIT_3', 'Gross Profit_3', 'Retained Earnings_3']\n",
      "['Year_1', 'Cost goods sold_1', 'Net income_1', 'Total Receivables_1', 'Market value_1', 'EBIT_1', 'Gross Profit_1', 'Net income_2', 'Market value_2', 'Net sales_2', 'Long-term debt_2', 'EBIT_2', 'Retained Earnings_2', 'Total Revenue_2', 'EBITDA_3', 'Net income_3', 'Market value_3', 'Long-term debt_3', 'EBIT_3', 'Gross Profit_3', 'Retained Earnings_3']\n",
      "['Year_1', 'Cost goods sold_1', 'Net income_1', 'Total Receivables_1', 'Market value_1', 'EBIT_1', 'Gross Profit_1', 'EBITDA_2', 'Net income_2', 'Market value_2', 'Net sales_2', 'Long-term debt_2', 'EBIT_2', 'Retained Earnings_2', 'Total Revenue_2', 'EBITDA_3', 'Net income_3', 'Market value_3', 'EBIT_3', 'Gross Profit_3', 'Retained Earnings_3', 'Operating Expenses_3']\n",
      "['Year_1', 'Cost goods sold_1', 'Net income_1', 'Total Receivables_1', 'Market value_1', 'EBIT_1', 'Gross Profit_1', 'EBITDA_2', 'Net income_2', 'Market value_2', 'Net sales_2', 'Long-term debt_2', 'EBIT_2', 'Retained Earnings_2', 'Total Revenue_2', 'Current assets_3', 'EBITDA_3', 'Net income_3', 'Market value_3', 'EBIT_3', 'Gross Profit_3', 'Retained Earnings_3', 'Operating Expenses_3']\n",
      "['Year_1', 'Cost goods sold_1', 'Net income_1', 'Total Receivables_1', 'Market value_1', 'EBIT_1', 'Gross Profit_1', 'EBITDA_2', 'Net income_2', 'Market value_2', 'Net sales_2', 'Long-term debt_2', 'EBIT_2', 'Retained Earnings_2', 'Total Revenue_2', 'Operating Expenses_2', 'Current assets_3', 'EBITDA_3', 'Net income_3', 'Market value_3', 'EBIT_3', 'Gross Profit_3', 'Retained Earnings_3', 'Operating Expenses_3']\n",
      "['Year_1', 'Cost goods sold_1', 'Net income_1', 'Total Receivables_1', 'Market value_1', 'EBIT_1', 'Gross Profit_1', 'EBITDA_2', 'Inventory_2', 'Net income_2', 'Market value_2', 'Net sales_2', 'Long-term debt_2', 'EBIT_2', 'Retained Earnings_2', 'Total Revenue_2', 'Current assets_3', 'EBITDA_3', 'Inventory_3', 'Net income_3', 'Market value_3', 'Long-term debt_3', 'EBIT_3', 'Gross Profit_3', 'Retained Earnings_3']\n",
      "['Year_1', 'Cost goods sold_1', 'Net income_1', 'Total Receivables_1', 'Market value_1', 'EBIT_1', 'Gross Profit_1', 'Retained Earnings_1', 'Total Revenue_1', 'EBITDA_2', 'Net income_2', 'Market value_2', 'Net sales_2', 'Long-term debt_2', 'EBIT_2', 'Retained Earnings_2', 'Total Revenue_2', 'Current assets_3', 'EBITDA_3', 'Inventory_3', 'Net income_3', 'Market value_3', 'EBIT_3', 'Gross Profit_3', 'Retained Earnings_3', 'Operating Expenses_3']\n",
      "['Year_1', 'Cost goods sold_1', 'Net income_1', 'Total Receivables_1', 'Market value_1', 'EBIT_1', 'Gross Profit_1', 'Retained Earnings_1', 'Total Revenue_1', 'EBITDA_2', 'Net income_2', 'Market value_2', 'Net sales_2', 'Long-term debt_2', 'EBIT_2', 'Retained Earnings_2', 'Total Revenue_2', 'Operating Expenses_2', 'Current assets_3', 'EBITDA_3', 'Net income_3', 'Market value_3', 'Long-term debt_3', 'EBIT_3', 'Gross Profit_3', 'Retained Earnings_3', 'Operating Expenses_3']\n",
      "['Year_1', 'Cost goods sold_1', 'Net income_1', 'Total Receivables_1', 'Market value_1', 'Net sales_1', 'EBIT_1', 'Gross Profit_1', 'Retained Earnings_1', 'Total Revenue_1', 'EBITDA_2', 'Net income_2', 'Market value_2', 'Net sales_2', 'Long-term debt_2', 'EBIT_2', 'Retained Earnings_2', 'Total Revenue_2', 'Operating Expenses_2', 'Current assets_3', 'EBITDA_3', 'Net income_3', 'Market value_3', 'Long-term debt_3', 'EBIT_3', 'Gross Profit_3', 'Retained Earnings_3', 'Operating Expenses_3']\n",
      "['Year_1', 'Cost goods sold_1', 'Net income_1', 'Total Receivables_1', 'Market value_1', 'Net sales_1', 'EBIT_1', 'Gross Profit_1', 'Retained Earnings_1', 'Total Revenue_1', 'EBITDA_2', 'Inventory_2', 'Net income_2', 'Market value_2', 'Net sales_2', 'Long-term debt_2', 'EBIT_2', 'Retained Earnings_2', 'Total Revenue_2', 'Operating Expenses_2', 'Current assets_3', 'EBITDA_3', 'Inventory_3', 'Net income_3', 'Market value_3', 'EBIT_3', 'Gross Profit_3', 'Retained Earnings_3', 'Operating Expenses_3']\n",
      "['Year_1', 'Cost goods sold_1', 'Net income_1', 'Total Receivables_1', 'Market value_1', 'Net sales_1', 'EBIT_1', 'Gross Profit_1', 'Retained Earnings_1', 'Total Revenue_1', 'EBITDA_2', 'Inventory_2', 'Net income_2', 'Market value_2', 'Net sales_2', 'Total assets_2', 'Long-term debt_2', 'EBIT_2', 'Retained Earnings_2', 'Total Revenue_2', 'Operating Expenses_2', 'Current assets_3', 'EBITDA_3', 'Inventory_3', 'Net income_3', 'Market value_3', 'EBIT_3', 'Gross Profit_3', 'Retained Earnings_3', 'Operating Expenses_3']\n",
      "['Year_1', 'Cost goods sold_1', 'Net income_1', 'Total Receivables_1', 'Market value_1', 'Net sales_1', 'EBIT_1', 'Gross Profit_1', 'Retained Earnings_1', 'Operating Expenses_1', 'EBITDA_2', 'Inventory_2', 'Net income_2', 'Market value_2', 'Net sales_2', 'Long-term debt_2', 'EBIT_2', 'Retained Earnings_2', 'Total Revenue_2', 'Operating Expenses_2', 'Current assets_3', 'EBITDA_3', 'Inventory_3', 'Net income_3', 'Total Receivables_3', 'Market value_3', 'Long-term debt_3', 'EBIT_3', 'Gross Profit_3', 'Retained Earnings_3', 'Operating Expenses_3']\n",
      "['Year_1', 'Current assets_1', 'Cost goods sold_1', 'Net income_1', 'Total Receivables_1', 'Market value_1', 'Net sales_1', 'EBIT_1', 'Gross Profit_1', 'Retained Earnings_1', 'Total Revenue_1', 'Operating Expenses_1', 'EBITDA_2', 'Net income_2', 'Market value_2', 'Net sales_2', 'Total assets_2', 'Long-term debt_2', 'EBIT_2', 'Retained Earnings_2', 'Total Revenue_2', 'Operating Expenses_2', 'Current assets_3', 'EBITDA_3', 'Inventory_3', 'Net income_3', 'Market value_3', 'EBIT_3', 'Gross Profit_3', 'Current Liabilities _3', 'Retained Earnings_3', 'Operating Expenses_3']\n",
      "['Year_1', 'Current assets_1', 'Cost goods sold_1', 'Net income_1', 'Total Receivables_1', 'Market value_1', 'Net sales_1', 'EBIT_1', 'Gross Profit_1', 'Retained Earnings_1', 'Total Revenue_1', 'Operating Expenses_1', 'EBITDA_2', 'Net income_2', 'Market value_2', 'Net sales_2', 'Total assets_2', 'Long-term debt_2', 'EBIT_2', 'Retained Earnings_2', 'Total Revenue_2', 'Operating Expenses_2', 'Current assets_3', 'EBITDA_3', 'Inventory_3', 'Net income_3', 'Market value_3', 'Long-term debt_3', 'EBIT_3', 'Gross Profit_3', 'Current Liabilities _3', 'Retained Earnings_3', 'Operating Expenses_3']\n",
      "['Year_1', 'Cost goods sold_1', 'DEP and AMO_1', 'Net income_1', 'Total Receivables_1', 'Market value_1', 'Net sales_1', 'EBIT_1', 'Gross Profit_1', 'Retained Earnings_1', 'Total Revenue_1', 'Operating Expenses_1', 'EBITDA_2', 'Inventory_2', 'Net income_2', 'Market value_2', 'Net sales_2', 'Total assets_2', 'Long-term debt_2', 'EBIT_2', 'Retained Earnings_2', 'Total Revenue_2', 'Operating Expenses_2', 'Current assets_3', 'EBITDA_3', 'Inventory_3', 'Net income_3', 'Market value_3', 'Long-term debt_3', 'EBIT_3', 'Gross Profit_3', 'Current Liabilities _3', 'Retained Earnings_3', 'Operating Expenses_3']\n",
      "['Year_1', 'Current assets_1', 'Cost goods sold_1', 'Net income_1', 'Total Receivables_1', 'Market value_1', 'Net sales_1', 'EBIT_1', 'Gross Profit_1', 'Retained Earnings_1', 'Total Revenue_1', 'Operating Expenses_1', 'EBITDA_2', 'Inventory_2', 'Net income_2', 'Market value_2', 'Net sales_2', 'Total assets_2', 'Long-term debt_2', 'EBIT_2', 'Retained Earnings_2', 'Total Revenue_2', 'Operating Expenses_2', 'Current assets_3', 'EBITDA_3', 'Inventory_3', 'Net income_3', 'Total Receivables_3', 'Market value_3', 'Long-term debt_3', 'EBIT_3', 'Gross Profit_3', 'Current Liabilities _3', 'Retained Earnings_3', 'Operating Expenses_3']\n",
      "['Year_1', 'Current assets_1', 'Cost goods sold_1', 'Net income_1', 'Total Receivables_1', 'Market value_1', 'Net sales_1', 'Long-term debt_1', 'EBIT_1', 'Gross Profit_1', 'Retained Earnings_1', 'Total Revenue_1', 'Operating Expenses_1', 'Current assets_2', 'EBITDA_2', 'Net income_2', 'Market value_2', 'Net sales_2', 'Total assets_2', 'Long-term debt_2', 'EBIT_2', 'Retained Earnings_2', 'Total Revenue_2', 'Operating Expenses_2', 'Current assets_3', 'EBITDA_3', 'Inventory_3', 'Net income_3', 'Total Receivables_3', 'Market value_3', 'Long-term debt_3', 'EBIT_3', 'Gross Profit_3', 'Current Liabilities _3', 'Retained Earnings_3', 'Operating Expenses_3']\n",
      "['Year_1', 'Current assets_1', 'Cost goods sold_1', 'DEP and AMO_1', 'Inventory_1', 'Net income_1', 'Total Receivables_1', 'Market value_1', 'Net sales_1', 'EBIT_1', 'Gross Profit_1', 'Retained Earnings_1', 'Total Revenue_1', 'Operating Expenses_1', 'EBITDA_2', 'Net income_2', 'Market value_2', 'Net sales_2', 'Total assets_2', 'Long-term debt_2', 'EBIT_2', 'Gross Profit_2', 'Retained Earnings_2', 'Total Revenue_2', 'Operating Expenses_2', 'Current assets_3', 'EBITDA_3', 'Inventory_3', 'Net income_3', 'Total Receivables_3', 'Market value_3', 'Long-term debt_3', 'EBIT_3', 'Gross Profit_3', 'Current Liabilities _3', 'Retained Earnings_3', 'Operating Expenses_3']\n",
      "['Year_1', 'Current assets_1', 'Cost goods sold_1', 'Inventory_1', 'Net income_1', 'Total Receivables_1', 'Market value_1', 'Net sales_1', 'EBIT_1', 'Gross Profit_1', 'Retained Earnings_1', 'Total Revenue_1', 'Operating Expenses_1', 'Current assets_2', 'EBITDA_2', 'Inventory_2', 'Net income_2', 'Market value_2', 'Net sales_2', 'Total assets_2', 'Long-term debt_2', 'EBIT_2', 'Gross Profit_2', 'Retained Earnings_2', 'Total Revenue_2', 'Operating Expenses_2', 'Current assets_3', 'EBITDA_3', 'Inventory_3', 'Net income_3', 'Total Receivables_3', 'Market value_3', 'Long-term debt_3', 'EBIT_3', 'Gross Profit_3', 'Current Liabilities _3', 'Retained Earnings_3', 'Operating Expenses_3']\n",
      "['Year_1', 'Current assets_1', 'Cost goods sold_1', 'DEP and AMO_1', 'Inventory_1', 'Net income_1', 'Total Receivables_1', 'Market value_1', 'Net sales_1', 'EBIT_1', 'Gross Profit_1', 'Retained Earnings_1', 'Total Revenue_1', 'Operating Expenses_1', 'Current assets_2', 'EBITDA_2', 'Inventory_2', 'Net income_2', 'Market value_2', 'Net sales_2', 'Total assets_2', 'Long-term debt_2', 'EBIT_2', 'Gross Profit_2', 'Retained Earnings_2', 'Total Revenue_2', 'Operating Expenses_2', 'Current assets_3', 'EBITDA_3', 'Inventory_3', 'Net income_3', 'Total Receivables_3', 'Market value_3', 'Long-term debt_3', 'EBIT_3', 'Gross Profit_3', 'Current Liabilities _3', 'Retained Earnings_3', 'Operating Expenses_3']\n",
      "['Year_1', 'Current assets_1', 'Cost goods sold_1', 'Inventory_1', 'Net income_1', 'Total Receivables_1', 'Market value_1', 'Net sales_1', 'Long-term debt_1', 'EBIT_1', 'Gross Profit_1', 'Retained Earnings_1', 'Total Revenue_1', 'Operating Expenses_1', 'Current assets_2', 'EBITDA_2', 'Net income_2', 'Market value_2', 'Net sales_2', 'Total assets_2', 'Long-term debt_2', 'EBIT_2', 'Gross Profit_2', 'Retained Earnings_2', 'Total Revenue_2', 'Total Liabilities_2', 'Operating Expenses_2', 'Current assets_3', 'EBITDA_3', 'Inventory_3', 'Net income_3', 'Total Receivables_3', 'Market value_3', 'Net sales_3', 'Long-term debt_3', 'EBIT_3', 'Gross Profit_3', 'Current Liabilities _3', 'Retained Earnings_3', 'Operating Expenses_3']\n",
      "['Year_1', 'Current assets_1', 'Cost goods sold_1', 'DEP and AMO_1', 'Inventory_1', 'Net income_1', 'Total Receivables_1', 'Market value_1', 'Net sales_1', 'EBIT_1', 'Gross Profit_1', 'Retained Earnings_1', 'Total Revenue_1', 'Operating Expenses_1', 'Current assets_2', 'EBITDA_2', 'Inventory_2', 'Net income_2', 'Market value_2', 'Net sales_2', 'Total assets_2', 'Long-term debt_2', 'EBIT_2', 'Gross Profit_2', 'Retained Earnings_2', 'Total Revenue_2', 'Total Liabilities_2', 'Operating Expenses_2', 'Current assets_3', 'EBITDA_3', 'Inventory_3', 'Net income_3', 'Total Receivables_3', 'Market value_3', 'Long-term debt_3', 'EBIT_3', 'Gross Profit_3', 'Current Liabilities _3', 'Retained Earnings_3', 'Total Revenue_3', 'Operating Expenses_3']\n",
      "['Year_1', 'Current assets_1', 'Cost goods sold_1', 'DEP and AMO_1', 'Inventory_1', 'Net income_1', 'Total Receivables_1', 'Market value_1', 'Net sales_1', 'EBIT_1', 'Gross Profit_1', 'Retained Earnings_1', 'Total Revenue_1', 'Operating Expenses_1', 'Current assets_2', 'EBITDA_2', 'Inventory_2', 'Net income_2', 'Market value_2', 'Net sales_2', 'Total assets_2', 'Long-term debt_2', 'EBIT_2', 'Gross Profit_2', 'Retained Earnings_2', 'Total Revenue_2', 'Total Liabilities_2', 'Operating Expenses_2', 'Current assets_3', 'DEP and AMO_3', 'EBITDA_3', 'Inventory_3', 'Net income_3', 'Total Receivables_3', 'Market value_3', 'Long-term debt_3', 'EBIT_3', 'Gross Profit_3', 'Current Liabilities _3', 'Retained Earnings_3', 'Total Revenue_3', 'Operating Expenses_3']\n",
      "['Year_1', 'Current assets_1', 'Cost goods sold_1', 'DEP and AMO_1', 'Inventory_1', 'Net income_1', 'Total Receivables_1', 'Market value_1', 'Net sales_1', 'Long-term debt_1', 'EBIT_1', 'Gross Profit_1', 'Retained Earnings_1', 'Total Revenue_1', 'Operating Expenses_1', 'Current assets_2', 'EBITDA_2', 'Inventory_2', 'Net income_2', 'Market value_2', 'Net sales_2', 'Total assets_2', 'Long-term debt_2', 'EBIT_2', 'Gross Profit_2', 'Retained Earnings_2', 'Total Revenue_2', 'Total Liabilities_2', 'Operating Expenses_2', 'Current assets_3', 'DEP and AMO_3', 'EBITDA_3', 'Inventory_3', 'Net income_3', 'Total Receivables_3', 'Market value_3', 'Long-term debt_3', 'EBIT_3', 'Gross Profit_3', 'Current Liabilities _3', 'Retained Earnings_3', 'Total Revenue_3', 'Operating Expenses_3']\n",
      "['Year_1', 'Current assets_1', 'Cost goods sold_1', 'DEP and AMO_1', 'Inventory_1', 'Net income_1', 'Total Receivables_1', 'Market value_1', 'Net sales_1', 'Total assets_1', 'EBIT_1', 'Gross Profit_1', 'Retained Earnings_1', 'Total Revenue_1', 'Operating Expenses_1', 'Current assets_2', 'EBITDA_2', 'Inventory_2', 'Net income_2', 'Market value_2', 'Net sales_2', 'Total assets_2', 'Long-term debt_2', 'EBIT_2', 'Gross Profit_2', 'Retained Earnings_2', 'Total Revenue_2', 'Total Liabilities_2', 'Operating Expenses_2', 'Current assets_3', 'DEP and AMO_3', 'EBITDA_3', 'Inventory_3', 'Net income_3', 'Total Receivables_3', 'Market value_3', 'Net sales_3', 'Long-term debt_3', 'EBIT_3', 'Gross Profit_3', 'Current Liabilities _3', 'Retained Earnings_3', 'Total Revenue_3', 'Operating Expenses_3']\n",
      "['Year_1', 'Current assets_1', 'Cost goods sold_1', 'DEP and AMO_1', 'Inventory_1', 'Net income_1', 'Total Receivables_1', 'Market value_1', 'Net sales_1', 'Total assets_1', 'Long-term debt_1', 'EBIT_1', 'Gross Profit_1', 'Retained Earnings_1', 'Total Revenue_1', 'Operating Expenses_1', 'Current assets_2', 'EBITDA_2', 'Inventory_2', 'Net income_2', 'Market value_2', 'Net sales_2', 'Total assets_2', 'Long-term debt_2', 'EBIT_2', 'Gross Profit_2', 'Retained Earnings_2', 'Total Revenue_2', 'Total Liabilities_2', 'Operating Expenses_2', 'Current assets_3', 'EBITDA_3', 'Inventory_3', 'Net income_3', 'Total Receivables_3', 'Market value_3', 'Net sales_3', 'Long-term debt_3', 'EBIT_3', 'Gross Profit_3', 'Current Liabilities _3', 'Retained Earnings_3', 'Total Revenue_3', 'Total Liabilities_3', 'Operating Expenses_3']\n",
      "['Year_1', 'Current assets_1', 'Cost goods sold_1', 'DEP and AMO_1', 'Inventory_1', 'Net income_1', 'Total Receivables_1', 'Market value_1', 'Net sales_1', 'Total assets_1', 'EBIT_1', 'Gross Profit_1', 'Retained Earnings_1', 'Total Revenue_1', 'Operating Expenses_1', 'Current assets_2', 'Cost goods sold_2', 'EBITDA_2', 'Inventory_2', 'Net income_2', 'Market value_2', 'Net sales_2', 'Total assets_2', 'Long-term debt_2', 'EBIT_2', 'Gross Profit_2', 'Retained Earnings_2', 'Total Revenue_2', 'Total Liabilities_2', 'Operating Expenses_2', 'Current assets_3', 'DEP and AMO_3', 'EBITDA_3', 'Inventory_3', 'Net income_3', 'Total Receivables_3', 'Market value_3', 'Net sales_3', 'Long-term debt_3', 'EBIT_3', 'Gross Profit_3', 'Current Liabilities _3', 'Retained Earnings_3', 'Total Revenue_3', 'Total Liabilities_3', 'Operating Expenses_3']\n",
      "['Year_1', 'Current assets_1', 'Cost goods sold_1', 'DEP and AMO_1', 'EBITDA_1', 'Net income_1', 'Total Receivables_1', 'Market value_1', 'Net sales_1', 'Total assets_1', 'Long-term debt_1', 'EBIT_1', 'Gross Profit_1', 'Retained Earnings_1', 'Total Revenue_1', 'Operating Expenses_1', 'Current assets_2', 'Cost goods sold_2', 'EBITDA_2', 'Inventory_2', 'Net income_2', 'Market value_2', 'Net sales_2', 'Total assets_2', 'Long-term debt_2', 'EBIT_2', 'Gross Profit_2', 'Retained Earnings_2', 'Total Revenue_2', 'Total Liabilities_2', 'Operating Expenses_2', 'Current assets_3', 'DEP and AMO_3', 'EBITDA_3', 'Inventory_3', 'Net income_3', 'Total Receivables_3', 'Market value_3', 'Net sales_3', 'Long-term debt_3', 'EBIT_3', 'Gross Profit_3', 'Current Liabilities _3', 'Retained Earnings_3', 'Total Revenue_3', 'Total Liabilities_3', 'Operating Expenses_3']\n",
      "['Year_1', 'Current assets_1', 'Cost goods sold_1', 'DEP and AMO_1', 'Inventory_1', 'Net income_1', 'Total Receivables_1', 'Market value_1', 'Net sales_1', 'Total assets_1', 'Long-term debt_1', 'EBIT_1', 'Gross Profit_1', 'Retained Earnings_1', 'Total Revenue_1', 'Operating Expenses_1', 'Current assets_2', 'Cost goods sold_2', 'EBITDA_2', 'Inventory_2', 'Net income_2', 'Market value_2', 'Net sales_2', 'Total assets_2', 'Long-term debt_2', 'EBIT_2', 'Gross Profit_2', 'Retained Earnings_2', 'Total Revenue_2', 'Total Liabilities_2', 'Operating Expenses_2', 'Current assets_3', 'DEP and AMO_3', 'EBITDA_3', 'Inventory_3', 'Net income_3', 'Total Receivables_3', 'Market value_3', 'Net sales_3', 'Total assets_3', 'Long-term debt_3', 'EBIT_3', 'Gross Profit_3', 'Current Liabilities _3', 'Retained Earnings_3', 'Total Revenue_3', 'Total Liabilities_3', 'Operating Expenses_3']\n",
      "['Year_1', 'Current assets_1', 'Cost goods sold_1', 'DEP and AMO_1', 'Inventory_1', 'Net income_1', 'Total Receivables_1', 'Market value_1', 'Net sales_1', 'Total assets_1', 'Long-term debt_1', 'EBIT_1', 'Gross Profit_1', 'Retained Earnings_1', 'Total Revenue_1', 'Operating Expenses_1', 'Current assets_2', 'Cost goods sold_2', 'EBITDA_2', 'Inventory_2', 'Net income_2', 'Market value_2', 'Net sales_2', 'Total assets_2', 'Long-term debt_2', 'EBIT_2', 'Gross Profit_2', 'Retained Earnings_2', 'Total Revenue_2', 'Total Liabilities_2', 'Operating Expenses_2', 'Current assets_3', 'Cost goods sold_3', 'DEP and AMO_3', 'EBITDA_3', 'Inventory_3', 'Net income_3', 'Total Receivables_3', 'Market value_3', 'Net sales_3', 'Total assets_3', 'Long-term debt_3', 'EBIT_3', 'Gross Profit_3', 'Current Liabilities _3', 'Retained Earnings_3', 'Total Revenue_3', 'Total Liabilities_3', 'Operating Expenses_3']\n",
      "['Year_1', 'Current assets_1', 'Cost goods sold_1', 'DEP and AMO_1', 'Inventory_1', 'Net income_1', 'Total Receivables_1', 'Market value_1', 'Net sales_1', 'Total assets_1', 'Long-term debt_1', 'EBIT_1', 'Gross Profit_1', 'Retained Earnings_1', 'Total Revenue_1', 'Operating Expenses_1', 'Current assets_2', 'Cost goods sold_2', 'EBITDA_2', 'Inventory_2', 'Net income_2', 'Market value_2', 'Net sales_2', 'Total assets_2', 'Long-term debt_2', 'EBIT_2', 'Gross Profit_2', 'Current Liabilities _2', 'Retained Earnings_2', 'Total Revenue_2', 'Total Liabilities_2', 'Operating Expenses_2', 'Current assets_3', 'Cost goods sold_3', 'DEP and AMO_3', 'EBITDA_3', 'Inventory_3', 'Net income_3', 'Total Receivables_3', 'Market value_3', 'Net sales_3', 'Total assets_3', 'Long-term debt_3', 'EBIT_3', 'Gross Profit_3', 'Current Liabilities _3', 'Retained Earnings_3', 'Total Revenue_3', 'Total Liabilities_3', 'Operating Expenses_3']\n",
      "['Year_1', 'Current assets_1', 'Cost goods sold_1', 'DEP and AMO_1', 'EBITDA_1', 'Inventory_1', 'Net income_1', 'Total Receivables_1', 'Market value_1', 'Net sales_1', 'Total assets_1', 'EBIT_1', 'Gross Profit_1', 'Retained Earnings_1', 'Total Revenue_1', 'Operating Expenses_1', 'Current assets_2', 'Cost goods sold_2', 'EBITDA_2', 'Inventory_2', 'Net income_2', 'Total Receivables_2', 'Market value_2', 'Net sales_2', 'Total assets_2', 'Long-term debt_2', 'EBIT_2', 'Gross Profit_2', 'Current Liabilities _2', 'Retained Earnings_2', 'Total Revenue_2', 'Total Liabilities_2', 'Operating Expenses_2', 'Current assets_3', 'Cost goods sold_3', 'DEP and AMO_3', 'EBITDA_3', 'Inventory_3', 'Net income_3', 'Total Receivables_3', 'Market value_3', 'Net sales_3', 'Total assets_3', 'Long-term debt_3', 'EBIT_3', 'Gross Profit_3', 'Current Liabilities _3', 'Retained Earnings_3', 'Total Revenue_3', 'Total Liabilities_3', 'Operating Expenses_3']\n",
      "['Year_1', 'Current assets_1', 'Cost goods sold_1', 'DEP and AMO_1', 'Inventory_1', 'Net income_1', 'Total Receivables_1', 'Market value_1', 'Net sales_1', 'Total assets_1', 'EBIT_1', 'Gross Profit_1', 'Retained Earnings_1', 'Total Revenue_1', 'Total Liabilities_1', 'Operating Expenses_1', 'Current assets_2', 'Cost goods sold_2', 'DEP and AMO_2', 'EBITDA_2', 'Inventory_2', 'Net income_2', 'Total Receivables_2', 'Market value_2', 'Net sales_2', 'Total assets_2', 'Long-term debt_2', 'EBIT_2', 'Gross Profit_2', 'Current Liabilities _2', 'Retained Earnings_2', 'Total Revenue_2', 'Total Liabilities_2', 'Operating Expenses_2', 'Current assets_3', 'Cost goods sold_3', 'DEP and AMO_3', 'EBITDA_3', 'Inventory_3', 'Net income_3', 'Total Receivables_3', 'Market value_3', 'Net sales_3', 'Total assets_3', 'Long-term debt_3', 'EBIT_3', 'Gross Profit_3', 'Current Liabilities _3', 'Retained Earnings_3', 'Total Revenue_3', 'Total Liabilities_3', 'Operating Expenses_3']\n",
      "['Year_1', 'Current assets_1', 'Cost goods sold_1', 'DEP and AMO_1', 'Net income_1', 'Total Receivables_1', 'Market value_1', 'Net sales_1', 'Total assets_1', 'Long-term debt_1', 'EBIT_1', 'Gross Profit_1', 'Current Liabilities _1', 'Retained Earnings_1', 'Total Revenue_1', 'Total Liabilities_1', 'Operating Expenses_1', 'Current assets_2', 'Cost goods sold_2', 'DEP and AMO_2', 'EBITDA_2', 'Inventory_2', 'Net income_2', 'Total Receivables_2', 'Market value_2', 'Net sales_2', 'Total assets_2', 'Long-term debt_2', 'EBIT_2', 'Gross Profit_2', 'Current Liabilities _2', 'Retained Earnings_2', 'Total Revenue_2', 'Total Liabilities_2', 'Operating Expenses_2', 'Current assets_3', 'Cost goods sold_3', 'DEP and AMO_3', 'EBITDA_3', 'Inventory_3', 'Net income_3', 'Total Receivables_3', 'Market value_3', 'Net sales_3', 'Total assets_3', 'Long-term debt_3', 'EBIT_3', 'Gross Profit_3', 'Current Liabilities _3', 'Retained Earnings_3', 'Total Revenue_3', 'Total Liabilities_3', 'Operating Expenses_3']\n",
      "['Year_1', 'Current assets_1', 'Cost goods sold_1', 'DEP and AMO_1', 'Inventory_1', 'Net income_1', 'Total Receivables_1', 'Market value_1', 'Net sales_1', 'Total assets_1', 'Long-term debt_1', 'EBIT_1', 'Gross Profit_1', 'Current Liabilities _1', 'Retained Earnings_1', 'Total Revenue_1', 'Total Liabilities_1', 'Operating Expenses_1', 'Current assets_2', 'Cost goods sold_2', 'DEP and AMO_2', 'EBITDA_2', 'Inventory_2', 'Net income_2', 'Total Receivables_2', 'Market value_2', 'Net sales_2', 'Total assets_2', 'Long-term debt_2', 'EBIT_2', 'Gross Profit_2', 'Current Liabilities _2', 'Retained Earnings_2', 'Total Revenue_2', 'Total Liabilities_2', 'Operating Expenses_2', 'Current assets_3', 'Cost goods sold_3', 'DEP and AMO_3', 'EBITDA_3', 'Inventory_3', 'Net income_3', 'Total Receivables_3', 'Market value_3', 'Net sales_3', 'Total assets_3', 'Long-term debt_3', 'EBIT_3', 'Gross Profit_3', 'Current Liabilities _3', 'Retained Earnings_3', 'Total Revenue_3', 'Total Liabilities_3', 'Operating Expenses_3']\n",
      "['Year_1', 'Current assets_1', 'Cost goods sold_1', 'DEP and AMO_1', 'EBITDA_1', 'Inventory_1', 'Net income_1', 'Total Receivables_1', 'Market value_1', 'Net sales_1', 'Total assets_1', 'Long-term debt_1', 'EBIT_1', 'Gross Profit_1', 'Current Liabilities _1', 'Retained Earnings_1', 'Total Revenue_1', 'Total Liabilities_1', 'Operating Expenses_1', 'Current assets_2', 'Cost goods sold_2', 'DEP and AMO_2', 'EBITDA_2', 'Inventory_2', 'Net income_2', 'Total Receivables_2', 'Market value_2', 'Net sales_2', 'Total assets_2', 'Long-term debt_2', 'EBIT_2', 'Gross Profit_2', 'Current Liabilities _2', 'Retained Earnings_2', 'Total Revenue_2', 'Total Liabilities_2', 'Operating Expenses_2', 'Current assets_3', 'Cost goods sold_3', 'DEP and AMO_3', 'EBITDA_3', 'Inventory_3', 'Net income_3', 'Total Receivables_3', 'Market value_3', 'Net sales_3', 'Total assets_3', 'Long-term debt_3', 'EBIT_3', 'Gross Profit_3', 'Current Liabilities _3', 'Retained Earnings_3', 'Total Revenue_3', 'Total Liabilities_3', 'Operating Expenses_3']\n"
     ]
    },
    {
     "data": {
      "image/png": "[encoded data removed]",
      "text/plain": [
       "<Figure size 1200x600 with 1 Axes>"
      ]
     },
     "metadata": {},
     "output_type": "display_data"
    }
   ],
   "source": [
    "import numpy as np\n",
    "from sklearn.metrics import make_scorer, precision_score, recall_score\n",
    "\n",
    "original = np.zeros(55)\n",
    "\n",
    "\n",
    "recall = make_scorer(recall_score, pos_label=\"failed\")\n",
    "\n",
    "X_bank_df = pd.DataFrame(X_bank, columns=df.columns[2:])\n",
    "\n",
    "print(len(X_bank_df.columns))\n",
    "\n",
    "for i in range(55):\n",
    "    selector = SelectKBest(mutual_info_classif, k=i+1)\n",
    "    X_reduced = selector.fit_transform(X2, y_bank)\n",
    "    cols_idxs = selector.get_support(indices=True)\n",
    "    nombres = [X_bank_df.columns[j] for j in cols_idxs]\n",
    "    print(nombres)\n",
    "    cv = StratifiedKFold(n_splits=10, random_state=1, shuffle=True)\n",
    "    cv_scores = cross_val_score(nb.KNeighborsClassifier(), X=X_reduced,y=y_bank, cv=cv, scoring=recall)\n",
    "    original[i]=np.mean(cv_scores)\n",
    "\n",
    "fig = plt.figure(figsize = (12, 6))  # Just declare the figure object and give dimensions\n",
    "plt.grid(True)\n",
    "plt.title(\"Evolution of the accuracy against number of features used to train the model\")\n",
    "plt.ylabel(\"Accuracy of the model\")\n",
    "plt.xlabel(\"Number of features\")\n",
    "plt.xticks(np.arange(0, 55, step=1))\n",
    "plt.plot(range(1,56), original)\n",
    "plt.show()"
   ]
  },
  {
   "cell_type": "markdown",
   "metadata": {},
   "source": [
    "['Year_1', 'Cost goods sold_1', 'Inventory_1', 'Net income_1', 'Market value_1', 'EBIT_1', 'Gross Profit_1', 'Net income_2', 'Market value_2', 'Net sales_2', 'Long-term debt_2', 'Retained Earnings_2', 'Total Revenue_2', 'EBITDA_3', 'Net income_3', 'Market value_3', 'EBIT_3', 'Gross Profit_3', 'Retained Earnings_3']"
   ]
  }
 ],
 "metadata": {
  "kernelspec": {
   "display_name": "Python 3 (ipykernel)",
   "language": "python",
   "name": "python3"
  },
  "language_info": {
   "codemirror_mode": {
    "name": "ipython",
    "version": 3
   },
   "file_extension": ".py",
   "mimetype": "text/x-python",
   "name": "python",
   "nbconvert_exporter": "python",
   "pygments_lexer": "ipython3",
   "version": "3.11.2"
  },
  "toc": {
   "base_numbering": 1,
   "nav_menu": {},
   "number_sections": true,
   "sideBar": true,
   "skip_h1_title": false,
   "title_cell": "Table of Contents",
   "title_sidebar": "Contents",
   "toc_cell": false,
   "toc_position": {},
   "toc_section_display": true,
   "toc_window_display": false
  }
 },
 "nbformat": 4,
 "nbformat_minor": 2
}
