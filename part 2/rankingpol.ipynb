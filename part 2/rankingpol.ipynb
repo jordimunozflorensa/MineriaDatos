{
 "cells": [
  {
   "cell_type": "markdown",
   "metadata": {},
   "source": [
    "# Data preparation and feature selection\n",
    "\n",
    "We present different techniques for encode the data and prepare them for applying ML algorithms. Also we present techniques for feature selection.\n",
    "\n",
    "By Mario Martín, modify by Manuel Gijón on April 2024.\n",
    "\n",
    "----"
   ]
  },
  {
   "cell_type": "code",
   "execution_count": 37,
   "metadata": {
    "ExecuteTime": {
     "end_time": "2024-04-22T09:29:53.154688Z",
     "start_time": "2024-04-22T09:29:53.150581Z"
    },
    "pycharm": {
     "name": "#%%\n"
    }
   },
   "outputs": [],
   "source": [
    "import numpy as np\n",
    "import pandas as pd\n",
    "import matplotlib.pyplot as plt\n",
    "\n",
    "import sklearn.neighbors as nb\n",
    "from sklearn.preprocessing import StandardScaler\n",
    "from sklearn.metrics import accuracy_score\n",
    "from sklearn.feature_selection import (\n",
    "    mutual_info_classif,\n",
    "    SelectKBest\n",
    ")\n",
    "from sklearn.model_selection import (\n",
    "    StratifiedKFold,\n",
    "    cross_val_score,\n",
    "    cross_val_predict,\n",
    "    GridSearchCV\n",
    ")\n",
    "from sklearn.feature_selection import (\n",
    "    mutual_info_classif,\n",
    "    SelectKBest,\n",
    ")\n",
    "\n",
    "from sklearn.metrics import make_scorer, precision_score, recall_score\n",
    "\n",
    "%matplotlib inline"
   ]
  },
  {
   "cell_type": "code",
   "execution_count": 10,
   "metadata": {
    "ExecuteTime": {
     "end_time": "2024-04-22T09:29:53.711724Z",
     "start_time": "2024-04-22T09:29:53.704019Z"
    }
   },
   "outputs": [
    {
     "data": {
      "text/html": [
       "<div>\n",
       "<style scoped>\n",
       "    .dataframe tbody tr th:only-of-type {\n",
       "        vertical-align: middle;\n",
       "    }\n",
       "\n",
       "    .dataframe tbody tr th {\n",
       "        vertical-align: top;\n",
       "    }\n",
       "\n",
       "    .dataframe thead th {\n",
       "        text-align: right;\n",
       "    }\n",
       "</style>\n",
       "<table border=\"1\" class=\"dataframe\">\n",
       "  <thead>\n",
       "    <tr style=\"text-align: right;\">\n",
       "      <th></th>\n",
       "      <th>Age</th>\n",
       "      <th>Workclass</th>\n",
       "      <th>Education</th>\n",
       "      <th>Education-Num</th>\n",
       "      <th>Martial Status</th>\n",
       "      <th>Occupation</th>\n",
       "      <th>Relationship</th>\n",
       "      <th>Race</th>\n",
       "      <th>Sex</th>\n",
       "      <th>Capital Gain</th>\n",
       "      <th>Capital Loss</th>\n",
       "      <th>Hours per week</th>\n",
       "      <th>Country</th>\n",
       "      <th>Target</th>\n",
       "    </tr>\n",
       "  </thead>\n",
       "  <tbody>\n",
       "    <tr>\n",
       "      <th>0</th>\n",
       "      <td>39</td>\n",
       "      <td>State-gov</td>\n",
       "      <td>Bachelors</td>\n",
       "      <td>13</td>\n",
       "      <td>Never-married</td>\n",
       "      <td>Adm-clerical</td>\n",
       "      <td>Not-in-family</td>\n",
       "      <td>White</td>\n",
       "      <td>Male</td>\n",
       "      <td>2174</td>\n",
       "      <td>0</td>\n",
       "      <td>40</td>\n",
       "      <td>United-States</td>\n",
       "      <td>&lt;=50K</td>\n",
       "    </tr>\n",
       "    <tr>\n",
       "      <th>1</th>\n",
       "      <td>50</td>\n",
       "      <td>Self-emp-not-inc</td>\n",
       "      <td>Bachelors</td>\n",
       "      <td>13</td>\n",
       "      <td>Married-civ-spouse</td>\n",
       "      <td>Exec-managerial</td>\n",
       "      <td>Husband</td>\n",
       "      <td>White</td>\n",
       "      <td>Male</td>\n",
       "      <td>0</td>\n",
       "      <td>0</td>\n",
       "      <td>13</td>\n",
       "      <td>United-States</td>\n",
       "      <td>&lt;=50K</td>\n",
       "    </tr>\n",
       "    <tr>\n",
       "      <th>2</th>\n",
       "      <td>38</td>\n",
       "      <td>Private</td>\n",
       "      <td>HS-grad</td>\n",
       "      <td>9</td>\n",
       "      <td>Divorced</td>\n",
       "      <td>Handlers-cleaners</td>\n",
       "      <td>Not-in-family</td>\n",
       "      <td>White</td>\n",
       "      <td>Male</td>\n",
       "      <td>0</td>\n",
       "      <td>0</td>\n",
       "      <td>40</td>\n",
       "      <td>United-States</td>\n",
       "      <td>&lt;=50K</td>\n",
       "    </tr>\n",
       "    <tr>\n",
       "      <th>3</th>\n",
       "      <td>53</td>\n",
       "      <td>Private</td>\n",
       "      <td>11th</td>\n",
       "      <td>7</td>\n",
       "      <td>Married-civ-spouse</td>\n",
       "      <td>Handlers-cleaners</td>\n",
       "      <td>Husband</td>\n",
       "      <td>Black</td>\n",
       "      <td>Male</td>\n",
       "      <td>0</td>\n",
       "      <td>0</td>\n",
       "      <td>40</td>\n",
       "      <td>United-States</td>\n",
       "      <td>&lt;=50K</td>\n",
       "    </tr>\n",
       "    <tr>\n",
       "      <th>4</th>\n",
       "      <td>28</td>\n",
       "      <td>Private</td>\n",
       "      <td>Bachelors</td>\n",
       "      <td>13</td>\n",
       "      <td>Married-civ-spouse</td>\n",
       "      <td>Prof-specialty</td>\n",
       "      <td>Wife</td>\n",
       "      <td>Black</td>\n",
       "      <td>Female</td>\n",
       "      <td>0</td>\n",
       "      <td>0</td>\n",
       "      <td>40</td>\n",
       "      <td>Cuba</td>\n",
       "      <td>&lt;=50K</td>\n",
       "    </tr>\n",
       "    <tr>\n",
       "      <th>5</th>\n",
       "      <td>37</td>\n",
       "      <td>Private</td>\n",
       "      <td>Masters</td>\n",
       "      <td>14</td>\n",
       "      <td>Married-civ-spouse</td>\n",
       "      <td>Exec-managerial</td>\n",
       "      <td>Wife</td>\n",
       "      <td>White</td>\n",
       "      <td>Female</td>\n",
       "      <td>0</td>\n",
       "      <td>0</td>\n",
       "      <td>40</td>\n",
       "      <td>United-States</td>\n",
       "      <td>&lt;=50K</td>\n",
       "    </tr>\n",
       "    <tr>\n",
       "      <th>6</th>\n",
       "      <td>49</td>\n",
       "      <td>Private</td>\n",
       "      <td>9th</td>\n",
       "      <td>5</td>\n",
       "      <td>Married-spouse-absent</td>\n",
       "      <td>Other-service</td>\n",
       "      <td>Not-in-family</td>\n",
       "      <td>Black</td>\n",
       "      <td>Female</td>\n",
       "      <td>0</td>\n",
       "      <td>0</td>\n",
       "      <td>16</td>\n",
       "      <td>Jamaica</td>\n",
       "      <td>&lt;=50K</td>\n",
       "    </tr>\n",
       "    <tr>\n",
       "      <th>7</th>\n",
       "      <td>52</td>\n",
       "      <td>Self-emp-not-inc</td>\n",
       "      <td>HS-grad</td>\n",
       "      <td>9</td>\n",
       "      <td>Married-civ-spouse</td>\n",
       "      <td>Exec-managerial</td>\n",
       "      <td>Husband</td>\n",
       "      <td>White</td>\n",
       "      <td>Male</td>\n",
       "      <td>0</td>\n",
       "      <td>0</td>\n",
       "      <td>45</td>\n",
       "      <td>United-States</td>\n",
       "      <td>&gt;50K</td>\n",
       "    </tr>\n",
       "    <tr>\n",
       "      <th>8</th>\n",
       "      <td>31</td>\n",
       "      <td>Private</td>\n",
       "      <td>Masters</td>\n",
       "      <td>14</td>\n",
       "      <td>Never-married</td>\n",
       "      <td>Prof-specialty</td>\n",
       "      <td>Not-in-family</td>\n",
       "      <td>White</td>\n",
       "      <td>Female</td>\n",
       "      <td>14084</td>\n",
       "      <td>0</td>\n",
       "      <td>50</td>\n",
       "      <td>United-States</td>\n",
       "      <td>&gt;50K</td>\n",
       "    </tr>\n",
       "    <tr>\n",
       "      <th>9</th>\n",
       "      <td>42</td>\n",
       "      <td>Private</td>\n",
       "      <td>Bachelors</td>\n",
       "      <td>13</td>\n",
       "      <td>Married-civ-spouse</td>\n",
       "      <td>Exec-managerial</td>\n",
       "      <td>Husband</td>\n",
       "      <td>White</td>\n",
       "      <td>Male</td>\n",
       "      <td>5178</td>\n",
       "      <td>0</td>\n",
       "      <td>40</td>\n",
       "      <td>United-States</td>\n",
       "      <td>&gt;50K</td>\n",
       "    </tr>\n",
       "  </tbody>\n",
       "</table>\n",
       "</div>"
      ],
      "text/plain": [
       "   Age          Workclass   Education  Education-Num          Martial Status  \\\n",
       "0   39          State-gov   Bachelors             13           Never-married   \n",
       "1   50   Self-emp-not-inc   Bachelors             13      Married-civ-spouse   \n",
       "2   38            Private     HS-grad              9                Divorced   \n",
       "3   53            Private        11th              7      Married-civ-spouse   \n",
       "4   28            Private   Bachelors             13      Married-civ-spouse   \n",
       "5   37            Private     Masters             14      Married-civ-spouse   \n",
       "6   49            Private         9th              5   Married-spouse-absent   \n",
       "7   52   Self-emp-not-inc     HS-grad              9      Married-civ-spouse   \n",
       "8   31            Private     Masters             14           Never-married   \n",
       "9   42            Private   Bachelors             13      Married-civ-spouse   \n",
       "\n",
       "           Occupation    Relationship    Race      Sex  Capital Gain  \\\n",
       "0        Adm-clerical   Not-in-family   White     Male          2174   \n",
       "1     Exec-managerial         Husband   White     Male             0   \n",
       "2   Handlers-cleaners   Not-in-family   White     Male             0   \n",
       "3   Handlers-cleaners         Husband   Black     Male             0   \n",
       "4      Prof-specialty            Wife   Black   Female             0   \n",
       "5     Exec-managerial            Wife   White   Female             0   \n",
       "6       Other-service   Not-in-family   Black   Female             0   \n",
       "7     Exec-managerial         Husband   White     Male             0   \n",
       "8      Prof-specialty   Not-in-family   White   Female         14084   \n",
       "9     Exec-managerial         Husband   White     Male          5178   \n",
       "\n",
       "   Capital Loss  Hours per week         Country  Target  \n",
       "0             0              40   United-States   <=50K  \n",
       "1             0              13   United-States   <=50K  \n",
       "2             0              40   United-States   <=50K  \n",
       "3             0              40   United-States   <=50K  \n",
       "4             0              40            Cuba   <=50K  \n",
       "5             0              40   United-States   <=50K  \n",
       "6             0              16         Jamaica   <=50K  \n",
       "7             0              45   United-States    >50K  \n",
       "8             0              50   United-States    >50K  \n",
       "9             0              40   United-States    >50K  "
      ]
     },
     "execution_count": 10,
     "metadata": {},
     "output_type": "execute_result"
    }
   ],
   "source": [
    "URL = \"https://archive.ics.uci.edu/ml/machine-learning-databases/adult/adult.data\"\n",
    "# The dataset does not contains header, but this names for the features has been found in dataset's description\n",
    "names = [\n",
    "    \"Age\", \"Workclass\", \"fnlwgt\", \"Education\",\n",
    "    \"Education-Num\", \"Martial Status\", \"Occupation\", \"Relationship\",\n",
    "    \"Race\", \"Sex\", \"Capital Gain\", \"Capital Loss\",\n",
    "    \"Hours per week\", \"Country\", \"Target\"\n",
    "]\n",
    "\n",
    "df = pd.read_csv(\n",
    "    URL,\n",
    "    sep=',',\n",
    "    na_values=\" ?\",\n",
    "    header=None,\n",
    "    names=names\n",
    ")\n",
    "\n",
    "df=df.drop(labels='fnlwgt',axis=1)\n",
    "df.head(n=10)"
   ]
  },
  {
   "cell_type": "markdown",
   "metadata": {
    "pycharm": {
     "name": "#%% md\n"
    }
   },
   "source": [
    "# DATA TRANSFORMATION: Encoding"
   ]
  },
  {
   "cell_type": "markdown",
   "metadata": {
    "pycharm": {
     "name": "#%% md\n"
    }
   },
   "source": [
    "## OneHotEncoding"
   ]
  },
  {
   "cell_type": "code",
   "execution_count": 11,
   "metadata": {
    "ExecuteTime": {
     "end_time": "2023-11-13T09:29:07.667882Z",
     "start_time": "2023-11-13T09:29:07.626285Z"
    },
    "pycharm": {
     "name": "#%%\n"
    }
   },
   "outputs": [
    {
     "data": {
      "text/html": [
       "<div>\n",
       "<style scoped>\n",
       "    .dataframe tbody tr th:only-of-type {\n",
       "        vertical-align: middle;\n",
       "    }\n",
       "\n",
       "    .dataframe tbody tr th {\n",
       "        vertical-align: top;\n",
       "    }\n",
       "\n",
       "    .dataframe thead th {\n",
       "        text-align: right;\n",
       "    }\n",
       "</style>\n",
       "<table border=\"1\" class=\"dataframe\">\n",
       "  <thead>\n",
       "    <tr style=\"text-align: right;\">\n",
       "      <th></th>\n",
       "      <th>Age</th>\n",
       "      <th>Education-Num</th>\n",
       "      <th>Capital Gain</th>\n",
       "      <th>Capital Loss</th>\n",
       "      <th>Hours per week</th>\n",
       "      <th>Workclass_ Federal-gov</th>\n",
       "      <th>Workclass_ Local-gov</th>\n",
       "      <th>Workclass_ Never-worked</th>\n",
       "      <th>Workclass_ Private</th>\n",
       "      <th>Workclass_ Self-emp-inc</th>\n",
       "      <th>...</th>\n",
       "      <th>Country_ Scotland</th>\n",
       "      <th>Country_ South</th>\n",
       "      <th>Country_ Taiwan</th>\n",
       "      <th>Country_ Thailand</th>\n",
       "      <th>Country_ Trinadad&amp;Tobago</th>\n",
       "      <th>Country_ United-States</th>\n",
       "      <th>Country_ Vietnam</th>\n",
       "      <th>Country_ Yugoslavia</th>\n",
       "      <th>Target_ &lt;=50K</th>\n",
       "      <th>Target_ &gt;50K</th>\n",
       "    </tr>\n",
       "  </thead>\n",
       "  <tbody>\n",
       "    <tr>\n",
       "      <th>0</th>\n",
       "      <td>39</td>\n",
       "      <td>13</td>\n",
       "      <td>2174</td>\n",
       "      <td>0</td>\n",
       "      <td>40</td>\n",
       "      <td>0</td>\n",
       "      <td>0</td>\n",
       "      <td>0</td>\n",
       "      <td>0</td>\n",
       "      <td>0</td>\n",
       "      <td>...</td>\n",
       "      <td>0</td>\n",
       "      <td>0</td>\n",
       "      <td>0</td>\n",
       "      <td>0</td>\n",
       "      <td>0</td>\n",
       "      <td>1</td>\n",
       "      <td>0</td>\n",
       "      <td>0</td>\n",
       "      <td>1</td>\n",
       "      <td>0</td>\n",
       "    </tr>\n",
       "    <tr>\n",
       "      <th>1</th>\n",
       "      <td>50</td>\n",
       "      <td>13</td>\n",
       "      <td>0</td>\n",
       "      <td>0</td>\n",
       "      <td>13</td>\n",
       "      <td>0</td>\n",
       "      <td>0</td>\n",
       "      <td>0</td>\n",
       "      <td>0</td>\n",
       "      <td>0</td>\n",
       "      <td>...</td>\n",
       "      <td>0</td>\n",
       "      <td>0</td>\n",
       "      <td>0</td>\n",
       "      <td>0</td>\n",
       "      <td>0</td>\n",
       "      <td>1</td>\n",
       "      <td>0</td>\n",
       "      <td>0</td>\n",
       "      <td>1</td>\n",
       "      <td>0</td>\n",
       "    </tr>\n",
       "    <tr>\n",
       "      <th>2</th>\n",
       "      <td>38</td>\n",
       "      <td>9</td>\n",
       "      <td>0</td>\n",
       "      <td>0</td>\n",
       "      <td>40</td>\n",
       "      <td>0</td>\n",
       "      <td>0</td>\n",
       "      <td>0</td>\n",
       "      <td>1</td>\n",
       "      <td>0</td>\n",
       "      <td>...</td>\n",
       "      <td>0</td>\n",
       "      <td>0</td>\n",
       "      <td>0</td>\n",
       "      <td>0</td>\n",
       "      <td>0</td>\n",
       "      <td>1</td>\n",
       "      <td>0</td>\n",
       "      <td>0</td>\n",
       "      <td>1</td>\n",
       "      <td>0</td>\n",
       "    </tr>\n",
       "    <tr>\n",
       "      <th>3</th>\n",
       "      <td>53</td>\n",
       "      <td>7</td>\n",
       "      <td>0</td>\n",
       "      <td>0</td>\n",
       "      <td>40</td>\n",
       "      <td>0</td>\n",
       "      <td>0</td>\n",
       "      <td>0</td>\n",
       "      <td>1</td>\n",
       "      <td>0</td>\n",
       "      <td>...</td>\n",
       "      <td>0</td>\n",
       "      <td>0</td>\n",
       "      <td>0</td>\n",
       "      <td>0</td>\n",
       "      <td>0</td>\n",
       "      <td>1</td>\n",
       "      <td>0</td>\n",
       "      <td>0</td>\n",
       "      <td>1</td>\n",
       "      <td>0</td>\n",
       "    </tr>\n",
       "    <tr>\n",
       "      <th>4</th>\n",
       "      <td>28</td>\n",
       "      <td>13</td>\n",
       "      <td>0</td>\n",
       "      <td>0</td>\n",
       "      <td>40</td>\n",
       "      <td>0</td>\n",
       "      <td>0</td>\n",
       "      <td>0</td>\n",
       "      <td>1</td>\n",
       "      <td>0</td>\n",
       "      <td>...</td>\n",
       "      <td>0</td>\n",
       "      <td>0</td>\n",
       "      <td>0</td>\n",
       "      <td>0</td>\n",
       "      <td>0</td>\n",
       "      <td>0</td>\n",
       "      <td>0</td>\n",
       "      <td>0</td>\n",
       "      <td>1</td>\n",
       "      <td>0</td>\n",
       "    </tr>\n",
       "  </tbody>\n",
       "</table>\n",
       "<p>5 rows × 106 columns</p>\n",
       "</div>"
      ],
      "text/plain": [
       "   Age  Education-Num  Capital Gain  Capital Loss  Hours per week  \\\n",
       "0   39             13          2174             0              40   \n",
       "1   50             13             0             0              13   \n",
       "2   38              9             0             0              40   \n",
       "3   53              7             0             0              40   \n",
       "4   28             13             0             0              40   \n",
       "\n",
       "   Workclass_ Federal-gov  Workclass_ Local-gov  Workclass_ Never-worked  \\\n",
       "0                       0                     0                        0   \n",
       "1                       0                     0                        0   \n",
       "2                       0                     0                        0   \n",
       "3                       0                     0                        0   \n",
       "4                       0                     0                        0   \n",
       "\n",
       "   Workclass_ Private  Workclass_ Self-emp-inc  ...  Country_ Scotland  \\\n",
       "0                   0                        0  ...                  0   \n",
       "1                   0                        0  ...                  0   \n",
       "2                   1                        0  ...                  0   \n",
       "3                   1                        0  ...                  0   \n",
       "4                   1                        0  ...                  0   \n",
       "\n",
       "   Country_ South  Country_ Taiwan  Country_ Thailand  \\\n",
       "0               0                0                  0   \n",
       "1               0                0                  0   \n",
       "2               0                0                  0   \n",
       "3               0                0                  0   \n",
       "4               0                0                  0   \n",
       "\n",
       "   Country_ Trinadad&Tobago  Country_ United-States  Country_ Vietnam  \\\n",
       "0                         0                       1                 0   \n",
       "1                         0                       1                 0   \n",
       "2                         0                       1                 0   \n",
       "3                         0                       1                 0   \n",
       "4                         0                       0                 0   \n",
       "\n",
       "   Country_ Yugoslavia  Target_ <=50K  Target_ >50K  \n",
       "0                    0              1             0  \n",
       "1                    0              1             0  \n",
       "2                    0              1             0  \n",
       "3                    0              1             0  \n",
       "4                    0              1             0  \n",
       "\n",
       "[5 rows x 106 columns]"
      ]
     },
     "execution_count": 11,
     "metadata": {},
     "output_type": "execute_result"
    }
   ],
   "source": [
    "# Categorical to numerical using OneHotEncoding for all features\n",
    "pd.get_dummies(df).head()"
   ]
  },
  {
   "cell_type": "code",
   "execution_count": 12,
   "metadata": {
    "ExecuteTime": {
     "end_time": "2023-11-13T11:24:37.819966Z",
     "start_time": "2023-11-13T11:24:37.807808Z"
    },
    "pycharm": {
     "name": "#%%\n"
    }
   },
   "outputs": [
    {
     "data": {
      "text/plain": [
       "Workclass\n",
       " Federal-gov           960\n",
       " Local-gov            2093\n",
       " Never-worked            7\n",
       " Private             22696\n",
       " Self-emp-inc         1116\n",
       " Self-emp-not-inc     2541\n",
       " State-gov            1298\n",
       " Without-pay            14\n",
       "dtype: int64"
      ]
     },
     "execution_count": 12,
     "metadata": {},
     "output_type": "execute_result"
    }
   ],
   "source": [
    "#df.groupby('Workclass').head()\n",
    "df.groupby('Workclass').size()"
   ]
  },
  {
   "cell_type": "code",
   "execution_count": 13,
   "metadata": {
    "ExecuteTime": {
     "end_time": "2023-11-13T09:30:38.538133Z",
     "start_time": "2023-11-13T09:30:38.518554Z"
    }
   },
   "outputs": [
    {
     "data": {
      "text/html": [
       "<div>\n",
       "<style scoped>\n",
       "    .dataframe tbody tr th:only-of-type {\n",
       "        vertical-align: middle;\n",
       "    }\n",
       "\n",
       "    .dataframe tbody tr th {\n",
       "        vertical-align: top;\n",
       "    }\n",
       "\n",
       "    .dataframe thead th {\n",
       "        text-align: right;\n",
       "    }\n",
       "</style>\n",
       "<table border=\"1\" class=\"dataframe\">\n",
       "  <thead>\n",
       "    <tr style=\"text-align: right;\">\n",
       "      <th></th>\n",
       "      <th>Age</th>\n",
       "      <th>Education-Num</th>\n",
       "      <th>Capital Gain</th>\n",
       "      <th>Capital Loss</th>\n",
       "      <th>Hours per week</th>\n",
       "    </tr>\n",
       "  </thead>\n",
       "  <tbody>\n",
       "    <tr>\n",
       "      <th>count</th>\n",
       "      <td>32561.000000</td>\n",
       "      <td>32561.000000</td>\n",
       "      <td>32561.000000</td>\n",
       "      <td>32561.000000</td>\n",
       "      <td>32561.000000</td>\n",
       "    </tr>\n",
       "    <tr>\n",
       "      <th>mean</th>\n",
       "      <td>38.581647</td>\n",
       "      <td>10.080679</td>\n",
       "      <td>1077.648844</td>\n",
       "      <td>87.303830</td>\n",
       "      <td>40.437456</td>\n",
       "    </tr>\n",
       "    <tr>\n",
       "      <th>std</th>\n",
       "      <td>13.640433</td>\n",
       "      <td>2.572720</td>\n",
       "      <td>7385.292085</td>\n",
       "      <td>402.960219</td>\n",
       "      <td>12.347429</td>\n",
       "    </tr>\n",
       "    <tr>\n",
       "      <th>min</th>\n",
       "      <td>17.000000</td>\n",
       "      <td>1.000000</td>\n",
       "      <td>0.000000</td>\n",
       "      <td>0.000000</td>\n",
       "      <td>1.000000</td>\n",
       "    </tr>\n",
       "    <tr>\n",
       "      <th>25%</th>\n",
       "      <td>28.000000</td>\n",
       "      <td>9.000000</td>\n",
       "      <td>0.000000</td>\n",
       "      <td>0.000000</td>\n",
       "      <td>40.000000</td>\n",
       "    </tr>\n",
       "    <tr>\n",
       "      <th>50%</th>\n",
       "      <td>37.000000</td>\n",
       "      <td>10.000000</td>\n",
       "      <td>0.000000</td>\n",
       "      <td>0.000000</td>\n",
       "      <td>40.000000</td>\n",
       "    </tr>\n",
       "    <tr>\n",
       "      <th>75%</th>\n",
       "      <td>48.000000</td>\n",
       "      <td>12.000000</td>\n",
       "      <td>0.000000</td>\n",
       "      <td>0.000000</td>\n",
       "      <td>45.000000</td>\n",
       "    </tr>\n",
       "    <tr>\n",
       "      <th>max</th>\n",
       "      <td>90.000000</td>\n",
       "      <td>16.000000</td>\n",
       "      <td>99999.000000</td>\n",
       "      <td>4356.000000</td>\n",
       "      <td>99.000000</td>\n",
       "    </tr>\n",
       "  </tbody>\n",
       "</table>\n",
       "</div>"
      ],
      "text/plain": [
       "                Age  Education-Num  Capital Gain  Capital Loss  Hours per week\n",
       "count  32561.000000   32561.000000  32561.000000  32561.000000    32561.000000\n",
       "mean      38.581647      10.080679   1077.648844     87.303830       40.437456\n",
       "std       13.640433       2.572720   7385.292085    402.960219       12.347429\n",
       "min       17.000000       1.000000      0.000000      0.000000        1.000000\n",
       "25%       28.000000       9.000000      0.000000      0.000000       40.000000\n",
       "50%       37.000000      10.000000      0.000000      0.000000       40.000000\n",
       "75%       48.000000      12.000000      0.000000      0.000000       45.000000\n",
       "max       90.000000      16.000000  99999.000000   4356.000000       99.000000"
      ]
     },
     "execution_count": 13,
     "metadata": {},
     "output_type": "execute_result"
    }
   ],
   "source": [
    "df.describe()"
   ]
  },
  {
   "cell_type": "code",
   "execution_count": 14,
   "metadata": {
    "ExecuteTime": {
     "end_time": "2023-11-12T20:35:57.394521Z",
     "start_time": "2023-11-12T20:35:57.347310Z"
    },
    "pycharm": {
     "name": "#%%\n"
    }
   },
   "outputs": [
    {
     "data": {
      "text/html": [
       "<div>\n",
       "<style scoped>\n",
       "    .dataframe tbody tr th:only-of-type {\n",
       "        vertical-align: middle;\n",
       "    }\n",
       "\n",
       "    .dataframe tbody tr th {\n",
       "        vertical-align: top;\n",
       "    }\n",
       "\n",
       "    .dataframe thead th {\n",
       "        text-align: right;\n",
       "    }\n",
       "</style>\n",
       "<table border=\"1\" class=\"dataframe\">\n",
       "  <thead>\n",
       "    <tr style=\"text-align: right;\">\n",
       "      <th></th>\n",
       "      <th>Age</th>\n",
       "      <th>Education</th>\n",
       "      <th>Education-Num</th>\n",
       "      <th>Martial Status</th>\n",
       "      <th>Occupation</th>\n",
       "      <th>Relationship</th>\n",
       "      <th>Race</th>\n",
       "      <th>Sex</th>\n",
       "      <th>Capital Gain</th>\n",
       "      <th>Capital Loss</th>\n",
       "      <th>Hours per week</th>\n",
       "      <th>Country</th>\n",
       "      <th>Target</th>\n",
       "      <th>Workclass_ Local-gov</th>\n",
       "      <th>Workclass_ Never-worked</th>\n",
       "      <th>Workclass_ Private</th>\n",
       "      <th>Workclass_ Self-emp-inc</th>\n",
       "      <th>Workclass_ Self-emp-not-inc</th>\n",
       "      <th>Workclass_ State-gov</th>\n",
       "      <th>Workclass_ Without-pay</th>\n",
       "    </tr>\n",
       "  </thead>\n",
       "  <tbody>\n",
       "    <tr>\n",
       "      <th>0</th>\n",
       "      <td>39</td>\n",
       "      <td>Bachelors</td>\n",
       "      <td>13</td>\n",
       "      <td>Never-married</td>\n",
       "      <td>Adm-clerical</td>\n",
       "      <td>Not-in-family</td>\n",
       "      <td>White</td>\n",
       "      <td>Male</td>\n",
       "      <td>2174</td>\n",
       "      <td>0</td>\n",
       "      <td>40</td>\n",
       "      <td>United-States</td>\n",
       "      <td>&lt;=50K</td>\n",
       "      <td>0</td>\n",
       "      <td>0</td>\n",
       "      <td>0</td>\n",
       "      <td>0</td>\n",
       "      <td>0</td>\n",
       "      <td>1</td>\n",
       "      <td>0</td>\n",
       "    </tr>\n",
       "    <tr>\n",
       "      <th>1</th>\n",
       "      <td>50</td>\n",
       "      <td>Bachelors</td>\n",
       "      <td>13</td>\n",
       "      <td>Married-civ-spouse</td>\n",
       "      <td>Exec-managerial</td>\n",
       "      <td>Husband</td>\n",
       "      <td>White</td>\n",
       "      <td>Male</td>\n",
       "      <td>0</td>\n",
       "      <td>0</td>\n",
       "      <td>13</td>\n",
       "      <td>United-States</td>\n",
       "      <td>&lt;=50K</td>\n",
       "      <td>0</td>\n",
       "      <td>0</td>\n",
       "      <td>0</td>\n",
       "      <td>0</td>\n",
       "      <td>1</td>\n",
       "      <td>0</td>\n",
       "      <td>0</td>\n",
       "    </tr>\n",
       "    <tr>\n",
       "      <th>2</th>\n",
       "      <td>38</td>\n",
       "      <td>HS-grad</td>\n",
       "      <td>9</td>\n",
       "      <td>Divorced</td>\n",
       "      <td>Handlers-cleaners</td>\n",
       "      <td>Not-in-family</td>\n",
       "      <td>White</td>\n",
       "      <td>Male</td>\n",
       "      <td>0</td>\n",
       "      <td>0</td>\n",
       "      <td>40</td>\n",
       "      <td>United-States</td>\n",
       "      <td>&lt;=50K</td>\n",
       "      <td>0</td>\n",
       "      <td>0</td>\n",
       "      <td>1</td>\n",
       "      <td>0</td>\n",
       "      <td>0</td>\n",
       "      <td>0</td>\n",
       "      <td>0</td>\n",
       "    </tr>\n",
       "    <tr>\n",
       "      <th>3</th>\n",
       "      <td>53</td>\n",
       "      <td>11th</td>\n",
       "      <td>7</td>\n",
       "      <td>Married-civ-spouse</td>\n",
       "      <td>Handlers-cleaners</td>\n",
       "      <td>Husband</td>\n",
       "      <td>Black</td>\n",
       "      <td>Male</td>\n",
       "      <td>0</td>\n",
       "      <td>0</td>\n",
       "      <td>40</td>\n",
       "      <td>United-States</td>\n",
       "      <td>&lt;=50K</td>\n",
       "      <td>0</td>\n",
       "      <td>0</td>\n",
       "      <td>1</td>\n",
       "      <td>0</td>\n",
       "      <td>0</td>\n",
       "      <td>0</td>\n",
       "      <td>0</td>\n",
       "    </tr>\n",
       "    <tr>\n",
       "      <th>4</th>\n",
       "      <td>28</td>\n",
       "      <td>Bachelors</td>\n",
       "      <td>13</td>\n",
       "      <td>Married-civ-spouse</td>\n",
       "      <td>Prof-specialty</td>\n",
       "      <td>Wife</td>\n",
       "      <td>Black</td>\n",
       "      <td>Female</td>\n",
       "      <td>0</td>\n",
       "      <td>0</td>\n",
       "      <td>40</td>\n",
       "      <td>Cuba</td>\n",
       "      <td>&lt;=50K</td>\n",
       "      <td>0</td>\n",
       "      <td>0</td>\n",
       "      <td>1</td>\n",
       "      <td>0</td>\n",
       "      <td>0</td>\n",
       "      <td>0</td>\n",
       "      <td>0</td>\n",
       "    </tr>\n",
       "  </tbody>\n",
       "</table>\n",
       "</div>"
      ],
      "text/plain": [
       "   Age   Education  Education-Num       Martial Status          Occupation  \\\n",
       "0   39   Bachelors             13        Never-married        Adm-clerical   \n",
       "1   50   Bachelors             13   Married-civ-spouse     Exec-managerial   \n",
       "2   38     HS-grad              9             Divorced   Handlers-cleaners   \n",
       "3   53        11th              7   Married-civ-spouse   Handlers-cleaners   \n",
       "4   28   Bachelors             13   Married-civ-spouse      Prof-specialty   \n",
       "\n",
       "     Relationship    Race      Sex  Capital Gain  Capital Loss  \\\n",
       "0   Not-in-family   White     Male          2174             0   \n",
       "1         Husband   White     Male             0             0   \n",
       "2   Not-in-family   White     Male             0             0   \n",
       "3         Husband   Black     Male             0             0   \n",
       "4            Wife   Black   Female             0             0   \n",
       "\n",
       "   Hours per week         Country  Target  Workclass_ Local-gov  \\\n",
       "0              40   United-States   <=50K                     0   \n",
       "1              13   United-States   <=50K                     0   \n",
       "2              40   United-States   <=50K                     0   \n",
       "3              40   United-States   <=50K                     0   \n",
       "4              40            Cuba   <=50K                     0   \n",
       "\n",
       "   Workclass_ Never-worked  Workclass_ Private  Workclass_ Self-emp-inc  \\\n",
       "0                        0                   0                        0   \n",
       "1                        0                   0                        0   \n",
       "2                        0                   1                        0   \n",
       "3                        0                   1                        0   \n",
       "4                        0                   1                        0   \n",
       "\n",
       "   Workclass_ Self-emp-not-inc  Workclass_ State-gov  Workclass_ Without-pay  \n",
       "0                            0                     1                       0  \n",
       "1                            1                     0                       0  \n",
       "2                            0                     0                       0  \n",
       "3                            0                     0                       0  \n",
       "4                            0                     0                       0  "
      ]
     },
     "execution_count": 14,
     "metadata": {},
     "output_type": "execute_result"
    }
   ],
   "source": [
    "#Categorical to numerical using OneHotEncoding for some features (Workclass) and removing one value\n",
    "pd.get_dummies(df, columns=[\"Workclass\"],drop_first=True).head()"
   ]
  },
  {
   "cell_type": "markdown",
   "metadata": {
    "pycharm": {
     "name": "#%% md\n"
    }
   },
   "source": [
    "## LabelEncoding\n",
    "\n",
    "Attend the proportions in which each categorical value is presented in the feature."
   ]
  },
  {
   "cell_type": "code",
   "execution_count": 15,
   "metadata": {
    "ExecuteTime": {
     "end_time": "2023-11-13T09:32:22.709919Z",
     "start_time": "2023-11-13T09:32:22.697832Z"
    },
    "pycharm": {
     "name": "#%%\n"
    }
   },
   "outputs": [
    {
     "data": {
      "text/plain": [
       "Education\n",
       " 10th            0.028654\n",
       " 11th            0.036086\n",
       " 12th            0.013298\n",
       " 1st-4th         0.005160\n",
       " 5th-6th         0.010227\n",
       " 7th-8th         0.019840\n",
       " 9th             0.015786\n",
       " Assoc-acdm      0.032769\n",
       " Assoc-voc       0.042443\n",
       " Bachelors       0.164461\n",
       " Doctorate       0.012684\n",
       " HS-grad         0.322502\n",
       " Masters         0.052916\n",
       " Preschool       0.001566\n",
       " Prof-school     0.017690\n",
       " Some-college    0.223918\n",
       "dtype: float64"
      ]
     },
     "execution_count": 15,
     "metadata": {},
     "output_type": "execute_result"
    }
   ],
   "source": [
    "df.groupby('Education').size() / len(df)"
   ]
  },
  {
   "cell_type": "code",
   "execution_count": 16,
   "metadata": {
    "ExecuteTime": {
     "end_time": "2023-11-13T11:28:21.484091Z",
     "start_time": "2023-11-13T11:28:21.466578Z"
    }
   },
   "outputs": [
    {
     "data": {
      "text/plain": [
       "(32561, 14)"
      ]
     },
     "execution_count": 16,
     "metadata": {},
     "output_type": "execute_result"
    }
   ],
   "source": [
    "df.shape"
   ]
  },
  {
   "cell_type": "code",
   "execution_count": 17,
   "metadata": {
    "ExecuteTime": {
     "end_time": "2023-11-12T20:36:09.549815Z",
     "start_time": "2023-11-12T20:36:09.542270Z"
    },
    "pycharm": {
     "name": "#%%\n"
    }
   },
   "outputs": [],
   "source": [
    "# We are going to create a dictionary with the category and the value we want to replace it for\n",
    "Education_dict = {\n",
    " ' Preschool': 1,\n",
    " ' 1st-4th': 2,\n",
    " ' 5th-6th': 3,\n",
    " ' 7th-8th': 4,\n",
    " ' 9th': 5,\n",
    " ' 10th': 6,\n",
    " ' 11th': 7,\n",
    " ' 12th': 8,\n",
    " ' Some-college': 9,\n",
    " ' Prof-school': 10,\n",
    " ' Bachelors': 11,\n",
    " ' Assoc-acdm': 12,\n",
    " ' Assoc-voc': 13,\n",
    " ' HS-grad': 14,\n",
    " ' Masters': 15,\n",
    " ' Doctorate': 16}\n",
    "\n",
    "df['Education'] = df.Education.map(Education_dict)  # OBS: Python allows us to use a dictionary as a 'function'\n",
    "                                                    # in this case, no need to create a lambda"
   ]
  },
  {
   "cell_type": "code",
   "execution_count": 18,
   "metadata": {
    "ExecuteTime": {
     "end_time": "2023-11-12T20:36:10.961663Z",
     "start_time": "2023-11-12T20:36:10.953371Z"
    },
    "pycharm": {
     "name": "#%%\n"
    }
   },
   "outputs": [
    {
     "data": {
      "text/plain": [
       "Education\n",
       "1     0.001566\n",
       "2     0.005160\n",
       "3     0.010227\n",
       "4     0.019840\n",
       "5     0.015786\n",
       "6     0.028654\n",
       "7     0.036086\n",
       "8     0.013298\n",
       "9     0.223918\n",
       "10    0.017690\n",
       "11    0.164461\n",
       "12    0.032769\n",
       "13    0.042443\n",
       "14    0.322502\n",
       "15    0.052916\n",
       "16    0.012684\n",
       "dtype: float64"
      ]
     },
     "execution_count": 18,
     "metadata": {},
     "output_type": "execute_result"
    }
   ],
   "source": [
    "df.groupby('Education').size()/ len(df)"
   ]
  },
  {
   "cell_type": "markdown",
   "metadata": {
    "pycharm": {
     "name": "#%% md\n"
    }
   },
   "source": [
    "# DATA TRANSFORMATION: Normalization"
   ]
  },
  {
   "cell_type": "code",
   "execution_count": 6,
   "metadata": {
    "ExecuteTime": {
     "end_time": "2023-11-13T11:32:22.584160Z",
     "start_time": "2023-11-13T11:32:22.567271Z"
    },
    "pycharm": {
     "name": "#%%\n"
    }
   },
   "outputs": [],
   "source": [
    "import pandas as pd\n",
    "\n",
    "df = pd.read_csv(\"dades_preprocessades.csv\")\n",
    "X_bank = df.values[:,2:]\n",
    "y_bank = df.values[:,1]"
   ]
  },
  {
   "cell_type": "code",
   "execution_count": 7,
   "metadata": {
    "ExecuteTime": {
     "end_time": "2023-11-13T11:35:53.821135Z",
     "start_time": "2023-11-13T11:35:53.795903Z"
    }
   },
   "outputs": [
    {
     "data": {
      "text/html": [
       "<div>\n",
       "<style scoped>\n",
       "    .dataframe tbody tr th:only-of-type {\n",
       "        vertical-align: middle;\n",
       "    }\n",
       "\n",
       "    .dataframe tbody tr th {\n",
       "        vertical-align: top;\n",
       "    }\n",
       "\n",
       "    .dataframe thead th {\n",
       "        text-align: right;\n",
       "    }\n",
       "</style>\n",
       "<table border=\"1\" class=\"dataframe\">\n",
       "  <thead>\n",
       "    <tr style=\"text-align: right;\">\n",
       "      <th></th>\n",
       "      <th>Year_1</th>\n",
       "      <th>Current assets_1</th>\n",
       "      <th>Cost goods sold_1</th>\n",
       "      <th>DEP and AMO_1</th>\n",
       "      <th>EBITDA_1</th>\n",
       "      <th>Inventory_1</th>\n",
       "      <th>Net income_1</th>\n",
       "      <th>Total Receivables_1</th>\n",
       "      <th>Market value_1</th>\n",
       "      <th>Net sales_1</th>\n",
       "      <th>...</th>\n",
       "      <th>Net sales_3</th>\n",
       "      <th>Total assets_3</th>\n",
       "      <th>Long-term debt_3</th>\n",
       "      <th>EBIT_3</th>\n",
       "      <th>Gross Profit_3</th>\n",
       "      <th>Current Liabilities _3</th>\n",
       "      <th>Retained Earnings_3</th>\n",
       "      <th>Total Revenue_3</th>\n",
       "      <th>Total Liabilities_3</th>\n",
       "      <th>Operating Expenses_3</th>\n",
       "    </tr>\n",
       "  </thead>\n",
       "  <tbody>\n",
       "    <tr>\n",
       "      <th>count</th>\n",
       "      <td>7310.000000</td>\n",
       "      <td>7310.000000</td>\n",
       "      <td>7310.000000</td>\n",
       "      <td>7310.000000</td>\n",
       "      <td>7310.000000</td>\n",
       "      <td>7310.000000</td>\n",
       "      <td>7310.000000</td>\n",
       "      <td>7310.000000</td>\n",
       "      <td>7310.000000</td>\n",
       "      <td>7310.000000</td>\n",
       "      <td>...</td>\n",
       "      <td>7310.000000</td>\n",
       "      <td>7310.000000</td>\n",
       "      <td>7310.000000</td>\n",
       "      <td>7310.000000</td>\n",
       "      <td>7310.000000</td>\n",
       "      <td>7310.000000</td>\n",
       "      <td>7310.000000</td>\n",
       "      <td>7310.000000</td>\n",
       "      <td>7310.000000</td>\n",
       "      <td>7310.000000</td>\n",
       "    </tr>\n",
       "    <tr>\n",
       "      <th>mean</th>\n",
       "      <td>2010.023393</td>\n",
       "      <td>798.073034</td>\n",
       "      <td>1288.220050</td>\n",
       "      <td>114.610857</td>\n",
       "      <td>313.624063</td>\n",
       "      <td>167.777297</td>\n",
       "      <td>99.606616</td>\n",
       "      <td>250.475278</td>\n",
       "      <td>3097.479900</td>\n",
       "      <td>1949.243461</td>\n",
       "      <td>...</td>\n",
       "      <td>2213.199690</td>\n",
       "      <td>2961.361750</td>\n",
       "      <td>890.510675</td>\n",
       "      <td>242.439578</td>\n",
       "      <td>754.204890</td>\n",
       "      <td>641.706017</td>\n",
       "      <td>457.333572</td>\n",
       "      <td>2213.199690</td>\n",
       "      <td>1944.662389</td>\n",
       "      <td>1844.248983</td>\n",
       "    </tr>\n",
       "    <tr>\n",
       "      <th>std</th>\n",
       "      <td>5.959468</td>\n",
       "      <td>4252.226473</td>\n",
       "      <td>7762.951934</td>\n",
       "      <td>687.099519</td>\n",
       "      <td>1782.242918</td>\n",
       "      <td>1009.000678</td>\n",
       "      <td>984.454874</td>\n",
       "      <td>1377.061553</td>\n",
       "      <td>17929.525846</td>\n",
       "      <td>10549.543306</td>\n",
       "      <td>...</td>\n",
       "      <td>12094.178066</td>\n",
       "      <td>15154.120537</td>\n",
       "      <td>4601.400627</td>\n",
       "      <td>1563.079443</td>\n",
       "      <td>4113.233588</td>\n",
       "      <td>3626.350048</td>\n",
       "      <td>6867.785982</td>\n",
       "      <td>12094.178066</td>\n",
       "      <td>10082.903688</td>\n",
       "      <td>10552.574745</td>\n",
       "    </tr>\n",
       "    <tr>\n",
       "      <th>min</th>\n",
       "      <td>1999.000000</td>\n",
       "      <td>-1.124000</td>\n",
       "      <td>0.000000</td>\n",
       "      <td>0.000000</td>\n",
       "      <td>-4118.000000</td>\n",
       "      <td>0.000000</td>\n",
       "      <td>-13082.000000</td>\n",
       "      <td>0.000000</td>\n",
       "      <td>0.000700</td>\n",
       "      <td>-244.189000</td>\n",
       "      <td>...</td>\n",
       "      <td>-1181.604000</td>\n",
       "      <td>0.001000</td>\n",
       "      <td>0.000000</td>\n",
       "      <td>-8851.000000</td>\n",
       "      <td>-6887.000000</td>\n",
       "      <td>0.002000</td>\n",
       "      <td>-69645.000000</td>\n",
       "      <td>-1181.604000</td>\n",
       "      <td>0.002000</td>\n",
       "      <td>0.018000</td>\n",
       "    </tr>\n",
       "    <tr>\n",
       "      <th>25%</th>\n",
       "      <td>2005.000000</td>\n",
       "      <td>16.075000</td>\n",
       "      <td>14.208750</td>\n",
       "      <td>0.968500</td>\n",
       "      <td>-2.170500</td>\n",
       "      <td>0.000000</td>\n",
       "      <td>-12.459500</td>\n",
       "      <td>2.433250</td>\n",
       "      <td>28.378750</td>\n",
       "      <td>21.203750</td>\n",
       "      <td>...</td>\n",
       "      <td>21.824250</td>\n",
       "      <td>30.014500</td>\n",
       "      <td>0.000000</td>\n",
       "      <td>-5.508250</td>\n",
       "      <td>5.879500</td>\n",
       "      <td>9.264250</td>\n",
       "      <td>-141.380000</td>\n",
       "      <td>21.824250</td>\n",
       "      <td>14.102500</td>\n",
       "      <td>28.733750</td>\n",
       "    </tr>\n",
       "    <tr>\n",
       "      <th>50%</th>\n",
       "      <td>2012.000000</td>\n",
       "      <td>82.191000</td>\n",
       "      <td>79.010000</td>\n",
       "      <td>6.141000</td>\n",
       "      <td>7.796000</td>\n",
       "      <td>4.130000</td>\n",
       "      <td>-0.240000</td>\n",
       "      <td>17.326500</td>\n",
       "      <td>167.350100</td>\n",
       "      <td>137.616000</td>\n",
       "      <td>...</td>\n",
       "      <td>152.442500</td>\n",
       "      <td>177.877000</td>\n",
       "      <td>6.113000</td>\n",
       "      <td>1.833000</td>\n",
       "      <td>53.429500</td>\n",
       "      <td>43.320000</td>\n",
       "      <td>-20.956000</td>\n",
       "      <td>152.442500</td>\n",
       "      <td>78.489000</td>\n",
       "      <td>146.946500</td>\n",
       "    </tr>\n",
       "    <tr>\n",
       "      <th>75%</th>\n",
       "      <td>2016.000000</td>\n",
       "      <td>349.945500</td>\n",
       "      <td>479.364750</td>\n",
       "      <td>42.207500</td>\n",
       "      <td>103.497750</td>\n",
       "      <td>49.859000</td>\n",
       "      <td>21.881500</td>\n",
       "      <td>103.020500</td>\n",
       "      <td>1047.193950</td>\n",
       "      <td>824.690500</td>\n",
       "      <td>...</td>\n",
       "      <td>915.860500</td>\n",
       "      <td>1110.777000</td>\n",
       "      <td>245.555750</td>\n",
       "      <td>68.466750</td>\n",
       "      <td>329.804500</td>\n",
       "      <td>223.269250</td>\n",
       "      <td>83.146500</td>\n",
       "      <td>915.860500</td>\n",
       "      <td>613.018750</td>\n",
       "      <td>780.146500</td>\n",
       "    </tr>\n",
       "    <tr>\n",
       "      <th>max</th>\n",
       "      <td>2016.000000</td>\n",
       "      <td>139660.000000</td>\n",
       "      <td>351176.000000</td>\n",
       "      <td>25847.000000</td>\n",
       "      <td>69276.000000</td>\n",
       "      <td>43199.000000</td>\n",
       "      <td>45687.000000</td>\n",
       "      <td>57591.000000</td>\n",
       "      <td>603253.566300</td>\n",
       "      <td>482154.000000</td>\n",
       "      <td>...</td>\n",
       "      <td>511729.000000</td>\n",
       "      <td>531864.000000</td>\n",
       "      <td>166250.000000</td>\n",
       "      <td>70662.000000</td>\n",
       "      <td>137106.000000</td>\n",
       "      <td>116866.000000</td>\n",
       "      <td>402089.000000</td>\n",
       "      <td>511729.000000</td>\n",
       "      <td>337980.000000</td>\n",
       "      <td>481580.000000</td>\n",
       "    </tr>\n",
       "  </tbody>\n",
       "</table>\n",
       "<p>8 rows × 55 columns</p>\n",
       "</div>"
      ],
      "text/plain": [
       "            Year_1  Current assets_1  Cost goods sold_1  DEP and AMO_1  \\\n",
       "count  7310.000000       7310.000000        7310.000000    7310.000000   \n",
       "mean   2010.023393        798.073034        1288.220050     114.610857   \n",
       "std       5.959468       4252.226473        7762.951934     687.099519   \n",
       "min    1999.000000         -1.124000           0.000000       0.000000   \n",
       "25%    2005.000000         16.075000          14.208750       0.968500   \n",
       "50%    2012.000000         82.191000          79.010000       6.141000   \n",
       "75%    2016.000000        349.945500         479.364750      42.207500   \n",
       "max    2016.000000     139660.000000      351176.000000   25847.000000   \n",
       "\n",
       "           EBITDA_1   Inventory_1  Net income_1  Total Receivables_1  \\\n",
       "count   7310.000000   7310.000000   7310.000000          7310.000000   \n",
       "mean     313.624063    167.777297     99.606616           250.475278   \n",
       "std     1782.242918   1009.000678    984.454874          1377.061553   \n",
       "min    -4118.000000      0.000000 -13082.000000             0.000000   \n",
       "25%       -2.170500      0.000000    -12.459500             2.433250   \n",
       "50%        7.796000      4.130000     -0.240000            17.326500   \n",
       "75%      103.497750     49.859000     21.881500           103.020500   \n",
       "max    69276.000000  43199.000000  45687.000000         57591.000000   \n",
       "\n",
       "       Market value_1    Net sales_1  ...    Net sales_3  Total assets_3  \\\n",
       "count     7310.000000    7310.000000  ...    7310.000000     7310.000000   \n",
       "mean      3097.479900    1949.243461  ...    2213.199690     2961.361750   \n",
       "std      17929.525846   10549.543306  ...   12094.178066    15154.120537   \n",
       "min          0.000700    -244.189000  ...   -1181.604000        0.001000   \n",
       "25%         28.378750      21.203750  ...      21.824250       30.014500   \n",
       "50%        167.350100     137.616000  ...     152.442500      177.877000   \n",
       "75%       1047.193950     824.690500  ...     915.860500     1110.777000   \n",
       "max     603253.566300  482154.000000  ...  511729.000000   531864.000000   \n",
       "\n",
       "       Long-term debt_3        EBIT_3  Gross Profit_3  Current Liabilities _3  \\\n",
       "count       7310.000000   7310.000000     7310.000000             7310.000000   \n",
       "mean         890.510675    242.439578      754.204890              641.706017   \n",
       "std         4601.400627   1563.079443     4113.233588             3626.350048   \n",
       "min            0.000000  -8851.000000    -6887.000000                0.002000   \n",
       "25%            0.000000     -5.508250        5.879500                9.264250   \n",
       "50%            6.113000      1.833000       53.429500               43.320000   \n",
       "75%          245.555750     68.466750      329.804500              223.269250   \n",
       "max       166250.000000  70662.000000   137106.000000           116866.000000   \n",
       "\n",
       "       Retained Earnings_3  Total Revenue_3  Total Liabilities_3  \\\n",
       "count          7310.000000      7310.000000          7310.000000   \n",
       "mean            457.333572      2213.199690          1944.662389   \n",
       "std            6867.785982     12094.178066         10082.903688   \n",
       "min          -69645.000000     -1181.604000             0.002000   \n",
       "25%            -141.380000        21.824250            14.102500   \n",
       "50%             -20.956000       152.442500            78.489000   \n",
       "75%              83.146500       915.860500           613.018750   \n",
       "max          402089.000000    511729.000000        337980.000000   \n",
       "\n",
       "       Operating Expenses_3  \n",
       "count           7310.000000  \n",
       "mean            1844.248983  \n",
       "std            10552.574745  \n",
       "min                0.018000  \n",
       "25%               28.733750  \n",
       "50%              146.946500  \n",
       "75%              780.146500  \n",
       "max           481580.000000  \n",
       "\n",
       "[8 rows x 55 columns]"
      ]
     },
     "execution_count": 7,
     "metadata": {},
     "output_type": "execute_result"
    }
   ],
   "source": [
    "df.describe()"
   ]
  },
  {
   "cell_type": "code",
   "execution_count": 38,
   "metadata": {
    "ExecuteTime": {
     "end_time": "2023-11-13T11:36:21.627649Z",
     "start_time": "2023-11-13T11:36:21.166124Z"
    },
    "pycharm": {
     "name": "#%%\n"
    }
   },
   "outputs": [
    {
     "data": {
      "text/plain": [
       "0.9201094391244871"
      ]
     },
     "execution_count": 38,
     "metadata": {},
     "output_type": "execute_result"
    }
   ],
   "source": [
    "# OBS: we are going to train a model with this data, just to check its performance without standarize the data.\n",
    "# - Apply Stratified K Fold to reduce the effect of the variability presented on the data on the final model.\n",
    "# - Using cross validation technique we train different models on each one of the 'folds' and check the main\n",
    "#   performance.\n",
    "\n",
    "cv = StratifiedKFold(\n",
    "    n_splits=10,\n",
    "    random_state=1,\n",
    "    shuffle=True\n",
    ")\n",
    "\n",
    "cv_scores = cross_val_score(\n",
    "    nb.KNeighborsClassifier(),\n",
    "    X=X_bank,\n",
    "    y=y_bank,\n",
    "    cv=cv,\n",
    "    scoring='accuracy',\n",
    ")\n",
    "np.mean(cv_scores)"
   ]
  },
  {
   "cell_type": "code",
   "execution_count": 39,
   "metadata": {
    "ExecuteTime": {
     "end_time": "2023-11-13T09:37:11.545967Z",
     "start_time": "2023-11-13T09:37:10.738485Z"
    },
    "pycharm": {
     "name": "#%%\n"
    }
   },
   "outputs": [
    {
     "name": "stdout",
     "output_type": "stream",
     "text": [
      "Best Params= {'n_neighbors': 9, 'weights': 'distance'} Accuracy= 0.9225718194254446\n"
     ]
    }
   ],
   "source": [
    "# OBS: we are going to use Grid Search (GS) in order to find the best hyperparameters for this model\n",
    "# For each one of the hyperparameters of the model we try the next possible values\n",
    "# GS will train a model for each one of the possible combinations (BE AWARE OF THE COMPUTATIONAL COST)\n",
    "params = {\n",
    "    \"n_neighbors\":list(range(1,20,2)),\n",
    "    \"weights\":('distance','uniform')\n",
    "}\n",
    "\n",
    "knc = nb.KNeighborsClassifier()\n",
    "cv = StratifiedKFold(\n",
    "    n_splits=10,\n",
    "    random_state=1,\n",
    "    shuffle=True\n",
    ")\n",
    "clf = GridSearchCV(\n",
    "    knc,  # The instance of the model\n",
    "    param_grid = params,  # The dictionary with pairs hyperparameter - possible values\n",
    "    cv = cv,  # If cv is integer, by default is Stratifyed\n",
    "    n_jobs=-1\n",
    ")\n",
    "clf.fit(X_bank, y_bank)\n",
    "print(\"Best Params=\",clf.best_params_, \"Accuracy=\", clf.best_score_)"
   ]
  },
  {
   "cell_type": "code",
   "execution_count": 40,
   "metadata": {
    "ExecuteTime": {
     "end_time": "2023-11-13T09:37:13.428554Z",
     "start_time": "2023-11-13T09:37:13.419267Z"
    },
    "pycharm": {
     "name": "#%%\n"
    }
   },
   "outputs": [
    {
     "name": "stdout",
     "output_type": "stream",
     "text": [
      "std: 5.959060051560879 min 1999 max 2016\n",
      "std: 4251.93561313563 min -1.124 max 139660.0\n",
      "std: 7762.420933995892 min 0.0 max 351176.0\n",
      "std: 687.052519882528 min 0.0 max 25847.0\n",
      "std: 1782.1210096243663 min -4118.0 max 69276.0\n",
      "std: 1008.9316602333463 min 0.0 max 43199.0\n",
      "std: 984.3875355526981 min -13082.0 max 45687.0\n",
      "std: 1376.9673596177142 min 0.0 max 57591.0\n",
      "std: 17928.299433893015 min 0.0007 max 603253.5663\n",
      "std: 10548.821698702373 min -244.189 max 482154.0\n",
      "std: 13408.414424719012 min 0.001 max 403821.0\n",
      "std: 3834.8494895830327 min 0.0 max 113681.0\n",
      "std: 1296.3003687007242 min -6133.0 max 59476.0\n"
     ]
    }
   ],
   "source": [
    "# Poor score. What could happen?\n",
    "# Remeber that all columns should be in the same range for KNN!!\n",
    "# Could be that each colum is in a different range?\n",
    "\n",
    "for i in range(13):\n",
    "    print('std:',X_bank[:,i].std(),'min',X_bank[:,i].min(),'max',X_bank[:,i].max())"
   ]
  },
  {
   "cell_type": "code",
   "execution_count": 41,
   "metadata": {
    "ExecuteTime": {
     "end_time": "2023-11-13T09:37:20.544318Z",
     "start_time": "2023-11-13T09:37:20.539052Z"
    },
    "pycharm": {
     "name": "#%%\n"
    }
   },
   "outputs": [
    {
     "name": "stdout",
     "output_type": "stream",
     "text": [
      "std: 1.0 min -1.849854258470049 max 1.0029446482209936\n",
      "std: 1.0 min -0.187960756477013 max 32.65852063626579\n",
      "std: 1.0 min -0.16595596411034352 max 45.07456925167746\n",
      "std: 1.0 min -0.1668152779131641 max 37.45330727752017\n",
      "std: 0.9999999999999999 min -2.4867133259364853 max 38.69679756004421\n",
      "std: 1.0 min -0.16629203291610575 max 42.65028485001056\n",
      "std: 1.0 min -13.390667942777302 max 46.31041306187325\n",
      "std: 1.0 min -0.18190356952841408 max 41.642617249896816\n",
      "std: 1.0 min -0.17277038527274294 max 33.47534932760775\n",
      "std: 0.9999999999999999 min -0.20793151348417668 max 45.52212277867816\n",
      "std: 1.0 min -0.20062090324690052 max 29.916362821207372\n",
      "std: 1.0 min -0.20784699096747467 max 29.43634121219501\n",
      "std: 1.0000000000000002 min -4.884680556224554 max 45.727817583970804\n"
     ]
    }
   ],
   "source": [
    "# One way is to standarize all data mean 0, std 1\n",
    "scaler = StandardScaler().fit(X_bank)\n",
    "X2=scaler.transform(X_bank)\n",
    "\n",
    "for i in range(13):\n",
    "    print('std:',X2[:,i].std(),'min',X2[:,i].min(),'max',X2[:,i].max())"
   ]
  },
  {
   "cell_type": "code",
   "execution_count": 19,
   "metadata": {},
   "outputs": [],
   "source": [
    "# EX: try to repeat the process for training a new model but now with the new standarized dataset and check\n",
    "# the performance."
   ]
  },
  {
   "cell_type": "markdown",
   "metadata": {
    "pycharm": {
     "name": "#%% md\n"
    }
   },
   "source": [
    "# FEATURE SELECTION: Effect of irrelevant columns"
   ]
  },
  {
   "cell_type": "code",
   "execution_count": 34,
   "metadata": {
    "ExecuteTime": {
     "end_time": "2023-11-13T09:39:00.495190Z",
     "start_time": "2023-11-13T09:38:59.895561Z"
    },
    "pycharm": {
     "name": "#%%\n"
    }
   },
   "outputs": [
    {
     "name": "stderr",
     "output_type": "stream",
     "text": [
      "/var/folders/9y/h_htr0yd59j121xzw7vclx6h0000gn/T/ipykernel_65694/2171491062.py:7: MatplotlibDeprecationWarning: Auto-removal of overlapping axes is deprecated since 3.6 and will be removed two minor releases later; explicitly call ax.remove() as needed.\n",
      "  plt.subplot(5,4,i)\n"
     ]
    },
    {
     "data": {
      "image/png": "[encoded data removed]",
      "text/plain": [
       "<Figure size 1000x1000 with 13 Axes>"
      ]
     },
     "metadata": {},
     "output_type": "display_data"
    }
   ],
   "source": [
    "# Could you say wich features are more important (contain more information about the target variable's value)\n",
    "# attending only to their distributions?\n",
    "\n",
    "plt.subplots(figsize=(10, 10))\n",
    "plt.subplots_adjust(hspace=0.27,wspace=0.5)\n",
    "for i in range(1,14):\n",
    "    plt.subplot(5,4,i)\n",
    "    df[y_wine==1][i].plot.hist(bins=10)\n",
    "    df[y_wine==2][i].plot.hist(bins=10)\n",
    "    df[y_wine==3][i].plot.hist(bins=10)\n",
    "plt.show()"
   ]
  },
  {
   "cell_type": "code",
   "execution_count": 42,
   "metadata": {
    "ExecuteTime": {
     "end_time": "2023-11-13T09:41:44.596780Z",
     "start_time": "2023-11-13T09:41:44.592081Z"
    },
    "pycharm": {
     "name": "#%%\n"
    }
   },
   "outputs": [
    {
     "name": "stdout",
     "output_type": "stream",
     "text": [
      "std: 0.9999999999999972 min -1.7304814518229623 max 1.7156689708992523\n",
      "std: 0.9999999999999983 min -1.7399222082048267 max 1.7297735509724748\n",
      "std: 1.0000000000000009 min -1.7439872312595792 max 1.7264032042160395\n",
      "std: 1.0000000000000007 min -1.7238731391839723 max 1.7380086760143347\n",
      "std: 0.9999999999999982 min -1.7093599536784203 max 1.7176620650794159\n",
      "std: 1.0000000000000002 min -1.7242149544130112 max 1.7544142070510225\n",
      "std: 1.0000000000000018 min -1.7580396918624797 max 1.7296254818678296\n",
      "std: 1.0000000000000002 min -1.7234596996725096 max 1.7244642859840722\n",
      "std: 0.999999999999999 min -1.747396695934191 max 1.756379338409707\n",
      "std: 1.0 min -1.741774260496603 max 1.7359164739152368\n",
      "std: 1.000000000000001 min -1.7285010309446982 max 1.7550234345207931\n",
      "std: 0.9999999999999999 min -1.7355849299973487 max 1.7559330420579407\n",
      "std: 0.9999999999999981 min -1.7283202423661022 max 1.7238511427139096\n",
      "std: 0.9999999999999991 min -1.7265344656800736 max 1.730055517918403\n",
      "std: 1.0 min -1.751076774321739 max 1.7115781059201753\n",
      "std: 1.0000000000000007 min -1.7217894201771284 max 1.7580625407486743\n",
      "std: 1.0000000000000002 min -1.7089786472944044 max 1.7303909490771223\n",
      "std: 0.9999999999999998 min -1.7368707443883782 max 1.7220944988801643\n",
      "std: 0.9999999999999994 min -1.704348767931047 max 1.7136536832736802\n",
      "std: 1.0000000000000007 min -1.7342303048032777 max 1.720244438468962\n",
      "std: 1.0000000000000007 min -1.7142076067250949 max 1.759025477479699\n",
      "std: 0.9999999999999997 min -1.7427557789060548 max 1.7274517897146509\n",
      "std: 1.0000000000000013 min -1.7118140930552703 max 1.7351042046272551\n",
      "std: 0.999999999999999 min -1.7309962204939364 max 1.7547335227723637\n",
      "std: 1.0000000000000007 min -1.7500204336686132 max 1.7383053820413135\n",
      "std: 0.9999999999999997 min -1.716050970141221 max 1.7474860053044161\n",
      "std: 0.999999999999998 min -1.7692384078783785 max 1.7141689556104036\n",
      "std: 0.999999999999999 min -1.7452026636664586 max 1.7219944690751068\n",
      "std: 1.0000000000000009 min -1.7427966480131318 max 1.7350287641438327\n",
      "std: 1.0000000000000009 min -1.7423886947026987 max 1.7427814996915436\n",
      "std: 0.9999999999999991 min -1.7368506097993888 max 1.737613507502542\n",
      "std: 1.0000000000000009 min -1.741164410070117 max 1.7179689320419627\n",
      "std: 0.9999999999999984 min -1.7268405047496276 max 1.7349513898796636\n",
      "std: 1.0 min -1.7394516797582316 max 1.7148641088684555\n",
      "std: 0.9999999999999994 min -1.723748711272883 max 1.7246470949007948\n",
      "std: 0.9999999999999984 min -1.7494628870217588 max 1.7297250387911214\n",
      "std: 1.0000000000000007 min -1.712437764541268 max 1.741890895151584\n",
      "std: 1.0000000000000013 min -1.7244812891237833 max 1.7312044141357827\n",
      "std: 1.0000000000000007 min -1.7331909764128208 max 1.7155591618989956\n",
      "std: 0.999999999999999 min -1.7364397267748595 max 1.7338811189615342\n",
      "std: 0.9999999999999999 min -1.726953728097169 max 1.7401646588600475\n",
      "std: 0.9999999999999989 min -1.7323800324926797 max 1.7578587225637403\n",
      "std: 0.9999999999999998 min -1.7498649873038299 max 1.7148940379995832\n",
      "std: 1.000000000000002 min -1.73053244853307 max 1.7340400275685943\n",
      "std: 1.0000000000000013 min -1.7328245463317644 max 1.7254963895710878\n",
      "std: 0.999999999999999 min -1.7171406567943892 max 1.7535295047516521\n",
      "std: 1.0000000000000009 min -1.727032703405343 max 1.741621204780278\n",
      "std: 1.0000000000000009 min -1.7258360606993695 max 1.7154604480223634\n",
      "std: 1.0000000000000002 min -1.7339174563319002 max 1.7323453352006755\n",
      "std: 1.0 min -1.7363694400013452 max 1.722135244414852\n",
      "std: 1.0 min -1.7134096058312633 max 1.7274761512697967\n",
      "std: 1.0000000000000009 min -1.728939122705591 max 1.7427710305355688\n",
      "std: 0.9999999999999984 min -1.7564571924068768 max 1.7454308141511512\n",
      "std: 0.9999999999999986 min -1.7433432297256204 max 1.7265300262416843\n",
      "std: 0.9999999999999988 min -1.7157760070146335 max 1.7363680686784781\n"
     ]
    }
   ],
   "source": [
    "nrcols=55\n",
    "col = np.random.random(size=(X2.shape[0],nrcols))\n",
    "scaler = StandardScaler().fit(col)\n",
    "irelevant = scaler.transform(col)\n",
    "for i in range(nrcols):\n",
    "    print('std:',irelevant[:,i].std(),'min',irelevant[:,i].min(),'max',irelevant[:,i].max())"
   ]
  },
  {
   "cell_type": "code",
   "execution_count": 43,
   "metadata": {
    "ExecuteTime": {
     "end_time": "2023-11-13T09:41:52.759150Z",
     "start_time": "2023-11-13T09:41:52.638270Z"
    },
    "pycharm": {
     "name": "#%%\n"
    }
   },
   "outputs": [
    {
     "name": "stdout",
     "output_type": "stream",
     "text": [
      "0.9205198358413134\n"
     ]
    }
   ],
   "source": [
    "X2_new = np.hstack((X2,irelevant))\n",
    "cv = StratifiedKFold(\n",
    "    n_splits = 10,\n",
    "    random_state = 1,\n",
    "    shuffle = True\n",
    ")\n",
    "cv_scores = cross_val_score(\n",
    "    nb.KNeighborsClassifier(n_neighbors = 9),\n",
    "    X = X2_new,\n",
    "    y = y_bank,\n",
    "    cv = cv,\n",
    "    scoring = \"accuracy\"  # the metric we use for evaluate the performance\n",
    ")\n",
    "print(np.mean(cv_scores))"
   ]
  },
  {
   "cell_type": "code",
   "execution_count": 44,
   "metadata": {
    "ExecuteTime": {
     "end_time": "2023-11-13T09:41:54.926077Z",
     "start_time": "2023-11-13T09:41:54.855104Z"
    },
    "pycharm": {
     "name": "#%%\n"
    }
   },
   "outputs": [
    {
     "name": "stdout",
     "output_type": "stream",
     "text": [
      "Best Params = {'n_neighbors': 11, 'weights': 'distance'} - Accuracy = 0.9210670314637485\n"
     ]
    }
   ],
   "source": [
    "knc = nb.KNeighborsClassifier()\n",
    "cv = StratifiedKFold(\n",
    "    n_splits = 10,\n",
    "    random_state = 1,\n",
    "    shuffle = True\n",
    ")\n",
    "clf = GridSearchCV(\n",
    "    knc,\n",
    "    param_grid = params,\n",
    "    cv = cv,\n",
    "    n_jobs = -1\n",
    ")\n",
    "clf.fit(X2_new, y_bank)\n",
    "print(f\"Best Params = {clf.best_params_} - Accuracy = {clf.best_score_}\")"
   ]
  },
  {
   "cell_type": "markdown",
   "metadata": {
    "pycharm": {
     "name": "#%% md\n"
    }
   },
   "source": [
    "# Feature Selection: Ranking\n",
    "\n",
    "Lets pressent a technique for measuring the relevance of each one of the features in order to create the classifier."
   ]
  },
  {
   "cell_type": "code",
   "execution_count": 45,
   "metadata": {
    "ExecuteTime": {
     "end_time": "2023-11-13T09:43:53.978628Z",
     "start_time": "2023-11-13T09:43:53.827156Z"
    },
    "pycharm": {
     "name": "#%%\n"
    }
   },
   "outputs": [
    {
     "name": "stdout",
     "output_type": "stream",
     "text": [
      "Best Params= {'n_neighbors': 17, 'weights': 'uniform'} Accuracy= 0.9214774281805745\n"
     ]
    }
   ],
   "source": [
    "# Select k best features following a given measure. Fit that on whole data set and return only relevant columns\n",
    "X_reduced = SelectKBest(mutual_info_classif, k=2).fit_transform(X2_new, y_bank)\n",
    "\n",
    "# Let's do now the 10-fold cross-validation again\n",
    "cv = StratifiedKFold(\n",
    "    n_splits=10,\n",
    "    random_state=1,\n",
    "    shuffle=True\n",
    ")\n",
    "clf = GridSearchCV(knc, param_grid=params,cv=cv,n_jobs=-1,)  # If cv is integer, by default is Stratifyed\n",
    "clf.fit(X_reduced, y_bank)\n",
    "print(\"Best Params=\",clf.best_params_, \"Accuracy=\", clf.best_score_)"
   ]
  },
  {
   "cell_type": "code",
   "execution_count": 46,
   "metadata": {
    "ExecuteTime": {
     "end_time": "2023-11-13T09:43:58.211496Z",
     "start_time": "2023-11-13T09:43:57.868448Z"
    },
    "pycharm": {
     "name": "#%%\n"
    }
   },
   "outputs": [
    {
     "name": "stdout",
     "output_type": "stream",
     "text": [
      "Best Params= {'n_neighbors': 13, 'weights': 'distance'} Accuracy= 0.9242134062927496\n"
     ]
    }
   ],
   "source": [
    "# Select k best features following a given measure. Fit that on whole data set and return only relevant columns\n",
    "X_reduced = SelectKBest(mutual_info_classif, k=13).fit_transform(X2_new, y_bank)\n",
    "\n",
    "# Let's do now the 10-fold cross-validation again\n",
    "cv = StratifiedKFold(\n",
    "    n_splits=10,\n",
    "    random_state=1,\n",
    "    shuffle=True\n",
    ")\n",
    "clf = GridSearchCV(knc, param_grid=params,cv=cv,n_jobs=-1)  # If cv is integer, by default is Stratifyed\n",
    "clf.fit(X_reduced, y_bank)\n",
    "print(\"Best Params=\",clf.best_params_, \"Accuracy=\", clf.best_score_)"
   ]
  },
  {
   "cell_type": "code",
   "execution_count": 47,
   "metadata": {
    "ExecuteTime": {
     "end_time": "2023-11-13T09:45:01.409538Z",
     "start_time": "2023-11-13T09:45:01.399727Z"
    },
    "pycharm": {
     "name": "#%%\n"
    }
   },
   "outputs": [
    {
     "data": {
      "text/plain": [
       "(178, 33)"
      ]
     },
     "execution_count": 47,
     "metadata": {},
     "output_type": "execute_result"
    }
   ],
   "source": [
    "X2_new.shape"
   ]
  },
  {
   "cell_type": "code",
   "execution_count": 51,
   "metadata": {
    "ExecuteTime": {
     "end_time": "2023-11-13T09:44:01.717576Z",
     "start_time": "2023-11-13T09:44:00.227530Z"
    },
    "pycharm": {
     "name": "#%%\n"
    }
   },
   "outputs": [
    {
     "name": "stdout",
     "output_type": "stream",
     "text": [
      "55\n",
      "['Net income_3']\n",
      "['Year_1', 'Net income_3']\n",
      "['Year_1', 'Net income_2', 'Net income_3']\n",
      "['Year_1', 'Net income_2', 'Net income_3', 'Market value_3']\n",
      "['Year_1', 'Net income_2', 'Net income_3', 'Market value_3', 'Retained Earnings_3']\n",
      "['Year_1', 'Net income_2', 'Net income_3', 'Market value_3', 'EBIT_3', 'Retained Earnings_3']\n",
      "['Year_1', 'Net income_1', 'Net income_2', 'Net income_3', 'Market value_3', 'EBIT_3', 'Retained Earnings_3']\n",
      "['Year_1', 'Net income_1', 'Market value_1', 'Net income_2', 'Net income_3', 'Market value_3', 'EBIT_3', 'Retained Earnings_3']\n",
      "['Year_1', 'Net income_1', 'Market value_1', 'Net income_2', 'Retained Earnings_2', 'Net income_3', 'Market value_3', 'EBIT_3', 'Retained Earnings_3']\n",
      "['Year_1', 'Net income_1', 'Market value_1', 'Net income_2', 'Retained Earnings_2', 'Net income_3', 'Market value_3', 'EBIT_3', 'Gross Profit_3', 'Retained Earnings_3']\n",
      "['Year_1', 'Net income_1', 'Market value_1', 'Net income_2', 'Retained Earnings_2', 'EBITDA_3', 'Net income_3', 'Market value_3', 'EBIT_3', 'Gross Profit_3', 'Retained Earnings_3']\n",
      "['Year_1', 'Cost goods sold_1', 'Net income_1', 'Market value_1', 'Net income_2', 'Retained Earnings_2', 'EBITDA_3', 'Net income_3', 'Market value_3', 'EBIT_3', 'Gross Profit_3', 'Retained Earnings_3']\n",
      "['Year_1', 'Cost goods sold_1', 'Net income_1', 'Market value_1', 'Net income_2', 'Market value_2', 'Retained Earnings_2', 'EBITDA_3', 'Net income_3', 'Market value_3', 'EBIT_3', 'Gross Profit_3', 'Retained Earnings_3']\n",
      "['Year_1', 'Cost goods sold_1', 'Net income_1', 'Market value_1', 'Gross Profit_1', 'Net income_2', 'Market value_2', 'Retained Earnings_2', 'EBITDA_3', 'Net income_3', 'Market value_3', 'EBIT_3', 'Gross Profit_3', 'Retained Earnings_3']\n",
      "['Year_1', 'Cost goods sold_1', 'Net income_1', 'Total Receivables_1', 'Market value_1', 'Net income_2', 'Market value_2', 'Retained Earnings_2', 'EBITDA_3', 'Net income_3', 'Market value_3', 'Long-term debt_3', 'EBIT_3', 'Gross Profit_3', 'Retained Earnings_3']\n",
      "['Year_1', 'Cost goods sold_1', 'Net income_1', 'Total Receivables_1', 'Market value_1', 'Gross Profit_1', 'Net income_2', 'Market value_2', 'Long-term debt_2', 'Retained Earnings_2', 'EBITDA_3', 'Net income_3', 'Market value_3', 'EBIT_3', 'Gross Profit_3', 'Retained Earnings_3']\n",
      "['Year_1', 'Cost goods sold_1', 'Net income_1', 'Total Receivables_1', 'Market value_1', 'Gross Profit_1', 'EBITDA_2', 'Net income_2', 'Market value_2', 'Long-term debt_2', 'Retained Earnings_2', 'EBITDA_3', 'Net income_3', 'Market value_3', 'EBIT_3', 'Gross Profit_3', 'Retained Earnings_3']\n",
      "['Year_1', 'Cost goods sold_1', 'Net income_1', 'Total Receivables_1', 'Market value_1', 'EBIT_1', 'Gross Profit_1', 'Net income_2', 'Market value_2', 'Retained Earnings_2', 'Total Revenue_2', 'EBITDA_3', 'Net income_3', 'Market value_3', 'Long-term debt_3', 'EBIT_3', 'Gross Profit_3', 'Retained Earnings_3']\n",
      "['Year_1', 'Cost goods sold_1', 'Net income_1', 'Total Receivables_1', 'Market value_1', 'EBIT_1', 'Gross Profit_1', 'EBITDA_2', 'Net income_2', 'Market value_2', 'EBIT_2', 'Retained Earnings_2', 'Total Revenue_2', 'EBITDA_3', 'Net income_3', 'Market value_3', 'EBIT_3', 'Gross Profit_3', 'Retained Earnings_3']\n",
      "['Year_1', 'Cost goods sold_1', 'Net income_1', 'Total Receivables_1', 'Market value_1', 'EBIT_1', 'Gross Profit_1', 'Net income_2', 'Market value_2', 'Net sales_2', 'Long-term debt_2', 'EBIT_2', 'Retained Earnings_2', 'Total Revenue_2', 'EBITDA_3', 'Net income_3', 'Market value_3', 'EBIT_3', 'Gross Profit_3', 'Retained Earnings_3']\n",
      "['Year_1', 'Cost goods sold_1', 'Net income_1', 'Total Receivables_1', 'Market value_1', 'Gross Profit_1', 'EBITDA_2', 'Net income_2', 'Market value_2', 'Net sales_2', 'Long-term debt_2', 'EBIT_2', 'Retained Earnings_2', 'Total Revenue_2', 'EBITDA_3', 'Inventory_3', 'Net income_3', 'Market value_3', 'EBIT_3', 'Gross Profit_3', 'Retained Earnings_3']\n",
      "['Year_1', 'Cost goods sold_1', 'Net income_1', 'Total Receivables_1', 'Market value_1', 'EBIT_1', 'Gross Profit_1', 'EBITDA_2', 'Net income_2', 'Market value_2', 'Net sales_2', 'Long-term debt_2', 'Retained Earnings_2', 'Total Revenue_2', 'Current assets_3', 'EBITDA_3', 'Net income_3', 'Market value_3', 'Long-term debt_3', 'EBIT_3', 'Gross Profit_3', 'Retained Earnings_3']\n",
      "['Year_1', 'Cost goods sold_1', 'Net income_1', 'Total Receivables_1', 'Market value_1', 'EBIT_1', 'Gross Profit_1', 'EBITDA_2', 'Net income_2', 'Market value_2', 'Net sales_2', 'Long-term debt_2', 'EBIT_2', 'Retained Earnings_2', 'Total Revenue_2', 'Current assets_3', 'EBITDA_3', 'Net income_3', 'Market value_3', 'EBIT_3', 'Gross Profit_3', 'Retained Earnings_3', 'Operating Expenses_3']\n",
      "['Year_1', 'Cost goods sold_1', 'Net income_1', 'Total Receivables_1', 'Market value_1', 'EBIT_1', 'Gross Profit_1', 'EBITDA_2', 'Net income_2', 'Market value_2', 'Net sales_2', 'Long-term debt_2', 'EBIT_2', 'Retained Earnings_2', 'Total Revenue_2', 'Current assets_3', 'EBITDA_3', 'Net income_3', 'Market value_3', 'Long-term debt_3', 'EBIT_3', 'Gross Profit_3', 'Retained Earnings_3', 'Operating Expenses_3']\n",
      "['Year_1', 'Cost goods sold_1', 'Net income_1', 'Total Receivables_1', 'Market value_1', 'EBIT_1', 'Gross Profit_1', 'EBITDA_2', 'Net income_2', 'Market value_2', 'Net sales_2', 'Long-term debt_2', 'EBIT_2', 'Retained Earnings_2', 'Total Revenue_2', 'Current assets_3', 'EBITDA_3', 'Inventory_3', 'Net income_3', 'Market value_3', 'Long-term debt_3', 'EBIT_3', 'Gross Profit_3', 'Retained Earnings_3', 'Operating Expenses_3']\n",
      "['Year_1', 'Cost goods sold_1', 'Net income_1', 'Total Receivables_1', 'Market value_1', 'Net sales_1', 'EBIT_1', 'Gross Profit_1', 'Retained Earnings_1', 'EBITDA_2', 'Net income_2', 'Market value_2', 'Net sales_2', 'Long-term debt_2', 'EBIT_2', 'Retained Earnings_2', 'Total Revenue_2', 'Current assets_3', 'EBITDA_3', 'Net income_3', 'Market value_3', 'Long-term debt_3', 'EBIT_3', 'Gross Profit_3', 'Retained Earnings_3', 'Operating Expenses_3']\n",
      "['Year_1', 'Cost goods sold_1', 'Net income_1', 'Total Receivables_1', 'Market value_1', 'Net sales_1', 'EBIT_1', 'Gross Profit_1', 'Total Revenue_1', 'EBITDA_2', 'Net income_2', 'Market value_2', 'Net sales_2', 'Long-term debt_2', 'EBIT_2', 'Retained Earnings_2', 'Total Revenue_2', 'Operating Expenses_2', 'Current assets_3', 'EBITDA_3', 'Net income_3', 'Market value_3', 'Long-term debt_3', 'EBIT_3', 'Gross Profit_3', 'Retained Earnings_3', 'Operating Expenses_3']\n",
      "['Year_1', 'Cost goods sold_1', 'Net income_1', 'Total Receivables_1', 'Market value_1', 'Net sales_1', 'EBIT_1', 'Gross Profit_1', 'Retained Earnings_1', 'Total Revenue_1', 'EBITDA_2', 'Net income_2', 'Market value_2', 'Net sales_2', 'Long-term debt_2', 'EBIT_2', 'Retained Earnings_2', 'Total Revenue_2', 'Operating Expenses_2', 'Current assets_3', 'EBITDA_3', 'Net income_3', 'Market value_3', 'Long-term debt_3', 'EBIT_3', 'Gross Profit_3', 'Retained Earnings_3', 'Operating Expenses_3']\n",
      "['Year_1', 'Cost goods sold_1', 'Net income_1', 'Total Receivables_1', 'Market value_1', 'Net sales_1', 'EBIT_1', 'Gross Profit_1', 'Retained Earnings_1', 'Total Revenue_1', 'Operating Expenses_1', 'EBITDA_2', 'Net income_2', 'Market value_2', 'Net sales_2', 'Long-term debt_2', 'EBIT_2', 'Retained Earnings_2', 'Total Revenue_2', 'Operating Expenses_2', 'Current assets_3', 'EBITDA_3', 'Net income_3', 'Market value_3', 'Long-term debt_3', 'EBIT_3', 'Gross Profit_3', 'Retained Earnings_3', 'Operating Expenses_3']\n",
      "['Year_1', 'Cost goods sold_1', 'Net income_1', 'Total Receivables_1', 'Market value_1', 'Net sales_1', 'EBIT_1', 'Gross Profit_1', 'Retained Earnings_1', 'Total Revenue_1', 'Operating Expenses_1', 'EBITDA_2', 'Net income_2', 'Market value_2', 'Net sales_2', 'Total assets_2', 'Long-term debt_2', 'EBIT_2', 'Retained Earnings_2', 'Total Revenue_2', 'Operating Expenses_2', 'Current assets_3', 'EBITDA_3', 'Net income_3', 'Market value_3', 'Long-term debt_3', 'EBIT_3', 'Gross Profit_3', 'Retained Earnings_3', 'Operating Expenses_3']\n",
      "['Year_1', 'Cost goods sold_1', 'Net income_1', 'Total Receivables_1', 'Market value_1', 'Net sales_1', 'EBIT_1', 'Gross Profit_1', 'Retained Earnings_1', 'Total Revenue_1', 'Operating Expenses_1', 'EBITDA_2', 'Net income_2', 'Market value_2', 'Net sales_2', 'Long-term debt_2', 'EBIT_2', 'Retained Earnings_2', 'Total Revenue_2', 'Operating Expenses_2', 'Current assets_3', 'EBITDA_3', 'Inventory_3', 'Net income_3', 'Total Receivables_3', 'Market value_3', 'Long-term debt_3', 'EBIT_3', 'Gross Profit_3', 'Retained Earnings_3', 'Operating Expenses_3']\n",
      "['Year_1', 'Cost goods sold_1', 'Net income_1', 'Total Receivables_1', 'Market value_1', 'Net sales_1', 'EBIT_1', 'Gross Profit_1', 'Retained Earnings_1', 'Total Revenue_1', 'Operating Expenses_1', 'EBITDA_2', 'Inventory_2', 'Net income_2', 'Market value_2', 'Net sales_2', 'Total assets_2', 'Long-term debt_2', 'EBIT_2', 'Retained Earnings_2', 'Total Revenue_2', 'Operating Expenses_2', 'Current assets_3', 'EBITDA_3', 'Net income_3', 'Market value_3', 'Long-term debt_3', 'EBIT_3', 'Gross Profit_3', 'Current Liabilities _3', 'Retained Earnings_3', 'Operating Expenses_3']\n",
      "['Year_1', 'Cost goods sold_1', 'DEP and AMO_1', 'Net income_1', 'Total Receivables_1', 'Market value_1', 'Net sales_1', 'EBIT_1', 'Gross Profit_1', 'Retained Earnings_1', 'Total Revenue_1', 'Operating Expenses_1', 'EBITDA_2', 'Net income_2', 'Market value_2', 'Net sales_2', 'Total assets_2', 'Long-term debt_2', 'EBIT_2', 'Retained Earnings_2', 'Total Revenue_2', 'Operating Expenses_2', 'Current assets_3', 'EBITDA_3', 'Net income_3', 'Total Receivables_3', 'Market value_3', 'Long-term debt_3', 'EBIT_3', 'Gross Profit_3', 'Current Liabilities _3', 'Retained Earnings_3', 'Operating Expenses_3']\n",
      "['Year_1', 'Cost goods sold_1', 'DEP and AMO_1', 'Net income_1', 'Total Receivables_1', 'Market value_1', 'Net sales_1', 'EBIT_1', 'Gross Profit_1', 'Retained Earnings_1', 'Total Revenue_1', 'Operating Expenses_1', 'EBITDA_2', 'Inventory_2', 'Net income_2', 'Market value_2', 'Net sales_2', 'Total assets_2', 'Long-term debt_2', 'EBIT_2', 'Retained Earnings_2', 'Total Revenue_2', 'Operating Expenses_2', 'Current assets_3', 'EBITDA_3', 'Inventory_3', 'Net income_3', 'Market value_3', 'Long-term debt_3', 'EBIT_3', 'Gross Profit_3', 'Current Liabilities _3', 'Retained Earnings_3', 'Operating Expenses_3']\n",
      "['Year_1', 'Current assets_1', 'Cost goods sold_1', 'Net income_1', 'Total Receivables_1', 'Market value_1', 'Net sales_1', 'EBIT_1', 'Gross Profit_1', 'Retained Earnings_1', 'Total Revenue_1', 'Operating Expenses_1', 'EBITDA_2', 'Inventory_2', 'Net income_2', 'Market value_2', 'Net sales_2', 'Total assets_2', 'Long-term debt_2', 'EBIT_2', 'Retained Earnings_2', 'Total Revenue_2', 'Operating Expenses_2', 'Current assets_3', 'EBITDA_3', 'Inventory_3', 'Net income_3', 'Total Receivables_3', 'Market value_3', 'Long-term debt_3', 'EBIT_3', 'Gross Profit_3', 'Current Liabilities _3', 'Retained Earnings_3', 'Operating Expenses_3']\n",
      "['Year_1', 'Current assets_1', 'Cost goods sold_1', 'Net income_1', 'Total Receivables_1', 'Market value_1', 'Net sales_1', 'Long-term debt_1', 'EBIT_1', 'Gross Profit_1', 'Retained Earnings_1', 'Total Revenue_1', 'Operating Expenses_1', 'EBITDA_2', 'Inventory_2', 'Net income_2', 'Market value_2', 'Net sales_2', 'Total assets_2', 'Long-term debt_2', 'EBIT_2', 'Retained Earnings_2', 'Total Revenue_2', 'Operating Expenses_2', 'Current assets_3', 'EBITDA_3', 'Inventory_3', 'Net income_3', 'Total Receivables_3', 'Market value_3', 'Long-term debt_3', 'EBIT_3', 'Gross Profit_3', 'Current Liabilities _3', 'Retained Earnings_3', 'Operating Expenses_3']\n",
      "['Year_1', 'Current assets_1', 'Cost goods sold_1', 'DEP and AMO_1', 'Net income_1', 'Total Receivables_1', 'Market value_1', 'Net sales_1', 'EBIT_1', 'Gross Profit_1', 'Retained Earnings_1', 'Total Revenue_1', 'Operating Expenses_1', 'EBITDA_2', 'Inventory_2', 'Net income_2', 'Market value_2', 'Net sales_2', 'Total assets_2', 'Long-term debt_2', 'EBIT_2', 'Gross Profit_2', 'Retained Earnings_2', 'Total Revenue_2', 'Operating Expenses_2', 'Current assets_3', 'EBITDA_3', 'Inventory_3', 'Net income_3', 'Total Receivables_3', 'Market value_3', 'Long-term debt_3', 'EBIT_3', 'Gross Profit_3', 'Current Liabilities _3', 'Retained Earnings_3', 'Operating Expenses_3']\n",
      "['Year_1', 'Current assets_1', 'Cost goods sold_1', 'DEP and AMO_1', 'Inventory_1', 'Net income_1', 'Total Receivables_1', 'Market value_1', 'Net sales_1', 'EBIT_1', 'Gross Profit_1', 'Retained Earnings_1', 'Total Revenue_1', 'Operating Expenses_1', 'Current assets_2', 'EBITDA_2', 'Net income_2', 'Market value_2', 'Net sales_2', 'Total assets_2', 'Long-term debt_2', 'EBIT_2', 'Gross Profit_2', 'Retained Earnings_2', 'Total Revenue_2', 'Operating Expenses_2', 'Current assets_3', 'EBITDA_3', 'Inventory_3', 'Net income_3', 'Total Receivables_3', 'Market value_3', 'Long-term debt_3', 'EBIT_3', 'Gross Profit_3', 'Current Liabilities _3', 'Retained Earnings_3', 'Operating Expenses_3']\n",
      "['Year_1', 'Current assets_1', 'Cost goods sold_1', 'Inventory_1', 'Net income_1', 'Total Receivables_1', 'Market value_1', 'Net sales_1', 'EBIT_1', 'Gross Profit_1', 'Retained Earnings_1', 'Total Revenue_1', 'Operating Expenses_1', 'Current assets_2', 'EBITDA_2', 'Inventory_2', 'Net income_2', 'Market value_2', 'Net sales_2', 'Total assets_2', 'Long-term debt_2', 'EBIT_2', 'Gross Profit_2', 'Retained Earnings_2', 'Total Revenue_2', 'Operating Expenses_2', 'Current assets_3', 'DEP and AMO_3', 'EBITDA_3', 'Inventory_3', 'Net income_3', 'Total Receivables_3', 'Market value_3', 'Long-term debt_3', 'EBIT_3', 'Gross Profit_3', 'Current Liabilities _3', 'Retained Earnings_3', 'Operating Expenses_3']\n",
      "['Year_1', 'Current assets_1', 'Cost goods sold_1', 'DEP and AMO_1', 'Net income_1', 'Total Receivables_1', 'Market value_1', 'Net sales_1', 'EBIT_1', 'Gross Profit_1', 'Retained Earnings_1', 'Total Revenue_1', 'Operating Expenses_1', 'Current assets_2', 'EBITDA_2', 'Inventory_2', 'Net income_2', 'Market value_2', 'Net sales_2', 'Total assets_2', 'Long-term debt_2', 'EBIT_2', 'Gross Profit_2', 'Retained Earnings_2', 'Total Revenue_2', 'Total Liabilities_2', 'Operating Expenses_2', 'Current assets_3', 'DEP and AMO_3', 'EBITDA_3', 'Inventory_3', 'Net income_3', 'Total Receivables_3', 'Market value_3', 'Long-term debt_3', 'EBIT_3', 'Gross Profit_3', 'Current Liabilities _3', 'Retained Earnings_3', 'Operating Expenses_3']\n",
      "['Year_1', 'Current assets_1', 'Cost goods sold_1', 'Inventory_1', 'Net income_1', 'Total Receivables_1', 'Market value_1', 'Net sales_1', 'EBIT_1', 'Gross Profit_1', 'Retained Earnings_1', 'Total Revenue_1', 'Operating Expenses_1', 'Current assets_2', 'EBITDA_2', 'Inventory_2', 'Net income_2', 'Market value_2', 'Net sales_2', 'Total assets_2', 'Long-term debt_2', 'EBIT_2', 'Gross Profit_2', 'Retained Earnings_2', 'Total Revenue_2', 'Total Liabilities_2', 'Operating Expenses_2', 'Current assets_3', 'EBITDA_3', 'Inventory_3', 'Net income_3', 'Total Receivables_3', 'Market value_3', 'Net sales_3', 'Long-term debt_3', 'EBIT_3', 'Gross Profit_3', 'Current Liabilities _3', 'Retained Earnings_3', 'Total Revenue_3', 'Operating Expenses_3']\n",
      "['Year_1', 'Current assets_1', 'Cost goods sold_1', 'DEP and AMO_1', 'Inventory_1', 'Net income_1', 'Total Receivables_1', 'Market value_1', 'Net sales_1', 'Long-term debt_1', 'EBIT_1', 'Gross Profit_1', 'Retained Earnings_1', 'Total Revenue_1', 'Operating Expenses_1', 'Current assets_2', 'EBITDA_2', 'Inventory_2', 'Net income_2', 'Market value_2', 'Net sales_2', 'Total assets_2', 'Long-term debt_2', 'EBIT_2', 'Gross Profit_2', 'Retained Earnings_2', 'Total Revenue_2', 'Total Liabilities_2', 'Operating Expenses_2', 'Current assets_3', 'EBITDA_3', 'Inventory_3', 'Net income_3', 'Total Receivables_3', 'Market value_3', 'Long-term debt_3', 'EBIT_3', 'Gross Profit_3', 'Current Liabilities _3', 'Retained Earnings_3', 'Total Revenue_3', 'Operating Expenses_3']\n",
      "['Year_1', 'Current assets_1', 'Cost goods sold_1', 'DEP and AMO_1', 'Inventory_1', 'Net income_1', 'Total Receivables_1', 'Market value_1', 'Net sales_1', 'EBIT_1', 'Gross Profit_1', 'Retained Earnings_1', 'Total Revenue_1', 'Operating Expenses_1', 'Current assets_2', 'EBITDA_2', 'Inventory_2', 'Net income_2', 'Market value_2', 'Net sales_2', 'Total assets_2', 'Long-term debt_2', 'EBIT_2', 'Gross Profit_2', 'Retained Earnings_2', 'Total Revenue_2', 'Total Liabilities_2', 'Operating Expenses_2', 'Current assets_3', 'DEP and AMO_3', 'EBITDA_3', 'Inventory_3', 'Net income_3', 'Total Receivables_3', 'Market value_3', 'Net sales_3', 'Long-term debt_3', 'EBIT_3', 'Gross Profit_3', 'Current Liabilities _3', 'Retained Earnings_3', 'Total Revenue_3', 'Operating Expenses_3']\n",
      "['Year_1', 'Current assets_1', 'Cost goods sold_1', 'DEP and AMO_1', 'Net income_1', 'Total Receivables_1', 'Market value_1', 'Net sales_1', 'Total assets_1', 'EBIT_1', 'Gross Profit_1', 'Retained Earnings_1', 'Total Revenue_1', 'Operating Expenses_1', 'Current assets_2', 'EBITDA_2', 'Inventory_2', 'Net income_2', 'Market value_2', 'Net sales_2', 'Total assets_2', 'Long-term debt_2', 'EBIT_2', 'Gross Profit_2', 'Retained Earnings_2', 'Total Revenue_2', 'Total Liabilities_2', 'Operating Expenses_2', 'Current assets_3', 'DEP and AMO_3', 'EBITDA_3', 'Inventory_3', 'Net income_3', 'Total Receivables_3', 'Market value_3', 'Net sales_3', 'Long-term debt_3', 'EBIT_3', 'Gross Profit_3', 'Current Liabilities _3', 'Retained Earnings_3', 'Total Revenue_3', 'Total Liabilities_3', 'Operating Expenses_3']\n",
      "['Year_1', 'Current assets_1', 'Cost goods sold_1', 'DEP and AMO_1', 'Inventory_1', 'Net income_1', 'Total Receivables_1', 'Market value_1', 'Net sales_1', 'Total assets_1', 'EBIT_1', 'Gross Profit_1', 'Retained Earnings_1', 'Total Revenue_1', 'Operating Expenses_1', 'Current assets_2', 'EBITDA_2', 'Inventory_2', 'Net income_2', 'Market value_2', 'Net sales_2', 'Total assets_2', 'Long-term debt_2', 'EBIT_2', 'Gross Profit_2', 'Retained Earnings_2', 'Total Revenue_2', 'Total Liabilities_2', 'Operating Expenses_2', 'Current assets_3', 'DEP and AMO_3', 'EBITDA_3', 'Inventory_3', 'Net income_3', 'Total Receivables_3', 'Market value_3', 'Net sales_3', 'Long-term debt_3', 'EBIT_3', 'Gross Profit_3', 'Current Liabilities _3', 'Retained Earnings_3', 'Total Revenue_3', 'Total Liabilities_3', 'Operating Expenses_3']\n",
      "['Year_1', 'Current assets_1', 'Cost goods sold_1', 'DEP and AMO_1', 'Inventory_1', 'Net income_1', 'Total Receivables_1', 'Market value_1', 'Net sales_1', 'Long-term debt_1', 'EBIT_1', 'Gross Profit_1', 'Retained Earnings_1', 'Total Revenue_1', 'Operating Expenses_1', 'Current assets_2', 'Cost goods sold_2', 'EBITDA_2', 'Inventory_2', 'Net income_2', 'Market value_2', 'Net sales_2', 'Total assets_2', 'Long-term debt_2', 'EBIT_2', 'Gross Profit_2', 'Retained Earnings_2', 'Total Revenue_2', 'Total Liabilities_2', 'Operating Expenses_2', 'Current assets_3', 'DEP and AMO_3', 'EBITDA_3', 'Inventory_3', 'Net income_3', 'Total Receivables_3', 'Market value_3', 'Net sales_3', 'Long-term debt_3', 'EBIT_3', 'Gross Profit_3', 'Current Liabilities _3', 'Retained Earnings_3', 'Total Revenue_3', 'Total Liabilities_3', 'Operating Expenses_3']\n",
      "['Year_1', 'Current assets_1', 'Cost goods sold_1', 'DEP and AMO_1', 'Inventory_1', 'Net income_1', 'Total Receivables_1', 'Market value_1', 'Net sales_1', 'Total assets_1', 'Long-term debt_1', 'EBIT_1', 'Gross Profit_1', 'Retained Earnings_1', 'Total Revenue_1', 'Operating Expenses_1', 'Current assets_2', 'EBITDA_2', 'Inventory_2', 'Net income_2', 'Market value_2', 'Net sales_2', 'Total assets_2', 'Long-term debt_2', 'EBIT_2', 'Gross Profit_2', 'Retained Earnings_2', 'Total Revenue_2', 'Total Liabilities_2', 'Operating Expenses_2', 'Current assets_3', 'DEP and AMO_3', 'EBITDA_3', 'Inventory_3', 'Net income_3', 'Total Receivables_3', 'Market value_3', 'Net sales_3', 'Total assets_3', 'Long-term debt_3', 'EBIT_3', 'Gross Profit_3', 'Current Liabilities _3', 'Retained Earnings_3', 'Total Revenue_3', 'Total Liabilities_3', 'Operating Expenses_3']\n",
      "['Year_1', 'Current assets_1', 'Cost goods sold_1', 'DEP and AMO_1', 'Inventory_1', 'Net income_1', 'Total Receivables_1', 'Market value_1', 'Net sales_1', 'Total assets_1', 'Long-term debt_1', 'EBIT_1', 'Gross Profit_1', 'Retained Earnings_1', 'Total Revenue_1', 'Operating Expenses_1', 'Current assets_2', 'Cost goods sold_2', 'EBITDA_2', 'Inventory_2', 'Net income_2', 'Market value_2', 'Net sales_2', 'Total assets_2', 'Long-term debt_2', 'EBIT_2', 'Gross Profit_2', 'Retained Earnings_2', 'Total Revenue_2', 'Total Liabilities_2', 'Operating Expenses_2', 'Current assets_3', 'DEP and AMO_3', 'EBITDA_3', 'Inventory_3', 'Net income_3', 'Total Receivables_3', 'Market value_3', 'Net sales_3', 'Total assets_3', 'Long-term debt_3', 'EBIT_3', 'Gross Profit_3', 'Current Liabilities _3', 'Retained Earnings_3', 'Total Revenue_3', 'Total Liabilities_3', 'Operating Expenses_3']\n",
      "['Year_1', 'Current assets_1', 'Cost goods sold_1', 'DEP and AMO_1', 'Inventory_1', 'Net income_1', 'Total Receivables_1', 'Market value_1', 'Net sales_1', 'Total assets_1', 'Long-term debt_1', 'EBIT_1', 'Gross Profit_1', 'Retained Earnings_1', 'Total Revenue_1', 'Operating Expenses_1', 'Current assets_2', 'EBITDA_2', 'Inventory_2', 'Net income_2', 'Market value_2', 'Net sales_2', 'Total assets_2', 'Long-term debt_2', 'EBIT_2', 'Gross Profit_2', 'Current Liabilities _2', 'Retained Earnings_2', 'Total Revenue_2', 'Total Liabilities_2', 'Operating Expenses_2', 'Current assets_3', 'Cost goods sold_3', 'DEP and AMO_3', 'EBITDA_3', 'Inventory_3', 'Net income_3', 'Total Receivables_3', 'Market value_3', 'Net sales_3', 'Total assets_3', 'Long-term debt_3', 'EBIT_3', 'Gross Profit_3', 'Current Liabilities _3', 'Retained Earnings_3', 'Total Revenue_3', 'Total Liabilities_3', 'Operating Expenses_3']\n",
      "['Year_1', 'Current assets_1', 'Cost goods sold_1', 'DEP and AMO_1', 'Inventory_1', 'Net income_1', 'Total Receivables_1', 'Market value_1', 'Net sales_1', 'Total assets_1', 'EBIT_1', 'Gross Profit_1', 'Retained Earnings_1', 'Total Revenue_1', 'Operating Expenses_1', 'Current assets_2', 'Cost goods sold_2', 'EBITDA_2', 'Inventory_2', 'Net income_2', 'Total Receivables_2', 'Market value_2', 'Net sales_2', 'Total assets_2', 'Long-term debt_2', 'EBIT_2', 'Gross Profit_2', 'Current Liabilities _2', 'Retained Earnings_2', 'Total Revenue_2', 'Total Liabilities_2', 'Operating Expenses_2', 'Current assets_3', 'Cost goods sold_3', 'DEP and AMO_3', 'EBITDA_3', 'Inventory_3', 'Net income_3', 'Total Receivables_3', 'Market value_3', 'Net sales_3', 'Total assets_3', 'Long-term debt_3', 'EBIT_3', 'Gross Profit_3', 'Current Liabilities _3', 'Retained Earnings_3', 'Total Revenue_3', 'Total Liabilities_3', 'Operating Expenses_3']\n",
      "['Year_1', 'Current assets_1', 'Cost goods sold_1', 'DEP and AMO_1', 'Inventory_1', 'Net income_1', 'Total Receivables_1', 'Market value_1', 'Net sales_1', 'Total assets_1', 'EBIT_1', 'Gross Profit_1', 'Retained Earnings_1', 'Total Revenue_1', 'Operating Expenses_1', 'Current assets_2', 'Cost goods sold_2', 'DEP and AMO_2', 'EBITDA_2', 'Inventory_2', 'Net income_2', 'Total Receivables_2', 'Market value_2', 'Net sales_2', 'Total assets_2', 'Long-term debt_2', 'EBIT_2', 'Gross Profit_2', 'Current Liabilities _2', 'Retained Earnings_2', 'Total Revenue_2', 'Total Liabilities_2', 'Operating Expenses_2', 'Current assets_3', 'Cost goods sold_3', 'DEP and AMO_3', 'EBITDA_3', 'Inventory_3', 'Net income_3', 'Total Receivables_3', 'Market value_3', 'Net sales_3', 'Total assets_3', 'Long-term debt_3', 'EBIT_3', 'Gross Profit_3', 'Current Liabilities _3', 'Retained Earnings_3', 'Total Revenue_3', 'Total Liabilities_3', 'Operating Expenses_3']\n",
      "['Year_1', 'Current assets_1', 'Cost goods sold_1', 'DEP and AMO_1', 'Net income_1', 'Total Receivables_1', 'Market value_1', 'Net sales_1', 'Total assets_1', 'EBIT_1', 'Gross Profit_1', 'Current Liabilities _1', 'Retained Earnings_1', 'Total Revenue_1', 'Total Liabilities_1', 'Operating Expenses_1', 'Current assets_2', 'Cost goods sold_2', 'DEP and AMO_2', 'EBITDA_2', 'Inventory_2', 'Net income_2', 'Total Receivables_2', 'Market value_2', 'Net sales_2', 'Total assets_2', 'Long-term debt_2', 'EBIT_2', 'Gross Profit_2', 'Current Liabilities _2', 'Retained Earnings_2', 'Total Revenue_2', 'Total Liabilities_2', 'Operating Expenses_2', 'Current assets_3', 'Cost goods sold_3', 'DEP and AMO_3', 'EBITDA_3', 'Inventory_3', 'Net income_3', 'Total Receivables_3', 'Market value_3', 'Net sales_3', 'Total assets_3', 'Long-term debt_3', 'EBIT_3', 'Gross Profit_3', 'Current Liabilities _3', 'Retained Earnings_3', 'Total Revenue_3', 'Total Liabilities_3', 'Operating Expenses_3']\n",
      "['Year_1', 'Current assets_1', 'Cost goods sold_1', 'DEP and AMO_1', 'Net income_1', 'Total Receivables_1', 'Market value_1', 'Net sales_1', 'Total assets_1', 'Long-term debt_1', 'EBIT_1', 'Gross Profit_1', 'Current Liabilities _1', 'Retained Earnings_1', 'Total Revenue_1', 'Total Liabilities_1', 'Operating Expenses_1', 'Current assets_2', 'Cost goods sold_2', 'DEP and AMO_2', 'EBITDA_2', 'Inventory_2', 'Net income_2', 'Total Receivables_2', 'Market value_2', 'Net sales_2', 'Total assets_2', 'Long-term debt_2', 'EBIT_2', 'Gross Profit_2', 'Current Liabilities _2', 'Retained Earnings_2', 'Total Revenue_2', 'Total Liabilities_2', 'Operating Expenses_2', 'Current assets_3', 'Cost goods sold_3', 'DEP and AMO_3', 'EBITDA_3', 'Inventory_3', 'Net income_3', 'Total Receivables_3', 'Market value_3', 'Net sales_3', 'Total assets_3', 'Long-term debt_3', 'EBIT_3', 'Gross Profit_3', 'Current Liabilities _3', 'Retained Earnings_3', 'Total Revenue_3', 'Total Liabilities_3', 'Operating Expenses_3']\n",
      "['Year_1', 'Current assets_1', 'Cost goods sold_1', 'DEP and AMO_1', 'Inventory_1', 'Net income_1', 'Total Receivables_1', 'Market value_1', 'Net sales_1', 'Total assets_1', 'Long-term debt_1', 'EBIT_1', 'Gross Profit_1', 'Current Liabilities _1', 'Retained Earnings_1', 'Total Revenue_1', 'Total Liabilities_1', 'Operating Expenses_1', 'Current assets_2', 'Cost goods sold_2', 'DEP and AMO_2', 'EBITDA_2', 'Inventory_2', 'Net income_2', 'Total Receivables_2', 'Market value_2', 'Net sales_2', 'Total assets_2', 'Long-term debt_2', 'EBIT_2', 'Gross Profit_2', 'Current Liabilities _2', 'Retained Earnings_2', 'Total Revenue_2', 'Total Liabilities_2', 'Operating Expenses_2', 'Current assets_3', 'Cost goods sold_3', 'DEP and AMO_3', 'EBITDA_3', 'Inventory_3', 'Net income_3', 'Total Receivables_3', 'Market value_3', 'Net sales_3', 'Total assets_3', 'Long-term debt_3', 'EBIT_3', 'Gross Profit_3', 'Current Liabilities _3', 'Retained Earnings_3', 'Total Revenue_3', 'Total Liabilities_3', 'Operating Expenses_3']\n",
      "['Year_1', 'Current assets_1', 'Cost goods sold_1', 'DEP and AMO_1', 'EBITDA_1', 'Inventory_1', 'Net income_1', 'Total Receivables_1', 'Market value_1', 'Net sales_1', 'Total assets_1', 'Long-term debt_1', 'EBIT_1', 'Gross Profit_1', 'Current Liabilities _1', 'Retained Earnings_1', 'Total Revenue_1', 'Total Liabilities_1', 'Operating Expenses_1', 'Current assets_2', 'Cost goods sold_2', 'DEP and AMO_2', 'EBITDA_2', 'Inventory_2', 'Net income_2', 'Total Receivables_2', 'Market value_2', 'Net sales_2', 'Total assets_2', 'Long-term debt_2', 'EBIT_2', 'Gross Profit_2', 'Current Liabilities _2', 'Retained Earnings_2', 'Total Revenue_2', 'Total Liabilities_2', 'Operating Expenses_2', 'Current assets_3', 'Cost goods sold_3', 'DEP and AMO_3', 'EBITDA_3', 'Inventory_3', 'Net income_3', 'Total Receivables_3', 'Market value_3', 'Net sales_3', 'Total assets_3', 'Long-term debt_3', 'EBIT_3', 'Gross Profit_3', 'Current Liabilities _3', 'Retained Earnings_3', 'Total Revenue_3', 'Total Liabilities_3', 'Operating Expenses_3']\n"
     ]
    },
    {
     "data": {
      "image/png": "[encoded data removed]",
      "text/plain": [
       "<Figure size 1200x600 with 1 Axes>"
      ]
     },
     "metadata": {},
     "output_type": "display_data"
    }
   ],
   "source": [
    "import numpy as np\n",
    "from sklearn.metrics import make_scorer, precision_score, recall_score\n",
    "\n",
    "original = np.zeros(55)\n",
    "\n",
    "\n",
    "recall = make_scorer(recall_score, pos_label=\"failed\")\n",
    "\n",
    "X_bank_df = pd.DataFrame(X_bank, columns=df.columns[2:])\n",
    "\n",
    "print(len(X_bank_df.columns))\n",
    "\n",
    "for i in range(55):\n",
    "    selector = SelectKBest(mutual_info_classif, k=i+1)\n",
    "    X_reduced = selector.fit_transform(X2, y_bank)\n",
    "    cols_idxs = selector.get_support(indices=True)\n",
    "    nombres = [X_bank_df.columns[j] for j in cols_idxs]\n",
    "    cv = StratifiedKFold(n_splits=10, random_state=1, shuffle=True)\n",
    "    cv_scores = cross_val_score(nb.KNeighborsClassifier(), X=X_reduced,y=y_bank, cv=cv, scoring=recall)\n",
    "    original[i]=np.mean(cv_scores)\n",
    "\n",
    "fig = plt.figure(figsize = (12, 6))  # Just declare the figure object and give dimensions\n",
    "plt.grid(True)\n",
    "plt.title(\"Evolution of the accuracy against number of features used to train the model\")\n",
    "plt.ylabel(\"Accuracy of the model\")\n",
    "plt.xlabel(\"Number of features\")\n",
    "plt.xticks(np.arange(0, 55, step=1))\n",
    "plt.plot(range(1,56), original)\n",
    "plt.show()"
   ]
  },
  {
   "cell_type": "code",
   "execution_count": null,
   "metadata": {},
   "outputs": [],
   "source": []
  }
 ],
 "metadata": {
  "kernelspec": {
   "display_name": "Python 3 (ipykernel)",
   "language": "python",
   "name": "python3"
  },
  "language_info": {
   "codemirror_mode": {
    "name": "ipython",
    "version": 3
   },
   "file_extension": ".py",
   "mimetype": "text/x-python",
   "name": "python",
   "nbconvert_exporter": "python",
   "pygments_lexer": "ipython3",
   "version": "3.11.4"
  },
  "toc": {
   "base_numbering": 1,
   "nav_menu": {},
   "number_sections": true,
   "sideBar": true,
   "skip_h1_title": false,
   "title_cell": "Table of Contents",
   "title_sidebar": "Contents",
   "toc_cell": false,
   "toc_position": {},
   "toc_section_display": true,
   "toc_window_display": false
  }
 },
 "nbformat": 4,
 "nbformat_minor": 2
}
